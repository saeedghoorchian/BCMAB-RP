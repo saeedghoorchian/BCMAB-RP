{
 "cells": [
  {
   "cell_type": "markdown",
   "id": "f435a5df",
   "metadata": {},
   "source": [
    "# Search for a subset of data suitable for a test set\n",
    "\n",
    "We want to find some set of items that were all rated by some subset of users. This would give us a test subset with full feedback."
   ]
  },
  {
   "cell_type": "code",
   "execution_count": 1,
   "id": "8b18d6a5",
   "metadata": {},
   "outputs": [],
   "source": [
    "%load_ext autoreload\n",
    "%autoreload 2"
   ]
  },
  {
   "cell_type": "code",
   "execution_count": 2,
   "id": "c22ac7eb",
   "metadata": {},
   "outputs": [],
   "source": [
    "import os\n",
    "os.chdir('..')"
   ]
  },
  {
   "cell_type": "code",
   "execution_count": 3,
   "id": "5c21c58d",
   "metadata": {},
   "outputs": [],
   "source": [
    "import datetime\n",
    "import numpy as np\n",
    "import pandas as pd\n",
    "import matplotlib.pyplot as plt\n",
    "import time\n",
    "from datetime import datetime\n",
    "import surprise as sp\n",
    "\n",
    "from data_loading import get_movielens_data"
   ]
  },
  {
   "cell_type": "code",
   "execution_count": 4,
   "id": "4f9c457f",
   "metadata": {},
   "outputs": [],
   "source": [
    "# Reproducibility\n",
    "seed = 42\n",
    "np.random.seed(seed)"
   ]
  },
  {
   "cell_type": "code",
   "execution_count": 5,
   "id": "b28e4434",
   "metadata": {},
   "outputs": [],
   "source": [
    "PROJECT_DIR = '.'"
   ]
  },
  {
   "cell_type": "code",
   "execution_count": 9,
   "id": "66b9be8f",
   "metadata": {},
   "outputs": [],
   "source": [
    "def print_mean_rewards(reward_list, actions):\n",
    "    watched_list_series = (\n",
    "        reward_list.groupby(\"user_id\")[\"item_id\"].agg(set=set).set\n",
    "    )\n",
    "    user_id_to_watched_list_index = {\n",
    "        uid: ind for ind, uid in enumerate(watched_list_series.index)\n",
    "    }\n",
    "    reward_matrix = np.zeros((len(user_id_to_watched_list_index), len(actions)))\n",
    "    for uid, ind in user_id_to_watched_list_index.items():\n",
    "        watched_list = watched_list_series.iloc[ind]\n",
    "        watched_indices = [i for i in range(len(actions)) if actions[i] in watched_list]\n",
    "        # Binary vector of rewards for each arm.\n",
    "        reward_matrix[ind, watched_indices] = 1\n",
    "\n",
    "    mean_rew = reward_matrix.mean(axis=0)\n",
    "\n",
    "    print(f\"Reward of best 50 arms: {np.sort(mean_rew)[::-1][:50]}\")\n",
    "    print(f\"Sum of rewards:\\t {mean_rew.sum()}\")"
   ]
  },
  {
   "cell_type": "code",
   "execution_count": 10,
   "id": "eacee4e8",
   "metadata": {},
   "outputs": [],
   "source": [
    "AMAZON_NUMBER_OF_ACTIONS = 400\n",
    "THRESHOLD = None\n",
    "\n",
    "def create_actions_users_and_rewards(ratings_df):\n",
    "    \"\"\"Preprocess the original dataframe to extract actions, users and rewards from it.\n",
    "\n",
    "    1. Extract top AMAZON_NUMBER_OF_ACTIONS items from the data (sort by number of ratings).\n",
    "    2. Then extract users which rated those extracted items. This way, for every user at least one arm\n",
    "    will have reward 1 later.\n",
    "    3. Create rewards from ratings by considering rating > 3.0 being reward 1. Then only save user-item-reward \n",
    "    triplets\n",
    "    for rewards equal to 1. This way we can filter by user during evaluation and if item is there reward is 1.\n",
    "    \"\"\"\n",
    "    # Choose a less sparse subset of data with a length of 1 year.\n",
    "    YEARS_BEHIND = 5.8\n",
    "    max_ts = ratings_df.timestamp.max()\n",
    "    start_time = max_ts - 3600 * 24 * 365 * YEARS_BEHIND\n",
    "    end_time = max_ts - 3600 * 24 * 365 * (YEARS_BEHIND-0.5)\n",
    "    print(f\"Start time: {datetime.fromtimestamp(start_time)}\")\n",
    "    print(f\"End time: {datetime.fromtimestamp(end_time)}\")\n",
    "    ratings_df = ratings_df[ratings_df.timestamp > start_time]\n",
    "    ratings_df = ratings_df[ratings_df.timestamp < end_time]\n",
    "\n",
    "    actions = ratings_df.groupby(\"item_id\").size().sort_values(ascending=False)[:AMAZON_NUMBER_OF_ACTIONS]\n",
    "    actions = list(actions.index)\n",
    "\n",
    "    # Only consider users that have watched some movies from the considered actions.\n",
    "    top_ratings = ratings_df[ratings_df[\"item_id\"].isin(actions)]\n",
    "    top_ratings = top_ratings.sort_values(\"timestamp\", ascending=1)\n",
    "    user_stream = top_ratings[[\"user_id\", \"timestamp\"]]\n",
    "\n",
    "    NUM_UNIQUE_USERS = 7000\n",
    "    top_users = list(top_ratings.groupby('user_id').size().sort_values(ascending=False)[:NUM_UNIQUE_USERS].index)\n",
    "    user_stream = user_stream[user_stream.user_id.isin(top_users)]\n",
    "    user_stream = user_stream.drop_duplicates(subset=['user_id'])\n",
    "    users = set(user_stream.user_id)\n",
    "\n",
    "    user_stream = user_stream.sample(n=135000, replace=True, random_state=42)\n",
    "\n",
    "    print(f\"Experiments has {len(actions)} items,\\n{len(user_stream)} users\\nof which {len(users)} are unique.\")\n",
    "\n",
    "    top_ratings = top_ratings[top_ratings.user_id.isin(users)]\n",
    "\n",
    "    if THRESHOLD is not None:\n",
    "        top_ratings[\"reward\"] = np.where(top_ratings[\"rating\"] >= THRESHOLD, 1, 0)\n",
    "    else:\n",
    "        top_ratings[\"reward\"] = np.where(top_ratings[\"rating\"] >= 0.0, 1, 0)\n",
    "    reward_list = top_ratings[[\"user_id\", \"item_id\", \"reward\", \"rating\"]]\n",
    "    reward_list = reward_list[reward_list['reward'] == 1]\n",
    "    print_mean_rewards(reward_list, actions)\n",
    "    # Used for NDCG computation\n",
    "    ratings_list = top_ratings[[\"user_id\", \"item_id\", \"reward\"]]\n",
    "    return top_ratings, actions, user_stream, reward_list, ratings_list\n"
   ]
  },
  {
   "cell_type": "code",
   "execution_count": 16,
   "id": "d97ea18e",
   "metadata": {},
   "outputs": [],
   "source": [
    "jokes = sp.Dataset.load_builtin(name='jester')\n",
    "for i, row in enumerate(jokes.raw_ratings):\n",
    "    rowl = list(row)\n",
    "    # Min rating is -10\n",
    "    rowl[2] += 10\n",
    "    jokes.raw_ratings[i] = tuple(rowl)\n",
    "\n",
    "# svd_testset is basically zero, so that we can have all test_user_ids in the train set (fully labeled users)\n",
    "trainset, testset = sp.model_selection.train_test_split(jokes, test_size=0.3)"
   ]
  },
  {
   "cell_type": "code",
   "execution_count": null,
   "id": "03ee8982",
   "metadata": {},
   "outputs": [],
   "source": []
  },
  {
   "cell_type": "code",
   "execution_count": 17,
   "id": "9d306b5b",
   "metadata": {},
   "outputs": [
    {
     "name": "stdout",
     "output_type": "stream",
     "text": [
      "User-rating matrix filled to total ratio: 0.15045771588668266\n"
     ]
    }
   ],
   "source": [
    "print(f\"User-rating matrix filled to total ratio: {trainset.n_ratings / (trainset.n_items * trainset.n_users)}\")"
   ]
  },
  {
   "cell_type": "code",
   "execution_count": 18,
   "id": "421a2708",
   "metadata": {},
   "outputs": [
    {
     "data": {
      "text/plain": [
       "(1233007, 140, 58536)"
      ]
     },
     "execution_count": 18,
     "metadata": {},
     "output_type": "execute_result"
    }
   ],
   "source": [
    "trainset.n_ratings, trainset.n_items, trainset.n_users"
   ]
  },
  {
   "cell_type": "code",
   "execution_count": 19,
   "id": "8a0e4154",
   "metadata": {},
   "outputs": [
    {
     "data": {
      "text/plain": [
       "528432"
      ]
     },
     "execution_count": 19,
     "metadata": {},
     "output_type": "execute_result"
    }
   ],
   "source": [
    "len(testset)"
   ]
  },
  {
   "cell_type": "code",
   "execution_count": 23,
   "id": "a8477f72",
   "metadata": {},
   "outputs": [
    {
     "data": {
      "text/plain": [
       "41.100233333333335"
      ]
     },
     "execution_count": 23,
     "metadata": {},
     "output_type": "execute_result"
    }
   ],
   "source": [
    "1233007 / 30000"
   ]
  },
  {
   "cell_type": "markdown",
   "id": "13031338",
   "metadata": {},
   "source": [
    "## Getting train and test error for different regularization parameters"
   ]
  },
  {
   "cell_type": "code",
   "execution_count": 21,
   "id": "248bddc2",
   "metadata": {
    "scrolled": true
   },
   "outputs": [
    {
     "name": "stdout",
     "output_type": "stream",
     "text": [
      "Regularization parameter: 0.001\n",
      "RMSE: 4.5449\n",
      "RMSE: 5.3084\n",
      "RMSE of SVD: 5.3083641410011\n",
      "Took 113.38804626464844 seconds.\n",
      "Regularization parameter: 0.005\n",
      "RMSE: 4.5506\n",
      "RMSE: 5.2993\n",
      "RMSE of SVD: 5.2992590853344925\n",
      "Took 117.6021180152893 seconds.\n",
      "Regularization parameter: 0.01\n",
      "RMSE: 4.5651\n",
      "RMSE: 5.3056\n",
      "RMSE of SVD: 5.305556106218803\n",
      "Took 124.97093987464905 seconds.\n",
      "Regularization parameter: 0.02\n",
      "RMSE: 4.6057\n",
      "RMSE: 5.3157\n",
      "RMSE of SVD: 5.315726898071278\n",
      "Took 117.8295829296112 seconds.\n",
      "Regularization parameter: 0.05\n",
      "RMSE: 4.7371\n",
      "RMSE: 5.3303\n",
      "RMSE of SVD: 5.330339014782138\n",
      "Took 113.14555501937866 seconds.\n",
      "Regularization parameter: 0.1\n",
      "RMSE: 4.8567\n",
      "RMSE: 5.3466\n",
      "RMSE of SVD: 5.3466077478103\n",
      "Took 119.71616315841675 seconds.\n",
      "Regularization parameter: 0.2\n",
      "RMSE: 5.0140\n",
      "RMSE: 5.3648\n",
      "RMSE of SVD: 5.364800854638717\n",
      "Took 123.64467406272888 seconds.\n",
      "Regularization parameter: 0.5\n",
      "RMSE: 5.2881\n",
      "RMSE: 5.3882\n",
      "RMSE of SVD: 5.388194201878669\n",
      "Took 114.03778505325317 seconds.\n",
      "Regularization parameter: 1.0\n",
      "RMSE: 5.3876\n",
      "RMSE: 5.4209\n",
      "RMSE of SVD: 5.420907255502415\n",
      "Took 112.6221570968628 seconds.\n",
      "Regularization parameter: 5\n",
      "RMSE: 5.5388\n",
      "RMSE: 5.5424\n",
      "RMSE of SVD: 5.542387549159726\n",
      "Took 116.31219506263733 seconds.\n",
      "Regularization parameter: 10\n",
      "RMSE: 5.5433\n",
      "RMSE: 5.5462\n",
      "RMSE of SVD: 5.54615215834073\n",
      "Took 116.29801893234253 seconds.\n",
      "Regularization parameter: 100\n",
      "RMSE: 5.5433\n",
      "RMSE: 5.5462\n",
      "RMSE of SVD: 5.546152424471189\n",
      "Took 113.54142093658447 seconds.\n",
      "All test RMSEs: [5.30836414 5.29925909 5.30555611 5.3157269  5.33033901 5.34660775\n",
      " 5.36480085 5.3881942  5.42090726 5.54238755 5.54615216 5.54615242]\n"
     ]
    }
   ],
   "source": [
    "# reg_bus = [0.01, 0.05, 0.1, 0.5, 1.0, 10]\n",
    "# reg_bis = [0.01, 0.05, 0.1, 0.5, 1.0, 10]\n",
    "# reg_pus = [0.01, 0.05, 0.1, 0.5, 1.0, 10]\n",
    "# reg_qis = [0.01, 0.05, 0.1, 0.5, 1.0, 10]\n",
    "# grid = list(itertools.product(reg_bus, reg_bis, reg_pus, reg_qis))\n",
    "\n",
    "grid = [0.001, 0.005, 0.01, 0.02, 0.05, 0.1, 0.2, 0.5, 1.0, 5, 10, 100]\n",
    "\n",
    "train_rmses = np.zeros(len(grid))\n",
    "test_rmses = np.zeros(len(grid))\n",
    "trainset_to_test = trainset.build_testset()\n",
    "for i, reg_params in enumerate(grid):\n",
    "#     reg_bu, reg_bi, reg_pu, reg_qi = reg_params\n",
    "    reg_all=reg_params\n",
    "    print(f\"Regularization parameter: {reg_params}\")\n",
    "    svd_start_ts = time.time()\n",
    "#     svd = sp.SVD(\n",
    "#         n_factors=100, n_epochs=250, random_state=42,\n",
    "#         lr_all=0.01, reg_bu=reg_bu, reg_bi=reg_bi, reg_pu=reg_pu, reg_qi=reg_qi,        \n",
    "#     )\n",
    "    svd = sp.SVD(\n",
    "        n_factors=150, n_epochs=250, random_state=42,\n",
    "        lr_all=0.01, reg_all=reg_all   \n",
    "    )\n",
    "    svd.fit(trainset)\n",
    "    # Report train RMSE \n",
    "    train_preds = svd.test(trainset_to_test)\n",
    "    rmse_train = sp.accuracy.rmse(train_preds)\n",
    "    # Then report test RMSE\n",
    "    predictions = svd.test(testset)\n",
    "    rmse = sp.accuracy.rmse(predictions)\n",
    "    print(f\"RMSE of SVD: {rmse}\")\n",
    "    print(f\"Took {time.time() - svd_start_ts} seconds.\")\n",
    "    test_rmses[i] = rmse\n",
    "    train_rmses[i] = rmse_train\n",
    "\n",
    "    \n",
    "print(f\"All test RMSEs: {test_rmses}\")"
   ]
  },
  {
   "cell_type": "code",
   "execution_count": 24,
   "id": "921348ca",
   "metadata": {},
   "outputs": [
    {
     "data": {
      "image/png": "[encoded data removed]",
      "text/plain": [
       "<Figure size 640x480 with 1 Axes>"
      ]
     },
     "metadata": {},
     "output_type": "display_data"
    },
    {
     "data": {
      "text/plain": [
       "[0.001, 0.005, 0.01, 0.02, 0.05, 0.1, 0.2, 0.5, 1.0, 5, 10, 100]"
      ]
     },
     "execution_count": 24,
     "metadata": {},
     "output_type": "execute_result"
    }
   ],
   "source": [
    "fig, ax = plt.subplots(1,1)\n",
    "\n",
    "ax.plot(grid[:9], train_rmses[:9], label='Train rmse')\n",
    "ax.plot(grid[:9], test_rmses[:9], label='Test rmse')\n",
    "ax.set_xlabel('Regularizers')\n",
    "ax.set_ylabel('RMSE')\n",
    "\n",
    "ax.legend()\n",
    "plt.show()\n",
    "\n",
    "grid"
   ]
  },
  {
   "cell_type": "code",
   "execution_count": null,
   "id": "9f49bc47",
   "metadata": {},
   "outputs": [],
   "source": []
  },
  {
   "cell_type": "code",
   "execution_count": 131,
   "id": "2528167e",
   "metadata": {},
   "outputs": [
    {
     "data": {
      "text/plain": [
       "0.6561024768356988"
      ]
     },
     "execution_count": 131,
     "metadata": {},
     "output_type": "execute_result"
    }
   ],
   "source": [
    "best_rmse = np.min(test_rmses); best_rmse"
   ]
  },
  {
   "cell_type": "code",
   "execution_count": 132,
   "id": "d1043451",
   "metadata": {},
   "outputs": [
    {
     "data": {
      "text/plain": [
       "(0.1, 0.1, 0.5, 0.01)"
      ]
     },
     "execution_count": 132,
     "metadata": {},
     "output_type": "execute_result"
    }
   ],
   "source": [
    "best_param = grid[np.argmin(test_rmses)]; best_param"
   ]
  },
  {
   "cell_type": "code",
   "execution_count": null,
   "id": "d366d4bb",
   "metadata": {},
   "outputs": [],
   "source": []
  },
  {
   "cell_type": "code",
   "execution_count": null,
   "id": "56c1a5bd",
   "metadata": {},
   "outputs": [],
   "source": []
  },
  {
   "cell_type": "code",
   "execution_count": 127,
   "id": "9281e72f",
   "metadata": {},
   "outputs": [
    {
     "data": {
      "text/plain": [
       "0.6585922638271475"
      ]
     },
     "execution_count": 127,
     "metadata": {},
     "output_type": "execute_result"
    }
   ],
   "source": [
    "best_rmse = np.min(test_rmses); best_rmse"
   ]
  },
  {
   "cell_type": "code",
   "execution_count": 129,
   "id": "e5693960",
   "metadata": {},
   "outputs": [
    {
     "data": {
      "text/plain": [
       "0.05"
      ]
     },
     "execution_count": 129,
     "metadata": {},
     "output_type": "execute_result"
    }
   ],
   "source": [
    "best_param = grid[np.argmin(test_rmses)]; best_param"
   ]
  },
  {
   "cell_type": "markdown",
   "id": "6eff34e2",
   "metadata": {},
   "source": [
    "## Getting train and test error for different num of epochs"
   ]
  },
  {
   "cell_type": "code",
   "execution_count": 29,
   "id": "cb2ce387",
   "metadata": {},
   "outputs": [
    {
     "name": "stdout",
     "output_type": "stream",
     "text": [
      "Number of epochs: 1\n",
      "RMSE: 5.1876\n",
      "RMSE: 5.3701\n",
      "RMSE of SVD: 5.370090642793653\n",
      "Took 10.713383913040161 seconds.\n",
      "Number of epochs: 10\n",
      "RMSE: 4.5829\n",
      "RMSE: 5.3779\n",
      "RMSE of SVD: 5.3778637922603165\n",
      "Took 14.676542043685913 seconds.\n",
      "Number of epochs: 50\n",
      "RMSE: 4.5496\n",
      "RMSE: 5.3600\n",
      "RMSE of SVD: 5.35997389578649\n",
      "Took 31.285079956054688 seconds.\n",
      "Number of epochs: 100\n",
      "RMSE: 4.5473\n",
      "RMSE: 5.3574\n",
      "RMSE of SVD: 5.357363855900846\n",
      "Took 51.00141382217407 seconds.\n",
      "All test RMSEs: [5.37009064 5.37786379 5.3599739  5.35736386]\n"
     ]
    }
   ],
   "source": [
    "epochs = [1, 10, 50, 100]\n",
    "train_rmses = np.zeros(len(epochs))\n",
    "test_rmses = np.zeros(len(epochs))\n",
    "trainset_to_test = trainset.build_testset()\n",
    "for i, n_epoch in enumerate(epochs):\n",
    "    print(f\"Number of epochs: {n_epoch}\")\n",
    "    svd_start_ts = time.time()\n",
    "    svd = sp.SVD(\n",
    "        n_factors=150, n_epochs=n_epoch, random_state=42,\n",
    "        lr_all=0.01, reg_all=0.0,        \n",
    "                )\n",
    "    svd.fit(trainset)\n",
    "    # Report train RMSE \n",
    "    train_preds = svd.test(trainset_to_test)\n",
    "    rmse_train = sp.accuracy.rmse(train_preds)\n",
    "    # Then report test RMSE\n",
    "    predictions = svd.test(testset)\n",
    "    rmse = sp.accuracy.rmse(predictions)\n",
    "    print(f\"RMSE of SVD: {rmse}\")\n",
    "    print(f\"Took {time.time() - svd_start_ts} seconds.\")\n",
    "    test_rmses[i] = rmse\n",
    "    train_rmses[i] = rmse_train\n",
    "\n",
    "print(f\"All test RMSEs: {test_rmses}\")"
   ]
  },
  {
   "cell_type": "code",
   "execution_count": 30,
   "id": "bb8a178b",
   "metadata": {},
   "outputs": [
    {
     "data": {
      "image/png": "[encoded data removed]",
      "text/plain": [
       "<Figure size 640x480 with 1 Axes>"
      ]
     },
     "metadata": {},
     "output_type": "display_data"
    }
   ],
   "source": [
    "fig, ax = plt.subplots(1,1)\n",
    "\n",
    "ax.plot(epochs, train_rmses, label='Train rmse')\n",
    "ax.plot(epochs, test_rmses, label='Test rmse')\n",
    "ax.set_xlabel('Epochs')\n",
    "ax.set_ylabel('RMSE')\n",
    "\n",
    "ax.legend()\n",
    "plt.show()"
   ]
  },
  {
   "cell_type": "code",
   "execution_count": null,
   "id": "0ea4c27e",
   "metadata": {},
   "outputs": [],
   "source": []
  },
  {
   "cell_type": "code",
   "execution_count": 27,
   "id": "a466d8aa",
   "metadata": {
    "scrolled": true
   },
   "outputs": [
    {
     "name": "stdout",
     "output_type": "stream",
     "text": [
      "Number of epochs: 1\n",
      "RMSE: 5.4464\n",
      "RMSE: 5.4586\n",
      "RMSE of SVD: 5.45863448490639\n",
      "Took 10.654633045196533 seconds.\n",
      "Number of epochs: 10\n",
      "RMSE: 5.3180\n",
      "RMSE: 5.3828\n",
      "RMSE of SVD: 5.382776294211442\n",
      "Took 13.843350172042847 seconds.\n",
      "Number of epochs: 50\n",
      "RMSE: 5.2745\n",
      "RMSE: 5.3874\n",
      "RMSE of SVD: 5.387358971746903\n",
      "Took 30.343273878097534 seconds.\n",
      "Number of epochs: 100\n",
      "RMSE: 5.2622\n",
      "RMSE: 5.3871\n",
      "RMSE of SVD: 5.38711310738404\n",
      "Took 51.00759291648865 seconds.\n",
      "All test RMSEs: [5.45863448 5.38277629 5.38735897 5.38711311]\n"
     ]
    }
   ],
   "source": [
    "epochs = [1, 10, 50, 100]\n",
    "train_rmses = np.zeros(len(epochs))\n",
    "test_rmses = np.zeros(len(epochs))\n",
    "trainset_to_test = trainset.build_testset()\n",
    "for i, n_epoch in enumerate(epochs):\n",
    "    print(f\"Number of epochs: {n_epoch}\")\n",
    "    svd_start_ts = time.time()\n",
    "    svd = sp.SVD(\n",
    "        n_factors=150, n_epochs=n_epoch, random_state=42,\n",
    "        lr_all=0.01, reg_all=0.4,        \n",
    "                )\n",
    "    svd.fit(trainset)\n",
    "    # Report train RMSE \n",
    "    train_preds = svd.test(trainset_to_test)\n",
    "    rmse_train = sp.accuracy.rmse(train_preds)\n",
    "    # Then report test RMSE\n",
    "    predictions = svd.test(testset)\n",
    "    rmse = sp.accuracy.rmse(predictions)\n",
    "    print(f\"RMSE of SVD: {rmse}\")\n",
    "    print(f\"Took {time.time() - svd_start_ts} seconds.\")\n",
    "    test_rmses[i] = rmse\n",
    "    train_rmses[i] = rmse_train\n",
    "\n",
    "print(f\"All test RMSEs: {test_rmses}\")"
   ]
  },
  {
   "cell_type": "code",
   "execution_count": 28,
   "id": "9737931a",
   "metadata": {},
   "outputs": [
    {
     "data": {
      "image/png": "[encoded data removed]",
      "text/plain": [
       "<Figure size 640x480 with 1 Axes>"
      ]
     },
     "metadata": {},
     "output_type": "display_data"
    }
   ],
   "source": [
    "fig, ax = plt.subplots(1,1)\n",
    "\n",
    "ax.plot(epochs, train_rmses, label='Train rmse')\n",
    "ax.plot(epochs, test_rmses, label='Test rmse')\n",
    "ax.set_xlabel('Epochs')\n",
    "ax.set_ylabel('RMSE')\n",
    "\n",
    "ax.legend()\n",
    "plt.show()"
   ]
  },
  {
   "cell_type": "code",
   "execution_count": null,
   "id": "1a96b62c",
   "metadata": {},
   "outputs": [],
   "source": []
  },
  {
   "cell_type": "code",
   "execution_count": null,
   "id": "a126a0bf",
   "metadata": {},
   "outputs": [],
   "source": []
  },
  {
   "cell_type": "code",
   "execution_count": null,
   "id": "125f7a57",
   "metadata": {},
   "outputs": [],
   "source": []
  },
  {
   "cell_type": "code",
   "execution_count": null,
   "id": "b2f3b35a",
   "metadata": {},
   "outputs": [],
   "source": []
  },
  {
   "cell_type": "code",
   "execution_count": null,
   "id": "fcef5537",
   "metadata": {},
   "outputs": [],
   "source": []
  },
  {
   "cell_type": "code",
   "execution_count": null,
   "id": "b264d9b3",
   "metadata": {},
   "outputs": [],
   "source": []
  },
  {
   "cell_type": "markdown",
   "id": "e53215b3",
   "metadata": {},
   "source": [
    "## Training for many different dimensions"
   ]
  },
  {
   "cell_type": "code",
   "execution_count": 55,
   "id": "002d43a2",
   "metadata": {},
   "outputs": [
    {
     "name": "stdout",
     "output_type": "stream",
     "text": [
      "Num features: 1\n",
      "RMSE: 0.5586\n",
      "RMSE: 0.6773\n",
      "RMSE of SVD: 0.6773297186825369\n",
      "Took 0.5489418506622314 seconds.\n",
      "Num features: 10\n",
      "RMSE: 0.4806\n",
      "RMSE: 0.6734\n",
      "RMSE of SVD: 0.6734411655777713\n",
      "Took 0.3321061134338379 seconds.\n",
      "Num features: 20\n",
      "RMSE: 0.4365\n",
      "RMSE: 0.6710\n",
      "RMSE of SVD: 0.670961176849306\n",
      "Took 1.944282054901123 seconds.\n",
      "Num features: 30\n",
      "RMSE: 0.3942\n",
      "RMSE: 0.6769\n",
      "RMSE of SVD: 0.6769142822664116\n",
      "Took 0.6041898727416992 seconds.\n",
      "Num features: 40\n",
      "RMSE: 0.3700\n",
      "RMSE: 0.6739\n",
      "RMSE of SVD: 0.6739245852470429\n",
      "Took 0.710284948348999 seconds.\n",
      "Num features: 50\n",
      "RMSE: 0.3410\n",
      "RMSE: 0.6720\n",
      "RMSE of SVD: 0.6719969497741214\n",
      "Took 0.5037150382995605 seconds.\n",
      "Num features: 60\n",
      "RMSE: 0.3237\n",
      "RMSE: 0.6728\n",
      "RMSE of SVD: 0.6727970217223954\n",
      "Took 0.43529772758483887 seconds.\n",
      "Num features: 70\n",
      "RMSE: 0.3089\n",
      "RMSE: 0.6762\n",
      "RMSE of SVD: 0.676212114236966\n",
      "Took 0.519780158996582 seconds.\n",
      "Num features: 80\n",
      "RMSE: 0.2926\n",
      "RMSE: 0.6784\n",
      "RMSE of SVD: 0.6784009810357792\n",
      "Took 0.4868490695953369 seconds.\n",
      "Num features: 90\n",
      "RMSE: 0.2792\n",
      "RMSE: 0.6760\n",
      "RMSE of SVD: 0.6760231736572688\n",
      "Took 0.5691862106323242 seconds.\n",
      "Num features: 100\n",
      "RMSE: 0.2664\n",
      "RMSE: 0.6767\n",
      "RMSE of SVD: 0.6767323850384678\n",
      "Took 0.5327951908111572 seconds.\n",
      "Num features: 150\n",
      "RMSE: 0.2271\n",
      "RMSE: 0.6785\n",
      "RMSE of SVD: 0.6784657291131644\n",
      "Took 0.7309768199920654 seconds.\n",
      "Num features: 200\n",
      "RMSE: 0.2016\n",
      "RMSE: 0.6805\n",
      "RMSE of SVD: 0.680545730974015\n",
      "Took 0.8052549362182617 seconds.\n",
      "Num features: 250\n",
      "RMSE: 0.1836\n",
      "RMSE: 0.6798\n",
      "RMSE of SVD: 0.6797952345541891\n",
      "Took 1.0066819190979004 seconds.\n",
      "Num features: 300\n",
      "RMSE: 0.1713\n",
      "RMSE: 0.6829\n",
      "RMSE of SVD: 0.6829283214101947\n",
      "Took 1.15895414352417 seconds.\n",
      "Num features: 350\n",
      "RMSE: 0.1616\n",
      "RMSE: 0.6853\n",
      "RMSE of SVD: 0.6853319569924583\n",
      "Took 1.3274402618408203 seconds.\n",
      "Num features: 400\n",
      "RMSE: 0.1553\n",
      "RMSE: 0.6940\n",
      "RMSE of SVD: 0.6940103500293155\n",
      "Took 1.5214078426361084 seconds.\n",
      "All test RMSEs: [0.67732972 0.67344117 0.67096118 0.67691428 0.67392459 0.67199695\n",
      " 0.67279702 0.67621211 0.67840098 0.67602317 0.67673239 0.67846573\n",
      " 0.68054573 0.67979523 0.68292832 0.68533196 0.69401035]\n"
     ]
    }
   ],
   "source": [
    "dimensions = [1, 10, 20, 30, 40, 50, 60, 70, 80, 90, 100, 150, 200, 250, 300, 350, 400]\n",
    "train_rmses = np.zeros(len(dimensions))\n",
    "test_rmses = np.zeros(len(dimensions))\n",
    "trainset_to_test = trainset.build_testset()\n",
    "for i, n_factor in enumerate(dimensions):\n",
    "    print(f\"Num features: {n_factor}\")\n",
    "    svd_start_ts = time.time()\n",
    "    svd = sp.SVD(n_factors=n_factor, n_epochs=50)\n",
    "    svd.fit(trainset)\n",
    "    # Report train RMSE \n",
    "    train_preds = svd.test(trainset_to_test)\n",
    "    rmse_train = sp.accuracy.rmse(train_preds)\n",
    "    # Then report test RMSE\n",
    "    predictions = svd.test(testset)\n",
    "    rmse = sp.accuracy.rmse(predictions)\n",
    "    print(f\"RMSE of SVD: {rmse}\")\n",
    "    print(f\"Took {time.time() - svd_start_ts} seconds.\")\n",
    "    test_rmses[i] = rmse\n",
    "    train_rmses[i] = rmse_train\n",
    "\n",
    "print(f\"All test RMSEs: {test_rmses}\")"
   ]
  },
  {
   "cell_type": "code",
   "execution_count": 56,
   "id": "874b2a53",
   "metadata": {},
   "outputs": [
    {
     "data": {
      "text/plain": [
       "array([0.67732972, 0.67344117, 0.67096118, 0.67691428, 0.67392459,\n",
       "       0.67199695, 0.67279702, 0.67621211, 0.67840098, 0.67602317,\n",
       "       0.67673239, 0.67846573, 0.68054573, 0.67979523, 0.68292832,\n",
       "       0.68533196, 0.69401035])"
      ]
     },
     "execution_count": 56,
     "metadata": {},
     "output_type": "execute_result"
    }
   ],
   "source": [
    "test_rmses"
   ]
  },
  {
   "cell_type": "code",
   "execution_count": 57,
   "id": "106d654d",
   "metadata": {},
   "outputs": [
    {
     "data": {
      "text/plain": [
       "array([0.55855046, 0.48057952, 0.43651077, 0.39424146, 0.3699818 ,\n",
       "       0.34099951, 0.32371213, 0.30885224, 0.2925758 , 0.27918701,\n",
       "       0.26635293, 0.22714574, 0.20162524, 0.18359041, 0.17134261,\n",
       "       0.16156235, 0.15527591])"
      ]
     },
     "execution_count": 57,
     "metadata": {},
     "output_type": "execute_result"
    }
   ],
   "source": [
    "train_rmses"
   ]
  },
  {
   "cell_type": "code",
   "execution_count": 58,
   "id": "074f8461",
   "metadata": {},
   "outputs": [
    {
     "data": {
      "image/png": "[encoded data removed]",
      "text/plain": [
       "<Figure size 640x480 with 1 Axes>"
      ]
     },
     "metadata": {},
     "output_type": "display_data"
    }
   ],
   "source": [
    "fig, ax = plt.subplots(1,1)\n",
    "\n",
    "ax.plot(dimensions, train_rmses, label='Train rmse')\n",
    "ax.plot(dimensions, test_rmses, label='Test rmse')\n",
    "ax.set_xlabel('Num Factors')\n",
    "ax.set_ylabel('RMSE')\n",
    "\n",
    "ax.legend()\n",
    "plt.show()"
   ]
  },
  {
   "cell_type": "code",
   "execution_count": 61,
   "id": "75260bbf",
   "metadata": {},
   "outputs": [
    {
     "data": {
      "image/png": "[encoded data removed]",
      "text/plain": [
       "<Figure size 640x480 with 1 Axes>"
      ]
     },
     "metadata": {},
     "output_type": "display_data"
    }
   ],
   "source": [
    "fig, ax = plt.subplots(1,1)\n",
    "\n",
    "ax.plot(dimensions, test_rmses, label='Test rmse', color='orange')\n",
    "ax.set_xlabel('Num Factors')\n",
    "ax.set_ylabel('RMSE')\n",
    "\n",
    "ax.legend()\n",
    "plt.show()"
   ]
  },
  {
   "cell_type": "code",
   "execution_count": null,
   "id": "fea16ac6",
   "metadata": {},
   "outputs": [],
   "source": []
  }
 ],
 "metadata": {
  "kernelspec": {
   "display_name": "Python 3 (ipykernel)",
   "language": "python",
   "name": "python3"
  },
  "language_info": {
   "codemirror_mode": {
    "name": "ipython",
    "version": 3
   },
   "file_extension": ".py",
   "mimetype": "text/x-python",
   "name": "python",
   "nbconvert_exporter": "python",
   "pygments_lexer": "ipython3",
   "version": "3.10.8"
  },
  "toc": {
   "base_numbering": 1,
   "nav_menu": {},
   "number_sections": true,
   "sideBar": true,
   "skip_h1_title": false,
   "title_cell": "Table of Contents",
   "title_sidebar": "Contents",
   "toc_cell": false,
   "toc_position": {},
   "toc_section_display": true,
   "toc_window_display": false
  }
 },
 "nbformat": 4,
 "nbformat_minor": 5
}
