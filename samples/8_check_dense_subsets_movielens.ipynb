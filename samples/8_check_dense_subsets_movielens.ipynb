{
 "cells": [
  {
   "cell_type": "markdown",
   "id": "f435a5df",
   "metadata": {},
   "source": [
    "# Search for a subset of data suitable for a test set\n",
    "\n",
    "We want to find some set of items that were all rated by some subset of users. This would give us a test subset with full feedback."
   ]
  },
  {
   "cell_type": "code",
   "execution_count": 1,
   "id": "8b18d6a5",
   "metadata": {},
   "outputs": [],
   "source": [
    "%load_ext autoreload\n",
    "%autoreload 2"
   ]
  },
  {
   "cell_type": "code",
   "execution_count": 2,
   "id": "c22ac7eb",
   "metadata": {},
   "outputs": [],
   "source": [
    "import os\n",
    "os.chdir('..')"
   ]
  },
  {
   "cell_type": "code",
   "execution_count": 3,
   "id": "5c21c58d",
   "metadata": {},
   "outputs": [],
   "source": [
    "import datetime\n",
    "import numpy as np\n",
    "import pandas as pd\n",
    "import matplotlib.pyplot as plt\n",
    "import time\n",
    "\n",
    "from data_loading import get_movielens_data"
   ]
  },
  {
   "cell_type": "code",
   "execution_count": 4,
   "id": "4f9c457f",
   "metadata": {},
   "outputs": [],
   "source": [
    "# Reproducibility\n",
    "seed = 42\n",
    "np.random.seed(seed)"
   ]
  },
  {
   "cell_type": "code",
   "execution_count": 5,
   "id": "b28e4434",
   "metadata": {},
   "outputs": [],
   "source": [
    "PROJECT_DIR = '.'"
   ]
  },
  {
   "cell_type": "code",
   "execution_count": 6,
   "id": "e490ba8b",
   "metadata": {},
   "outputs": [],
   "source": [
    "ratings = pd.read_table(f\"{PROJECT_DIR}/dataset/movielens/ratings.dat\", sep=\"::\",\n",
    "                           names=[\"user_id\", \"item_id\", \"rating\", \"timestamp\"], engine='python')"
   ]
  },
  {
   "cell_type": "code",
   "execution_count": 7,
   "id": "14aa2fe8",
   "metadata": {},
   "outputs": [
    {
     "data": {
      "text/html": [
       "<div>\n",
       "<style scoped>\n",
       "    .dataframe tbody tr th:only-of-type {\n",
       "        vertical-align: middle;\n",
       "    }\n",
       "\n",
       "    .dataframe tbody tr th {\n",
       "        vertical-align: top;\n",
       "    }\n",
       "\n",
       "    .dataframe thead th {\n",
       "        text-align: right;\n",
       "    }\n",
       "</style>\n",
       "<table border=\"1\" class=\"dataframe\">\n",
       "  <thead>\n",
       "    <tr style=\"text-align: right;\">\n",
       "      <th></th>\n",
       "      <th>user_id</th>\n",
       "      <th>item_id</th>\n",
       "      <th>rating</th>\n",
       "      <th>timestamp</th>\n",
       "    </tr>\n",
       "  </thead>\n",
       "  <tbody>\n",
       "    <tr>\n",
       "      <th>0</th>\n",
       "      <td>1</td>\n",
       "      <td>122</td>\n",
       "      <td>5.0</td>\n",
       "      <td>838985046</td>\n",
       "    </tr>\n",
       "    <tr>\n",
       "      <th>1</th>\n",
       "      <td>1</td>\n",
       "      <td>185</td>\n",
       "      <td>5.0</td>\n",
       "      <td>838983525</td>\n",
       "    </tr>\n",
       "    <tr>\n",
       "      <th>2</th>\n",
       "      <td>1</td>\n",
       "      <td>231</td>\n",
       "      <td>5.0</td>\n",
       "      <td>838983392</td>\n",
       "    </tr>\n",
       "    <tr>\n",
       "      <th>3</th>\n",
       "      <td>1</td>\n",
       "      <td>292</td>\n",
       "      <td>5.0</td>\n",
       "      <td>838983421</td>\n",
       "    </tr>\n",
       "    <tr>\n",
       "      <th>4</th>\n",
       "      <td>1</td>\n",
       "      <td>316</td>\n",
       "      <td>5.0</td>\n",
       "      <td>838983392</td>\n",
       "    </tr>\n",
       "    <tr>\n",
       "      <th>...</th>\n",
       "      <td>...</td>\n",
       "      <td>...</td>\n",
       "      <td>...</td>\n",
       "      <td>...</td>\n",
       "    </tr>\n",
       "    <tr>\n",
       "      <th>10000049</th>\n",
       "      <td>71567</td>\n",
       "      <td>2107</td>\n",
       "      <td>1.0</td>\n",
       "      <td>912580553</td>\n",
       "    </tr>\n",
       "    <tr>\n",
       "      <th>10000050</th>\n",
       "      <td>71567</td>\n",
       "      <td>2126</td>\n",
       "      <td>2.0</td>\n",
       "      <td>912649143</td>\n",
       "    </tr>\n",
       "    <tr>\n",
       "      <th>10000051</th>\n",
       "      <td>71567</td>\n",
       "      <td>2294</td>\n",
       "      <td>5.0</td>\n",
       "      <td>912577968</td>\n",
       "    </tr>\n",
       "    <tr>\n",
       "      <th>10000052</th>\n",
       "      <td>71567</td>\n",
       "      <td>2338</td>\n",
       "      <td>2.0</td>\n",
       "      <td>912578016</td>\n",
       "    </tr>\n",
       "    <tr>\n",
       "      <th>10000053</th>\n",
       "      <td>71567</td>\n",
       "      <td>2384</td>\n",
       "      <td>2.0</td>\n",
       "      <td>912578173</td>\n",
       "    </tr>\n",
       "  </tbody>\n",
       "</table>\n",
       "<p>10000054 rows × 4 columns</p>\n",
       "</div>"
      ],
      "text/plain": [
       "          user_id  item_id  rating  timestamp\n",
       "0               1      122     5.0  838985046\n",
       "1               1      185     5.0  838983525\n",
       "2               1      231     5.0  838983392\n",
       "3               1      292     5.0  838983421\n",
       "4               1      316     5.0  838983392\n",
       "...           ...      ...     ...        ...\n",
       "10000049    71567     2107     1.0  912580553\n",
       "10000050    71567     2126     2.0  912649143\n",
       "10000051    71567     2294     5.0  912577968\n",
       "10000052    71567     2338     2.0  912578016\n",
       "10000053    71567     2384     2.0  912578173\n",
       "\n",
       "[10000054 rows x 4 columns]"
      ]
     },
     "execution_count": 7,
     "metadata": {},
     "output_type": "execute_result"
    }
   ],
   "source": [
    "ratings"
   ]
  },
  {
   "cell_type": "markdown",
   "id": "3d045563",
   "metadata": {},
   "source": [
    "## Check users that all have rated same top-k items"
   ]
  },
  {
   "cell_type": "code",
   "execution_count": 8,
   "id": "faa00bb2",
   "metadata": {},
   "outputs": [],
   "source": [
    "def users_that_rated_all_items(ratings, items):\n",
    "    user_sets = []\n",
    "    for item_id in items:\n",
    "        item_users = set(ratings[ratings.item_id == item_id].user_id)\n",
    "        user_sets.append(item_users)\n",
    "    return set.intersection(*user_sets)"
   ]
  },
  {
   "cell_type": "code",
   "execution_count": 9,
   "id": "477e4fe0",
   "metadata": {},
   "outputs": [],
   "source": [
    "def users_that_rated_all_top_k_items(ratings, k):\n",
    "    items = ratings.groupby('item_id').size().sort_values(ascending=False)\n",
    "    top_k_items = set(items[:k].index)\n",
    "    top_k_ratings = ratings[ratings.item_id.isin(top_k_items)]\n",
    "    top_k_users = users_that_rated_all_items(top_k_ratings, top_k_items)\n",
    "    return len(top_k_users)"
   ]
  },
  {
   "cell_type": "code",
   "execution_count": 15,
   "id": "254d0089",
   "metadata": {},
   "outputs": [],
   "source": [
    "users_rated_top_k_items = {\n",
    "    \"k\": [],\n",
    "    \"users\": [],\n",
    "}\n",
    "for k in range(999, 1000):\n",
    "    users_rated_top_k_items['k'].append(k)\n",
    "    users_rated_top_k_items['users'].append(users_that_rated_all_top_k_items(ratings, k))"
   ]
  },
  {
   "cell_type": "code",
   "execution_count": 16,
   "id": "8516b1d6",
   "metadata": {},
   "outputs": [
    {
     "data": {
      "text/html": [
       "<div>\n",
       "<style scoped>\n",
       "    .dataframe tbody tr th:only-of-type {\n",
       "        vertical-align: middle;\n",
       "    }\n",
       "\n",
       "    .dataframe tbody tr th {\n",
       "        vertical-align: top;\n",
       "    }\n",
       "\n",
       "    .dataframe thead th {\n",
       "        text-align: right;\n",
       "    }\n",
       "</style>\n",
       "<table border=\"1\" class=\"dataframe\">\n",
       "  <thead>\n",
       "    <tr style=\"text-align: right;\">\n",
       "      <th></th>\n",
       "      <th>k</th>\n",
       "      <th>users</th>\n",
       "    </tr>\n",
       "  </thead>\n",
       "  <tbody>\n",
       "    <tr>\n",
       "      <th>0</th>\n",
       "      <td>999</td>\n",
       "      <td>0</td>\n",
       "    </tr>\n",
       "  </tbody>\n",
       "</table>\n",
       "</div>"
      ],
      "text/plain": [
       "     k  users\n",
       "0  999      0"
      ]
     },
     "execution_count": 16,
     "metadata": {},
     "output_type": "execute_result"
    }
   ],
   "source": [
    "pd.DataFrame(users_rated_top_k_items)"
   ]
  },
  {
   "cell_type": "markdown",
   "id": "312629f2",
   "metadata": {},
   "source": [
    "## Check users that each has rated at least k items (may be different)"
   ]
  },
  {
   "cell_type": "code",
   "execution_count": 12,
   "id": "bc6b9a4a",
   "metadata": {},
   "outputs": [],
   "source": [
    "def users_that_rated_at_least_k_items(ratings, k):\n",
    "    users = ratings.groupby('user_id').size().sort_values(ascending=False)\n",
    "    at_least_k_users = users[users > k]\n",
    "    return len(at_least_k_users)"
   ]
  },
  {
   "cell_type": "code",
   "execution_count": 13,
   "id": "84e7c04a",
   "metadata": {},
   "outputs": [],
   "source": [
    "users_rated_at_least_k_items = {\n",
    "    \"k\": [],\n",
    "    \"users\": [],\n",
    "}\n",
    "for k in range(1, 1100, 100):\n",
    "    users_rated_at_least_k_items['k'].append(k)\n",
    "    users_rated_at_least_k_items['users'].append(users_that_rated_at_least_k_items(ratings, k))"
   ]
  },
  {
   "cell_type": "code",
   "execution_count": 14,
   "id": "6b36835b",
   "metadata": {},
   "outputs": [
    {
     "data": {
      "text/html": [
       "<div>\n",
       "<style scoped>\n",
       "    .dataframe tbody tr th:only-of-type {\n",
       "        vertical-align: middle;\n",
       "    }\n",
       "\n",
       "    .dataframe tbody tr th {\n",
       "        vertical-align: top;\n",
       "    }\n",
       "\n",
       "    .dataframe thead th {\n",
       "        text-align: right;\n",
       "    }\n",
       "</style>\n",
       "<table border=\"1\" class=\"dataframe\">\n",
       "  <thead>\n",
       "    <tr style=\"text-align: right;\">\n",
       "      <th></th>\n",
       "      <th>k</th>\n",
       "      <th>users</th>\n",
       "    </tr>\n",
       "  </thead>\n",
       "  <tbody>\n",
       "    <tr>\n",
       "      <th>0</th>\n",
       "      <td>1</td>\n",
       "      <td>69878</td>\n",
       "    </tr>\n",
       "    <tr>\n",
       "      <th>1</th>\n",
       "      <td>101</td>\n",
       "      <td>26191</td>\n",
       "    </tr>\n",
       "    <tr>\n",
       "      <th>2</th>\n",
       "      <td>201</td>\n",
       "      <td>13473</td>\n",
       "    </tr>\n",
       "    <tr>\n",
       "      <th>3</th>\n",
       "      <td>301</td>\n",
       "      <td>8157</td>\n",
       "    </tr>\n",
       "    <tr>\n",
       "      <th>4</th>\n",
       "      <td>401</td>\n",
       "      <td>5311</td>\n",
       "    </tr>\n",
       "    <tr>\n",
       "      <th>5</th>\n",
       "      <td>501</td>\n",
       "      <td>3640</td>\n",
       "    </tr>\n",
       "    <tr>\n",
       "      <th>6</th>\n",
       "      <td>601</td>\n",
       "      <td>2552</td>\n",
       "    </tr>\n",
       "    <tr>\n",
       "      <th>7</th>\n",
       "      <td>701</td>\n",
       "      <td>1890</td>\n",
       "    </tr>\n",
       "    <tr>\n",
       "      <th>8</th>\n",
       "      <td>801</td>\n",
       "      <td>1412</td>\n",
       "    </tr>\n",
       "    <tr>\n",
       "      <th>9</th>\n",
       "      <td>901</td>\n",
       "      <td>1061</td>\n",
       "    </tr>\n",
       "    <tr>\n",
       "      <th>10</th>\n",
       "      <td>1001</td>\n",
       "      <td>831</td>\n",
       "    </tr>\n",
       "  </tbody>\n",
       "</table>\n",
       "</div>"
      ],
      "text/plain": [
       "       k  users\n",
       "0      1  69878\n",
       "1    101  26191\n",
       "2    201  13473\n",
       "3    301   8157\n",
       "4    401   5311\n",
       "5    501   3640\n",
       "6    601   2552\n",
       "7    701   1890\n",
       "8    801   1412\n",
       "9    901   1061\n",
       "10  1001    831"
      ]
     },
     "execution_count": 14,
     "metadata": {},
     "output_type": "execute_result"
    }
   ],
   "source": [
    "pd.DataFrame(users_rated_at_least_k_items)"
   ]
  },
  {
   "cell_type": "code",
   "execution_count": null,
   "id": "05b9264b",
   "metadata": {},
   "outputs": [],
   "source": []
  }
 ],
 "metadata": {
  "kernelspec": {
   "display_name": "Python 3 (ipykernel)",
   "language": "python",
   "name": "python3"
  },
  "language_info": {
   "codemirror_mode": {
    "name": "ipython",
    "version": 3
   },
   "file_extension": ".py",
   "mimetype": "text/x-python",
   "name": "python",
   "nbconvert_exporter": "python",
   "pygments_lexer": "ipython3",
   "version": "3.10.6"
  },
  "toc": {
   "base_numbering": 1,
   "nav_menu": {},
   "number_sections": true,
   "sideBar": true,
   "skip_h1_title": false,
   "title_cell": "Table of Contents",
   "title_sidebar": "Contents",
   "toc_cell": false,
   "toc_position": {},
   "toc_section_display": true,
   "toc_window_display": false
  }
 },
 "nbformat": 4,
 "nbformat_minor": 5
}
