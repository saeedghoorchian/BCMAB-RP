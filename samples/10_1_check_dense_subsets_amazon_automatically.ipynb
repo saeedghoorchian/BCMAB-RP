{
 "cells": [
  {
   "cell_type": "markdown",
   "id": "f435a5df",
   "metadata": {},
   "source": [
    "# Search for a subset of data suitable for a test set\n",
    "\n",
    "We want to find some set of items that were all rated by some subset of users. This would give us a test subset with full feedback."
   ]
  },
  {
   "cell_type": "code",
   "execution_count": 1,
   "id": "8b18d6a5",
   "metadata": {},
   "outputs": [],
   "source": [
    "%load_ext autoreload\n",
    "%autoreload 2"
   ]
  },
  {
   "cell_type": "code",
   "execution_count": 2,
   "id": "c22ac7eb",
   "metadata": {},
   "outputs": [],
   "source": [
    "import os\n",
    "os.chdir('..')"
   ]
  },
  {
   "cell_type": "code",
   "execution_count": 3,
   "id": "5c21c58d",
   "metadata": {},
   "outputs": [],
   "source": [
    "import datetime\n",
    "import numpy as np\n",
    "import pandas as pd\n",
    "import matplotlib.pyplot as plt\n",
    "import time\n",
    "from datetime import datetime\n",
    "\n",
    "from data_loading import get_movielens_data"
   ]
  },
  {
   "cell_type": "code",
   "execution_count": 4,
   "id": "4f9c457f",
   "metadata": {},
   "outputs": [],
   "source": [
    "# Reproducibility\n",
    "seed = 42\n",
    "np.random.seed(seed)"
   ]
  },
  {
   "cell_type": "code",
   "execution_count": 5,
   "id": "b28e4434",
   "metadata": {},
   "outputs": [],
   "source": [
    "PROJECT_DIR = '.'"
   ]
  },
  {
   "cell_type": "code",
   "execution_count": 6,
   "id": "e490ba8b",
   "metadata": {},
   "outputs": [],
   "source": [
    "ratings = pd.read_csv(\n",
    "    f\"{PROJECT_DIR}/dataset/amazon/Books.csv\", names=[\"item_id\", \"user_id\", \"rating\", \"timestamp\"]\n",
    ")\n"
   ]
  },
  {
   "cell_type": "code",
   "execution_count": 7,
   "id": "b73b420e",
   "metadata": {},
   "outputs": [
    {
     "data": {
      "text/plain": [
       "(2930451,)"
      ]
     },
     "execution_count": 7,
     "metadata": {},
     "output_type": "execute_result"
    }
   ],
   "source": [
    "ratings.item_id.unique().shape"
   ]
  },
  {
   "cell_type": "code",
   "execution_count": 8,
   "id": "a8423626",
   "metadata": {},
   "outputs": [
    {
     "data": {
      "text/html": [
       "<div>\n",
       "<style scoped>\n",
       "    .dataframe tbody tr th:only-of-type {\n",
       "        vertical-align: middle;\n",
       "    }\n",
       "\n",
       "    .dataframe tbody tr th {\n",
       "        vertical-align: top;\n",
       "    }\n",
       "\n",
       "    .dataframe thead th {\n",
       "        text-align: right;\n",
       "    }\n",
       "</style>\n",
       "<table border=\"1\" class=\"dataframe\">\n",
       "  <thead>\n",
       "    <tr style=\"text-align: right;\">\n",
       "      <th></th>\n",
       "      <th>item_id</th>\n",
       "      <th>user_id</th>\n",
       "      <th>rating</th>\n",
       "      <th>timestamp</th>\n",
       "    </tr>\n",
       "  </thead>\n",
       "  <tbody>\n",
       "    <tr>\n",
       "      <th>0</th>\n",
       "      <td>0001713353</td>\n",
       "      <td>A1C6M8LCIX4M6M</td>\n",
       "      <td>5.0</td>\n",
       "      <td>1123804800</td>\n",
       "    </tr>\n",
       "    <tr>\n",
       "      <th>1</th>\n",
       "      <td>0001713353</td>\n",
       "      <td>A1REUF3A1YCPHM</td>\n",
       "      <td>5.0</td>\n",
       "      <td>1112140800</td>\n",
       "    </tr>\n",
       "    <tr>\n",
       "      <th>2</th>\n",
       "      <td>0001713353</td>\n",
       "      <td>A1YRBRK2XM5D5</td>\n",
       "      <td>5.0</td>\n",
       "      <td>1081036800</td>\n",
       "    </tr>\n",
       "    <tr>\n",
       "      <th>3</th>\n",
       "      <td>0001713353</td>\n",
       "      <td>A1V8ZR5P78P4ZU</td>\n",
       "      <td>5.0</td>\n",
       "      <td>1077321600</td>\n",
       "    </tr>\n",
       "    <tr>\n",
       "      <th>4</th>\n",
       "      <td>0001713353</td>\n",
       "      <td>A2ZB06582NXCIV</td>\n",
       "      <td>5.0</td>\n",
       "      <td>1475452800</td>\n",
       "    </tr>\n",
       "    <tr>\n",
       "      <th>...</th>\n",
       "      <td>...</td>\n",
       "      <td>...</td>\n",
       "      <td>...</td>\n",
       "      <td>...</td>\n",
       "    </tr>\n",
       "    <tr>\n",
       "      <th>51311616</th>\n",
       "      <td>B01HJDS76Y</td>\n",
       "      <td>A3P8PUZFHWFK1E</td>\n",
       "      <td>4.0</td>\n",
       "      <td>1467244800</td>\n",
       "    </tr>\n",
       "    <tr>\n",
       "      <th>51311617</th>\n",
       "      <td>B01HJDS76Y</td>\n",
       "      <td>A26Q9T9G9MTX9S</td>\n",
       "      <td>1.0</td>\n",
       "      <td>1467158400</td>\n",
       "    </tr>\n",
       "    <tr>\n",
       "      <th>51311618</th>\n",
       "      <td>B01HJEB422</td>\n",
       "      <td>AB9M1MQPBAS2J</td>\n",
       "      <td>5.0</td>\n",
       "      <td>1487030400</td>\n",
       "    </tr>\n",
       "    <tr>\n",
       "      <th>51311619</th>\n",
       "      <td>B01HJEB422</td>\n",
       "      <td>A2TO93KMH3DJIK</td>\n",
       "      <td>5.0</td>\n",
       "      <td>1485648000</td>\n",
       "    </tr>\n",
       "    <tr>\n",
       "      <th>51311620</th>\n",
       "      <td>B01HJFHYMA</td>\n",
       "      <td>A7J9KA8SAL0MA</td>\n",
       "      <td>5.0</td>\n",
       "      <td>1473120000</td>\n",
       "    </tr>\n",
       "  </tbody>\n",
       "</table>\n",
       "<p>51311621 rows × 4 columns</p>\n",
       "</div>"
      ],
      "text/plain": [
       "             item_id         user_id  rating   timestamp\n",
       "0         0001713353  A1C6M8LCIX4M6M     5.0  1123804800\n",
       "1         0001713353  A1REUF3A1YCPHM     5.0  1112140800\n",
       "2         0001713353   A1YRBRK2XM5D5     5.0  1081036800\n",
       "3         0001713353  A1V8ZR5P78P4ZU     5.0  1077321600\n",
       "4         0001713353  A2ZB06582NXCIV     5.0  1475452800\n",
       "...              ...             ...     ...         ...\n",
       "51311616  B01HJDS76Y  A3P8PUZFHWFK1E     4.0  1467244800\n",
       "51311617  B01HJDS76Y  A26Q9T9G9MTX9S     1.0  1467158400\n",
       "51311618  B01HJEB422   AB9M1MQPBAS2J     5.0  1487030400\n",
       "51311619  B01HJEB422  A2TO93KMH3DJIK     5.0  1485648000\n",
       "51311620  B01HJFHYMA   A7J9KA8SAL0MA     5.0  1473120000\n",
       "\n",
       "[51311621 rows x 4 columns]"
      ]
     },
     "execution_count": 8,
     "metadata": {},
     "output_type": "execute_result"
    }
   ],
   "source": [
    "ratings"
   ]
  },
  {
   "cell_type": "code",
   "execution_count": 9,
   "id": "b37e2a44",
   "metadata": {},
   "outputs": [],
   "source": [
    "max_ts = ratings.timestamp.max()"
   ]
  },
  {
   "cell_type": "code",
   "execution_count": 10,
   "id": "f0818b7c",
   "metadata": {},
   "outputs": [],
   "source": [
    "min_ts = ratings.timestamp.min()"
   ]
  },
  {
   "cell_type": "code",
   "execution_count": 15,
   "id": "41260e32",
   "metadata": {},
   "outputs": [
    {
     "data": {
      "text/plain": [
       "1538438400"
      ]
     },
     "execution_count": 15,
     "metadata": {},
     "output_type": "execute_result"
    }
   ],
   "source": [
    "max_ts"
   ]
  },
  {
   "cell_type": "code",
   "execution_count": 16,
   "id": "28d45b28",
   "metadata": {},
   "outputs": [
    {
     "data": {
      "text/plain": [
       "832550400"
      ]
     },
     "execution_count": 16,
     "metadata": {},
     "output_type": "execute_result"
    }
   ],
   "source": [
    "min_ts"
   ]
  },
  {
   "cell_type": "code",
   "execution_count": 18,
   "id": "ad305def",
   "metadata": {},
   "outputs": [
    {
     "data": {
      "text/plain": [
       "datetime.datetime(2018, 10, 2, 2, 0)"
      ]
     },
     "execution_count": 18,
     "metadata": {},
     "output_type": "execute_result"
    }
   ],
   "source": [
    "datetime.fromtimestamp(1538438400)"
   ]
  },
  {
   "cell_type": "code",
   "execution_count": null,
   "id": "c119e132",
   "metadata": {},
   "outputs": [],
   "source": []
  },
  {
   "cell_type": "code",
   "execution_count": 17,
   "id": "cc278a0c",
   "metadata": {},
   "outputs": [
    {
     "data": {
      "text/plain": [
       "datetime.datetime(1996, 5, 20, 2, 0)"
      ]
     },
     "execution_count": 17,
     "metadata": {},
     "output_type": "execute_result"
    }
   ],
   "source": [
    "datetime.fromtimestamp(832550400)"
   ]
  },
  {
   "cell_type": "code",
   "execution_count": 21,
   "id": "66db7f97",
   "metadata": {},
   "outputs": [],
   "source": [
    "YEARS_BEHIND = 5.8\n",
    "max_ts = ratings.timestamp.max()\n",
    "start_time = max_ts - 3600 * 24 * 365 * YEARS_BEHIND\n",
    "end_time = max_ts - 3600 * 24 * 365 * (YEARS_BEHIND-0.5)"
   ]
  },
  {
   "cell_type": "code",
   "execution_count": 23,
   "id": "8cfca1e0",
   "metadata": {},
   "outputs": [
    {
     "data": {
      "text/plain": [
       "(datetime.datetime(2012, 12, 15, 1, 0), datetime.datetime(2013, 6, 15, 14, 0))"
      ]
     },
     "execution_count": 23,
     "metadata": {},
     "output_type": "execute_result"
    }
   ],
   "source": [
    "datetime.fromtimestamp(start_time), datetime.fromtimestamp(end_time)"
   ]
  },
  {
   "cell_type": "code",
   "execution_count": 22,
   "id": "e11b9336",
   "metadata": {},
   "outputs": [],
   "source": [
    "new_ratings = ratings[ratings.timestamp > start_time]\n",
    "new_ratings = new_ratings[new_ratings.timestamp < end_time]"
   ]
  },
  {
   "cell_type": "code",
   "execution_count": 14,
   "id": "215a0c69",
   "metadata": {},
   "outputs": [],
   "source": [
    "del ratings"
   ]
  },
  {
   "cell_type": "code",
   "execution_count": 15,
   "id": "34eda9f3",
   "metadata": {},
   "outputs": [
    {
     "data": {
      "text/plain": [
       "datetime.datetime(2017, 10, 3, 2, 0)"
      ]
     },
     "execution_count": 15,
     "metadata": {},
     "output_type": "execute_result"
    }
   ],
   "source": [
    "datetime.fromtimestamp(1506988800)"
   ]
  },
  {
   "cell_type": "code",
   "execution_count": 16,
   "id": "fc1c681b",
   "metadata": {},
   "outputs": [
    {
     "data": {
      "text/html": [
       "<div>\n",
       "<style scoped>\n",
       "    .dataframe tbody tr th:only-of-type {\n",
       "        vertical-align: middle;\n",
       "    }\n",
       "\n",
       "    .dataframe tbody tr th {\n",
       "        vertical-align: top;\n",
       "    }\n",
       "\n",
       "    .dataframe thead th {\n",
       "        text-align: right;\n",
       "    }\n",
       "</style>\n",
       "<table border=\"1\" class=\"dataframe\">\n",
       "  <thead>\n",
       "    <tr style=\"text-align: right;\">\n",
       "      <th></th>\n",
       "      <th>item_id</th>\n",
       "      <th>user_id</th>\n",
       "      <th>rating</th>\n",
       "      <th>timestamp</th>\n",
       "    </tr>\n",
       "  </thead>\n",
       "  <tbody>\n",
       "    <tr>\n",
       "      <th>380</th>\n",
       "      <td>0001384198</td>\n",
       "      <td>A310S8GKL783R8</td>\n",
       "      <td>5.0</td>\n",
       "      <td>1523577600</td>\n",
       "    </tr>\n",
       "    <tr>\n",
       "      <th>381</th>\n",
       "      <td>0001384198</td>\n",
       "      <td>ABO3HOSXIPOZY</td>\n",
       "      <td>4.0</td>\n",
       "      <td>1523404800</td>\n",
       "    </tr>\n",
       "    <tr>\n",
       "      <th>382</th>\n",
       "      <td>0001384198</td>\n",
       "      <td>AU4Z1Q4AX9ILA</td>\n",
       "      <td>5.0</td>\n",
       "      <td>1523318400</td>\n",
       "    </tr>\n",
       "    <tr>\n",
       "      <th>383</th>\n",
       "      <td>0001384198</td>\n",
       "      <td>A1TGZVJZK8SMBX</td>\n",
       "      <td>5.0</td>\n",
       "      <td>1523232000</td>\n",
       "    </tr>\n",
       "    <tr>\n",
       "      <th>384</th>\n",
       "      <td>0001384198</td>\n",
       "      <td>A3CCP99A7Z7HHT</td>\n",
       "      <td>3.0</td>\n",
       "      <td>1523145600</td>\n",
       "    </tr>\n",
       "    <tr>\n",
       "      <th>...</th>\n",
       "      <td>...</td>\n",
       "      <td>...</td>\n",
       "      <td>...</td>\n",
       "      <td>...</td>\n",
       "    </tr>\n",
       "    <tr>\n",
       "      <th>51311540</th>\n",
       "      <td>B01HJ4GFPS</td>\n",
       "      <td>ARAE0E3LSLL35</td>\n",
       "      <td>5.0</td>\n",
       "      <td>1523577600</td>\n",
       "    </tr>\n",
       "    <tr>\n",
       "      <th>51311541</th>\n",
       "      <td>B01HJ4GFPS</td>\n",
       "      <td>A1QDUNLE8SAQAL</td>\n",
       "      <td>5.0</td>\n",
       "      <td>1523318400</td>\n",
       "    </tr>\n",
       "    <tr>\n",
       "      <th>51311575</th>\n",
       "      <td>B01HJ71K4Q</td>\n",
       "      <td>A2FRD6XBB8923L</td>\n",
       "      <td>4.0</td>\n",
       "      <td>1538352000</td>\n",
       "    </tr>\n",
       "    <tr>\n",
       "      <th>51311584</th>\n",
       "      <td>B01HJ8KWDU</td>\n",
       "      <td>A2AYU3DW4HHCSJ</td>\n",
       "      <td>5.0</td>\n",
       "      <td>1538006400</td>\n",
       "    </tr>\n",
       "    <tr>\n",
       "      <th>51311605</th>\n",
       "      <td>B01HJBPTUI</td>\n",
       "      <td>A1BZTGM220WKWX</td>\n",
       "      <td>5.0</td>\n",
       "      <td>1523404800</td>\n",
       "    </tr>\n",
       "  </tbody>\n",
       "</table>\n",
       "<p>861657 rows × 4 columns</p>\n",
       "</div>"
      ],
      "text/plain": [
       "             item_id         user_id  rating   timestamp\n",
       "380       0001384198  A310S8GKL783R8     5.0  1523577600\n",
       "381       0001384198   ABO3HOSXIPOZY     4.0  1523404800\n",
       "382       0001384198   AU4Z1Q4AX9ILA     5.0  1523318400\n",
       "383       0001384198  A1TGZVJZK8SMBX     5.0  1523232000\n",
       "384       0001384198  A3CCP99A7Z7HHT     3.0  1523145600\n",
       "...              ...             ...     ...         ...\n",
       "51311540  B01HJ4GFPS   ARAE0E3LSLL35     5.0  1523577600\n",
       "51311541  B01HJ4GFPS  A1QDUNLE8SAQAL     5.0  1523318400\n",
       "51311575  B01HJ71K4Q  A2FRD6XBB8923L     4.0  1538352000\n",
       "51311584  B01HJ8KWDU  A2AYU3DW4HHCSJ     5.0  1538006400\n",
       "51311605  B01HJBPTUI  A1BZTGM220WKWX     5.0  1523404800\n",
       "\n",
       "[861657 rows x 4 columns]"
      ]
     },
     "execution_count": 16,
     "metadata": {},
     "output_type": "execute_result"
    }
   ],
   "source": [
    "new_ratings"
   ]
  },
  {
   "cell_type": "code",
   "execution_count": 17,
   "id": "eba0ab36",
   "metadata": {},
   "outputs": [],
   "source": [
    "N_ARMS = 400"
   ]
  },
  {
   "cell_type": "code",
   "execution_count": 18,
   "id": "ff10ef17",
   "metadata": {},
   "outputs": [],
   "source": [
    "actions = new_ratings.groupby(\"item_id\").size().sort_values(ascending=False)[:N_ARMS]"
   ]
  },
  {
   "cell_type": "code",
   "execution_count": 19,
   "id": "c6a2e7a1",
   "metadata": {},
   "outputs": [
    {
     "data": {
      "text/plain": [
       "400"
      ]
     },
     "execution_count": 19,
     "metadata": {},
     "output_type": "execute_result"
    }
   ],
   "source": [
    "len(actions)"
   ]
  },
  {
   "cell_type": "code",
   "execution_count": 20,
   "id": "069a1f4b",
   "metadata": {},
   "outputs": [],
   "source": [
    "actions = list(actions.index)"
   ]
  },
  {
   "cell_type": "code",
   "execution_count": 21,
   "id": "ff1f8a2e",
   "metadata": {},
   "outputs": [],
   "source": [
    "top_ratings = new_ratings[new_ratings[\"item_id\"].isin(actions)]"
   ]
  },
  {
   "cell_type": "code",
   "execution_count": 22,
   "id": "919ea8dc",
   "metadata": {},
   "outputs": [],
   "source": [
    "top_ratings = top_ratings.sort_values(\"timestamp\", ascending=1)"
   ]
  },
  {
   "cell_type": "code",
   "execution_count": 23,
   "id": "6c458f24",
   "metadata": {},
   "outputs": [
    {
     "data": {
      "text/html": [
       "<div>\n",
       "<style scoped>\n",
       "    .dataframe tbody tr th:only-of-type {\n",
       "        vertical-align: middle;\n",
       "    }\n",
       "\n",
       "    .dataframe tbody tr th {\n",
       "        vertical-align: top;\n",
       "    }\n",
       "\n",
       "    .dataframe thead th {\n",
       "        text-align: right;\n",
       "    }\n",
       "</style>\n",
       "<table border=\"1\" class=\"dataframe\">\n",
       "  <thead>\n",
       "    <tr style=\"text-align: right;\">\n",
       "      <th></th>\n",
       "      <th>item_id</th>\n",
       "      <th>user_id</th>\n",
       "      <th>rating</th>\n",
       "      <th>timestamp</th>\n",
       "    </tr>\n",
       "  </thead>\n",
       "  <tbody>\n",
       "    <tr>\n",
       "      <th>28422930</th>\n",
       "      <td>1503949184</td>\n",
       "      <td>AUOZCP7MJ8Y34</td>\n",
       "      <td>4.0</td>\n",
       "      <td>1522713600</td>\n",
       "    </tr>\n",
       "    <tr>\n",
       "      <th>2923910</th>\n",
       "      <td>0091956943</td>\n",
       "      <td>A2H5MLJ4FWPDZH</td>\n",
       "      <td>5.0</td>\n",
       "      <td>1522713600</td>\n",
       "    </tr>\n",
       "    <tr>\n",
       "      <th>2923911</th>\n",
       "      <td>0091956943</td>\n",
       "      <td>A13P6FG0HWN8NJ</td>\n",
       "      <td>4.0</td>\n",
       "      <td>1522713600</td>\n",
       "    </tr>\n",
       "    <tr>\n",
       "      <th>2923972</th>\n",
       "      <td>0091956943</td>\n",
       "      <td>A35BBREAKV3AT</td>\n",
       "      <td>5.0</td>\n",
       "      <td>1522713600</td>\n",
       "    </tr>\n",
       "    <tr>\n",
       "      <th>28422937</th>\n",
       "      <td>1503949184</td>\n",
       "      <td>AF2ZEM2B0Y107</td>\n",
       "      <td>1.0</td>\n",
       "      <td>1522713600</td>\n",
       "    </tr>\n",
       "    <tr>\n",
       "      <th>...</th>\n",
       "      <td>...</td>\n",
       "      <td>...</td>\n",
       "      <td>...</td>\n",
       "      <td>...</td>\n",
       "    </tr>\n",
       "    <tr>\n",
       "      <th>51309935</th>\n",
       "      <td>B01HB9Q7CW</td>\n",
       "      <td>A3BYZXHJMXPFAG</td>\n",
       "      <td>5.0</td>\n",
       "      <td>1537920000</td>\n",
       "    </tr>\n",
       "    <tr>\n",
       "      <th>51309936</th>\n",
       "      <td>B01HB9Q7CW</td>\n",
       "      <td>A3NZRO52W86KF8</td>\n",
       "      <td>5.0</td>\n",
       "      <td>1537920000</td>\n",
       "    </tr>\n",
       "    <tr>\n",
       "      <th>51309933</th>\n",
       "      <td>B01HB9Q7CW</td>\n",
       "      <td>A3QLH30O6L0ZTT</td>\n",
       "      <td>5.0</td>\n",
       "      <td>1538006400</td>\n",
       "    </tr>\n",
       "    <tr>\n",
       "      <th>51309932</th>\n",
       "      <td>B01HB9Q7CW</td>\n",
       "      <td>A1811AKYX3RPSN</td>\n",
       "      <td>4.0</td>\n",
       "      <td>1538265600</td>\n",
       "    </tr>\n",
       "    <tr>\n",
       "      <th>51309931</th>\n",
       "      <td>B01HB9Q7CW</td>\n",
       "      <td>A2UUXH691JARF3</td>\n",
       "      <td>5.0</td>\n",
       "      <td>1538352000</td>\n",
       "    </tr>\n",
       "  </tbody>\n",
       "</table>\n",
       "<p>107581 rows × 4 columns</p>\n",
       "</div>"
      ],
      "text/plain": [
       "             item_id         user_id  rating   timestamp\n",
       "28422930  1503949184   AUOZCP7MJ8Y34     4.0  1522713600\n",
       "2923910   0091956943  A2H5MLJ4FWPDZH     5.0  1522713600\n",
       "2923911   0091956943  A13P6FG0HWN8NJ     4.0  1522713600\n",
       "2923972   0091956943   A35BBREAKV3AT     5.0  1522713600\n",
       "28422937  1503949184   AF2ZEM2B0Y107     1.0  1522713600\n",
       "...              ...             ...     ...         ...\n",
       "51309935  B01HB9Q7CW  A3BYZXHJMXPFAG     5.0  1537920000\n",
       "51309936  B01HB9Q7CW  A3NZRO52W86KF8     5.0  1537920000\n",
       "51309933  B01HB9Q7CW  A3QLH30O6L0ZTT     5.0  1538006400\n",
       "51309932  B01HB9Q7CW  A1811AKYX3RPSN     4.0  1538265600\n",
       "51309931  B01HB9Q7CW  A2UUXH691JARF3     5.0  1538352000\n",
       "\n",
       "[107581 rows x 4 columns]"
      ]
     },
     "execution_count": 23,
     "metadata": {},
     "output_type": "execute_result"
    }
   ],
   "source": [
    "top_ratings"
   ]
  },
  {
   "cell_type": "code",
   "execution_count": 24,
   "id": "97a2ec80",
   "metadata": {},
   "outputs": [],
   "source": [
    "user_stream = top_ratings[[\"user_id\", \"timestamp\"]]"
   ]
  },
  {
   "cell_type": "code",
   "execution_count": 25,
   "id": "59444398",
   "metadata": {},
   "outputs": [
    {
     "data": {
      "text/plain": [
       "user_id\n",
       "A2MPS6SED8DVCW    45\n",
       "A39YL17T9LO0SP    41\n",
       "A2R2O6R00PXFC2    40\n",
       "A1JLU5H1CCENWX    37\n",
       "A3SJW5TGW16UDT    36\n",
       "                  ..\n",
       "A3U5R1T0U6OMG6     2\n",
       "A14M932494HEP      2\n",
       "A15UNCBR5LLPQE     2\n",
       "A15UOLX72HCR05     2\n",
       "A2Z3LHEZ99BU3E     2\n",
       "Length: 10000, dtype: int64"
      ]
     },
     "execution_count": 25,
     "metadata": {},
     "output_type": "execute_result"
    }
   ],
   "source": [
    "top_ratings.groupby('user_id').size().sort_values(ascending=False)[:10000]"
   ]
  },
  {
   "cell_type": "code",
   "execution_count": 26,
   "id": "14b78c3a",
   "metadata": {},
   "outputs": [],
   "source": [
    "top_users = list(top_ratings.groupby('user_id').size().sort_values(ascending=False)[:5000].index)"
   ]
  },
  {
   "cell_type": "code",
   "execution_count": 27,
   "id": "e32b396c",
   "metadata": {},
   "outputs": [],
   "source": [
    "user_stream = user_stream[user_stream.user_id.isin(top_users)]"
   ]
  },
  {
   "cell_type": "code",
   "execution_count": 28,
   "id": "8e4553db",
   "metadata": {},
   "outputs": [
    {
     "data": {
      "text/html": [
       "<div>\n",
       "<style scoped>\n",
       "    .dataframe tbody tr th:only-of-type {\n",
       "        vertical-align: middle;\n",
       "    }\n",
       "\n",
       "    .dataframe tbody tr th {\n",
       "        vertical-align: top;\n",
       "    }\n",
       "\n",
       "    .dataframe thead th {\n",
       "        text-align: right;\n",
       "    }\n",
       "</style>\n",
       "<table border=\"1\" class=\"dataframe\">\n",
       "  <thead>\n",
       "    <tr style=\"text-align: right;\">\n",
       "      <th></th>\n",
       "      <th>user_id</th>\n",
       "      <th>timestamp</th>\n",
       "    </tr>\n",
       "  </thead>\n",
       "  <tbody>\n",
       "    <tr>\n",
       "      <th>28422937</th>\n",
       "      <td>AF2ZEM2B0Y107</td>\n",
       "      <td>1522713600</td>\n",
       "    </tr>\n",
       "    <tr>\n",
       "      <th>28422980</th>\n",
       "      <td>A3S0CAA3NO7KAJ</td>\n",
       "      <td>1522713600</td>\n",
       "    </tr>\n",
       "    <tr>\n",
       "      <th>28422933</th>\n",
       "      <td>A3DGIT33XGIHD9</td>\n",
       "      <td>1522713600</td>\n",
       "    </tr>\n",
       "    <tr>\n",
       "      <th>33492086</th>\n",
       "      <td>A3NO3YDQ9U76TQ</td>\n",
       "      <td>1522713600</td>\n",
       "    </tr>\n",
       "    <tr>\n",
       "      <th>33492041</th>\n",
       "      <td>A3OGIGTQ6SIHSN</td>\n",
       "      <td>1522713600</td>\n",
       "    </tr>\n",
       "    <tr>\n",
       "      <th>...</th>\n",
       "      <td>...</td>\n",
       "      <td>...</td>\n",
       "    </tr>\n",
       "    <tr>\n",
       "      <th>37943159</th>\n",
       "      <td>AUH8IK46Z6V9R</td>\n",
       "      <td>1537488000</td>\n",
       "    </tr>\n",
       "    <tr>\n",
       "      <th>37943150</th>\n",
       "      <td>A2FHQI74OKE1XI</td>\n",
       "      <td>1537574400</td>\n",
       "    </tr>\n",
       "    <tr>\n",
       "      <th>37943151</th>\n",
       "      <td>A3IDANEJLTGHUQ</td>\n",
       "      <td>1537574400</td>\n",
       "    </tr>\n",
       "    <tr>\n",
       "      <th>51273672</th>\n",
       "      <td>A15ORM6PIO5VUX</td>\n",
       "      <td>1537660800</td>\n",
       "    </tr>\n",
       "    <tr>\n",
       "      <th>51273670</th>\n",
       "      <td>ALRT0F1J2BEN5</td>\n",
       "      <td>1537660800</td>\n",
       "    </tr>\n",
       "  </tbody>\n",
       "</table>\n",
       "<p>25148 rows × 2 columns</p>\n",
       "</div>"
      ],
      "text/plain": [
       "                 user_id   timestamp\n",
       "28422937   AF2ZEM2B0Y107  1522713600\n",
       "28422980  A3S0CAA3NO7KAJ  1522713600\n",
       "28422933  A3DGIT33XGIHD9  1522713600\n",
       "33492086  A3NO3YDQ9U76TQ  1522713600\n",
       "33492041  A3OGIGTQ6SIHSN  1522713600\n",
       "...                  ...         ...\n",
       "37943159   AUH8IK46Z6V9R  1537488000\n",
       "37943150  A2FHQI74OKE1XI  1537574400\n",
       "37943151  A3IDANEJLTGHUQ  1537574400\n",
       "51273672  A15ORM6PIO5VUX  1537660800\n",
       "51273670   ALRT0F1J2BEN5  1537660800\n",
       "\n",
       "[25148 rows x 2 columns]"
      ]
     },
     "execution_count": 28,
     "metadata": {},
     "output_type": "execute_result"
    }
   ],
   "source": [
    "user_stream"
   ]
  },
  {
   "cell_type": "code",
   "execution_count": 29,
   "id": "16e4907b",
   "metadata": {},
   "outputs": [],
   "source": [
    "# user_stream = user_stream.iloc[-100000:]"
   ]
  },
  {
   "cell_type": "code",
   "execution_count": 30,
   "id": "a21ea48a",
   "metadata": {},
   "outputs": [],
   "source": [
    "# user_stream = top_ratings[[\"user_id\", \"timestamp\"]].iloc[-100000:]"
   ]
  },
  {
   "cell_type": "code",
   "execution_count": 31,
   "id": "03aaebf8",
   "metadata": {},
   "outputs": [],
   "source": [
    "users = set(user_stream.user_id)"
   ]
  },
  {
   "cell_type": "code",
   "execution_count": 32,
   "id": "b16e2ddc",
   "metadata": {},
   "outputs": [
    {
     "data": {
      "text/plain": [
       "5000"
      ]
     },
     "execution_count": 32,
     "metadata": {},
     "output_type": "execute_result"
    }
   ],
   "source": [
    "len(users)"
   ]
  },
  {
   "cell_type": "code",
   "execution_count": 33,
   "id": "5c50a9cf",
   "metadata": {},
   "outputs": [],
   "source": [
    "top_ratings = top_ratings[top_ratings.user_id.isin(users)]"
   ]
  },
  {
   "cell_type": "code",
   "execution_count": 34,
   "id": "2c548912",
   "metadata": {},
   "outputs": [
    {
     "data": {
      "text/html": [
       "<div>\n",
       "<style scoped>\n",
       "    .dataframe tbody tr th:only-of-type {\n",
       "        vertical-align: middle;\n",
       "    }\n",
       "\n",
       "    .dataframe tbody tr th {\n",
       "        vertical-align: top;\n",
       "    }\n",
       "\n",
       "    .dataframe thead th {\n",
       "        text-align: right;\n",
       "    }\n",
       "</style>\n",
       "<table border=\"1\" class=\"dataframe\">\n",
       "  <thead>\n",
       "    <tr style=\"text-align: right;\">\n",
       "      <th></th>\n",
       "      <th>user_id</th>\n",
       "      <th>timestamp</th>\n",
       "    </tr>\n",
       "  </thead>\n",
       "  <tbody>\n",
       "    <tr>\n",
       "      <th>28422937</th>\n",
       "      <td>AF2ZEM2B0Y107</td>\n",
       "      <td>1522713600</td>\n",
       "    </tr>\n",
       "    <tr>\n",
       "      <th>28422980</th>\n",
       "      <td>A3S0CAA3NO7KAJ</td>\n",
       "      <td>1522713600</td>\n",
       "    </tr>\n",
       "    <tr>\n",
       "      <th>28422933</th>\n",
       "      <td>A3DGIT33XGIHD9</td>\n",
       "      <td>1522713600</td>\n",
       "    </tr>\n",
       "    <tr>\n",
       "      <th>33492086</th>\n",
       "      <td>A3NO3YDQ9U76TQ</td>\n",
       "      <td>1522713600</td>\n",
       "    </tr>\n",
       "    <tr>\n",
       "      <th>33492041</th>\n",
       "      <td>A3OGIGTQ6SIHSN</td>\n",
       "      <td>1522713600</td>\n",
       "    </tr>\n",
       "    <tr>\n",
       "      <th>...</th>\n",
       "      <td>...</td>\n",
       "      <td>...</td>\n",
       "    </tr>\n",
       "    <tr>\n",
       "      <th>37943159</th>\n",
       "      <td>AUH8IK46Z6V9R</td>\n",
       "      <td>1537488000</td>\n",
       "    </tr>\n",
       "    <tr>\n",
       "      <th>37943150</th>\n",
       "      <td>A2FHQI74OKE1XI</td>\n",
       "      <td>1537574400</td>\n",
       "    </tr>\n",
       "    <tr>\n",
       "      <th>37943151</th>\n",
       "      <td>A3IDANEJLTGHUQ</td>\n",
       "      <td>1537574400</td>\n",
       "    </tr>\n",
       "    <tr>\n",
       "      <th>51273672</th>\n",
       "      <td>A15ORM6PIO5VUX</td>\n",
       "      <td>1537660800</td>\n",
       "    </tr>\n",
       "    <tr>\n",
       "      <th>51273670</th>\n",
       "      <td>ALRT0F1J2BEN5</td>\n",
       "      <td>1537660800</td>\n",
       "    </tr>\n",
       "  </tbody>\n",
       "</table>\n",
       "<p>25148 rows × 2 columns</p>\n",
       "</div>"
      ],
      "text/plain": [
       "                 user_id   timestamp\n",
       "28422937   AF2ZEM2B0Y107  1522713600\n",
       "28422980  A3S0CAA3NO7KAJ  1522713600\n",
       "28422933  A3DGIT33XGIHD9  1522713600\n",
       "33492086  A3NO3YDQ9U76TQ  1522713600\n",
       "33492041  A3OGIGTQ6SIHSN  1522713600\n",
       "...                  ...         ...\n",
       "37943159   AUH8IK46Z6V9R  1537488000\n",
       "37943150  A2FHQI74OKE1XI  1537574400\n",
       "37943151  A3IDANEJLTGHUQ  1537574400\n",
       "51273672  A15ORM6PIO5VUX  1537660800\n",
       "51273670   ALRT0F1J2BEN5  1537660800\n",
       "\n",
       "[25148 rows x 2 columns]"
      ]
     },
     "execution_count": 34,
     "metadata": {},
     "output_type": "execute_result"
    }
   ],
   "source": [
    "user_stream"
   ]
  },
  {
   "cell_type": "code",
   "execution_count": 35,
   "id": "92bf1312",
   "metadata": {},
   "outputs": [
    {
     "name": "stderr",
     "output_type": "stream",
     "text": [
      "/var/folders/_g/d2bwsxss6v9_1830lrh6wyth0000gn/T/ipykernel_99217/3105258738.py:1: SettingWithCopyWarning: \n",
      "A value is trying to be set on a copy of a slice from a DataFrame.\n",
      "Try using .loc[row_indexer,col_indexer] = value instead\n",
      "\n",
      "See the caveats in the documentation: https://pandas.pydata.org/pandas-docs/stable/user_guide/indexing.html#returning-a-view-versus-a-copy\n",
      "  top_ratings[\"reward\"] = np.where(top_ratings[\"rating\"] >= 0.0, 1, 0)\n"
     ]
    }
   ],
   "source": [
    "top_ratings[\"reward\"] = np.where(top_ratings[\"rating\"] >= 0.0, 1, 0)"
   ]
  },
  {
   "cell_type": "code",
   "execution_count": 36,
   "id": "3e21e861",
   "metadata": {},
   "outputs": [],
   "source": [
    "reward_list = top_ratings[[\"user_id\", \"item_id\", \"reward\", \"rating\"]]"
   ]
  },
  {
   "cell_type": "code",
   "execution_count": 37,
   "id": "d5b84a2e",
   "metadata": {},
   "outputs": [],
   "source": [
    "reward_list = reward_list[reward_list['reward'] == 1]"
   ]
  },
  {
   "cell_type": "code",
   "execution_count": 38,
   "id": "19ac2ab1",
   "metadata": {},
   "outputs": [],
   "source": [
    "reward_list = reward_list.set_index(\"user_id\")\n",
    "watched_list_series = (\n",
    "    reward_list.groupby(\"user_id\")[\"item_id\"].agg(set=set).set\n",
    ")\n",
    "user_id_to_watched_list_index = {\n",
    "    uid: ind for ind, uid in enumerate(watched_list_series.index)\n",
    "}"
   ]
  },
  {
   "cell_type": "code",
   "execution_count": 39,
   "id": "a48699ed",
   "metadata": {},
   "outputs": [
    {
     "data": {
      "text/plain": [
       "5000"
      ]
     },
     "execution_count": 39,
     "metadata": {},
     "output_type": "execute_result"
    }
   ],
   "source": [
    "len(user_id_to_watched_list_index)"
   ]
  },
  {
   "cell_type": "code",
   "execution_count": 40,
   "id": "3d8f9d21",
   "metadata": {},
   "outputs": [],
   "source": [
    "reward_matrix = np.zeros((len(user_id_to_watched_list_index), len(actions)))\n",
    "for uid, ind in user_id_to_watched_list_index.items():\n",
    "    watched_list = watched_list_series.iloc[ind]\n",
    "    watched_indices = [i for i in range(len(actions)) if actions[i] in watched_list]\n",
    "    # Binary vector of rewards for each arm.\n",
    "    reward_matrix[ind, watched_indices] = 1"
   ]
  },
  {
   "cell_type": "code",
   "execution_count": 41,
   "id": "3cf4835b",
   "metadata": {},
   "outputs": [
    {
     "data": {
      "text/plain": [
       "(5000, 400)"
      ]
     },
     "execution_count": 41,
     "metadata": {},
     "output_type": "execute_result"
    }
   ],
   "source": [
    "reward_matrix.shape"
   ]
  },
  {
   "cell_type": "code",
   "execution_count": 42,
   "id": "b465656c",
   "metadata": {},
   "outputs": [
    {
     "data": {
      "text/plain": [
       "array([[0., 0., 0., ..., 0., 0., 0.],\n",
       "       [0., 0., 0., ..., 0., 0., 0.],\n",
       "       [0., 0., 0., ..., 0., 0., 0.],\n",
       "       ...,\n",
       "       [0., 0., 0., ..., 0., 0., 0.],\n",
       "       [0., 0., 0., ..., 0., 0., 0.],\n",
       "       [0., 0., 0., ..., 0., 0., 0.]])"
      ]
     },
     "execution_count": 42,
     "metadata": {},
     "output_type": "execute_result"
    }
   ],
   "source": [
    "reward_matrix"
   ]
  },
  {
   "cell_type": "code",
   "execution_count": 43,
   "id": "426aa693",
   "metadata": {},
   "outputs": [
    {
     "data": {
      "text/plain": [
       "array([0.0754, 0.0714, 0.0678, 0.0664, 0.0562, 0.0492, 0.0484, 0.0482,\n",
       "       0.047 , 0.0456, 0.0444, 0.044 , 0.0422, 0.0418, 0.0408, 0.0402,\n",
       "       0.0396, 0.039 , 0.0388, 0.0388, 0.0384, 0.038 , 0.0372, 0.037 ,\n",
       "       0.0364, 0.036 , 0.036 , 0.0356, 0.0354, 0.0344, 0.0342, 0.034 ,\n",
       "       0.0338, 0.0336, 0.0332, 0.0332, 0.0332, 0.0332, 0.0324, 0.0324,\n",
       "       0.0322, 0.0316, 0.0314, 0.0314, 0.0308, 0.0306, 0.0306, 0.0302,\n",
       "       0.0302, 0.03  ])"
      ]
     },
     "execution_count": 43,
     "metadata": {},
     "output_type": "execute_result"
    }
   ],
   "source": [
    "mean_rew = np.mean(reward_matrix, axis=0)\n",
    "np.sort(mean_rew)[::-1][:50]"
   ]
  },
  {
   "cell_type": "code",
   "execution_count": null,
   "id": "db33b79b",
   "metadata": {},
   "outputs": [],
   "source": []
  },
  {
   "cell_type": "code",
   "execution_count": 44,
   "id": "f6019c50",
   "metadata": {},
   "outputs": [],
   "source": [
    "exp_rewards = np.zeros((len(user_stream), N_ARMS))\n",
    "for i, user_id in enumerate(user_stream.user_id):\n",
    "    ind = user_id_to_watched_list_index[user_id]\n",
    "    exp_rewards[i, :] = reward_matrix[ind, :]"
   ]
  },
  {
   "cell_type": "code",
   "execution_count": 45,
   "id": "9c603f21",
   "metadata": {},
   "outputs": [
    {
     "data": {
      "text/plain": [
       "(25148, 400)"
      ]
     },
     "execution_count": 45,
     "metadata": {},
     "output_type": "execute_result"
    }
   ],
   "source": [
    "exp_rewards.shape"
   ]
  },
  {
   "cell_type": "code",
   "execution_count": 46,
   "id": "5650c142",
   "metadata": {},
   "outputs": [
    {
     "data": {
      "text/plain": [
       "array([[0., 0., 0., ..., 0., 0., 0.],\n",
       "       [0., 0., 0., ..., 0., 0., 0.],\n",
       "       [0., 0., 0., ..., 0., 0., 0.],\n",
       "       ...,\n",
       "       [0., 0., 0., ..., 0., 0., 0.],\n",
       "       [0., 0., 0., ..., 0., 0., 0.],\n",
       "       [0., 0., 0., ..., 0., 0., 0.]])"
      ]
     },
     "execution_count": 46,
     "metadata": {},
     "output_type": "execute_result"
    }
   ],
   "source": [
    "exp_rewards"
   ]
  },
  {
   "cell_type": "code",
   "execution_count": 47,
   "id": "28e9017d",
   "metadata": {},
   "outputs": [
    {
     "data": {
      "text/plain": [
       "array([0.12462224, 0.12319071, 0.11332909, 0.10827899, 0.09615079,\n",
       "       0.09519644, 0.09372515, 0.09066327, 0.08545411, 0.08541435,\n",
       "       0.08354541, 0.08231271, 0.08179577, 0.0806426 , 0.08004613,\n",
       "       0.07789884, 0.07475744, 0.07380309, 0.07348497, 0.0723318 ,\n",
       "       0.07054239, 0.06923016, 0.06903133, 0.06831557, 0.06811675,\n",
       "       0.06736122, 0.0671624 , 0.06600923, 0.06577064, 0.06473676,\n",
       "       0.06410052, 0.064021  , 0.06366311, 0.06354382, 0.06247018,\n",
       "       0.06239065, 0.061317  , 0.05944807, 0.05889136, 0.05821537,\n",
       "       0.05821537, 0.05773819, 0.05769843, 0.0574996 , 0.05698266,\n",
       "       0.05698266, 0.05650549, 0.05634643, 0.0555909 , 0.05511373])"
      ]
     },
     "execution_count": 47,
     "metadata": {},
     "output_type": "execute_result"
    }
   ],
   "source": [
    "mean_rew = np.mean(exp_rewards, axis=0)\n",
    "np.sort(mean_rew)[::-1][:50]"
   ]
  },
  {
   "cell_type": "code",
   "execution_count": 48,
   "id": "7c8636fa",
   "metadata": {},
   "outputs": [],
   "source": [
    "mean_rew = exp_rewards.mean(axis=0)"
   ]
  },
  {
   "cell_type": "code",
   "execution_count": 49,
   "id": "cc2012cd",
   "metadata": {},
   "outputs": [
    {
     "data": {
      "text/plain": [
       "array([0.12462224, 0.12319071, 0.11332909, 0.10827899, 0.09615079,\n",
       "       0.09519644, 0.09372515, 0.09066327, 0.08545411, 0.08541435,\n",
       "       0.08354541, 0.08231271, 0.08179577, 0.0806426 , 0.08004613,\n",
       "       0.07789884, 0.07475744, 0.07380309, 0.07348497, 0.0723318 ,\n",
       "       0.07054239, 0.06923016, 0.06903133, 0.06831557, 0.06811675,\n",
       "       0.06736122, 0.0671624 , 0.06600923, 0.06577064, 0.06473676,\n",
       "       0.06410052, 0.064021  , 0.06366311, 0.06354382, 0.06247018,\n",
       "       0.06239065, 0.061317  , 0.05944807, 0.05889136, 0.05821537,\n",
       "       0.05821537, 0.05773819, 0.05769843, 0.0574996 , 0.05698266,\n",
       "       0.05698266, 0.05650549, 0.05634643, 0.0555909 , 0.05511373])"
      ]
     },
     "execution_count": 49,
     "metadata": {},
     "output_type": "execute_result"
    }
   ],
   "source": [
    "np.sort(mean_rew)[::-1][:50]"
   ]
  },
  {
   "cell_type": "code",
   "execution_count": null,
   "id": "b6321b05",
   "metadata": {},
   "outputs": [],
   "source": []
  },
  {
   "cell_type": "code",
   "execution_count": 50,
   "id": "f4b2cc98",
   "metadata": {},
   "outputs": [
    {
     "data": {
      "text/plain": [
       "7.634046445045332"
      ]
     },
     "execution_count": 50,
     "metadata": {},
     "output_type": "execute_result"
    }
   ],
   "source": [
    "mean_rew.sum()"
   ]
  },
  {
   "cell_type": "code",
   "execution_count": null,
   "id": "57fe2963",
   "metadata": {},
   "outputs": [],
   "source": []
  },
  {
   "cell_type": "code",
   "execution_count": null,
   "id": "c17514a8",
   "metadata": {},
   "outputs": [],
   "source": []
  },
  {
   "cell_type": "code",
   "execution_count": 53,
   "id": "f91d81b6",
   "metadata": {},
   "outputs": [
    {
     "data": {
      "text/plain": [
       "array([ 0.1,  0.2,  0.3,  0.4,  0.5,  0.6,  0.7,  0.8,  0.9,  1. ,  1.1,\n",
       "        1.2,  1.3,  1.4,  1.5,  1.6,  1.7,  1.8,  1.9,  2. ,  2.1,  2.2,\n",
       "        2.3,  2.4,  2.5,  2.6,  2.7,  2.8,  2.9,  3. ,  3.1,  3.2,  3.3,\n",
       "        3.4,  3.5,  3.6,  3.7,  3.8,  3.9,  4. ,  4.1,  4.2,  4.3,  4.4,\n",
       "        4.5,  4.6,  4.7,  4.8,  4.9,  5. ,  5.1,  5.2,  5.3,  5.4,  5.5,\n",
       "        5.6,  5.7,  5.8,  5.9,  6. ,  6.1,  6.2,  6.3,  6.4,  6.5,  6.6,\n",
       "        6.7,  6.8,  6.9,  7. ,  7.1,  7.2,  7.3,  7.4,  7.5,  7.6,  7.7,\n",
       "        7.8,  7.9,  8. ,  8.1,  8.2,  8.3,  8.4,  8.5,  8.6,  8.7,  8.8,\n",
       "        8.9,  9. ,  9.1,  9.2,  9.3,  9.4,  9.5,  9.6,  9.7,  9.8,  9.9,\n",
       "       10. , 10.1, 10.2, 10.3, 10.4, 10.5, 10.6, 10.7, 10.8, 10.9, 11. ,\n",
       "       11.1, 11.2, 11.3, 11.4, 11.5, 11.6, 11.7, 11.8, 11.9])"
      ]
     },
     "execution_count": 53,
     "metadata": {},
     "output_type": "execute_result"
    }
   ],
   "source": [
    "np.arange(0.1, 12, 0.1)"
   ]
  },
  {
   "cell_type": "code",
   "execution_count": 74,
   "id": "b5c5ba90",
   "metadata": {
    "scrolled": true
   },
   "outputs": [
    {
     "name": "stdout",
     "output_type": "stream",
     "text": [
      "0.5 years behind\n",
      "Length of user_stream: 5000\n",
      "[0.1644 0.1644 0.1636 0.0684 0.0672 0.0672 0.0668 0.0562 0.0562 0.05\n",
      " 0.0456 0.0452 0.0292 0.029  0.0268 0.0244 0.0238 0.0238 0.0204 0.0154\n",
      " 0.0136 0.0136 0.013  0.0118 0.0106 0.0104 0.0104 0.0102 0.009  0.009\n",
      " 0.0084 0.0082 0.0082 0.0082 0.008  0.008  0.008  0.0074 0.0074 0.0074\n",
      " 0.0072 0.007  0.0068 0.0068 0.0062 0.0062 0.0062 0.006  0.006  0.006 ]\n",
      "Sum of rewards:\t 2.272\n",
      "\n",
      "\n",
      "1 years behind\n",
      "Length of user_stream: 5000\n",
      "[0.128  0.128  0.1082 0.0754 0.0754 0.0754 0.0754 0.0752 0.0492 0.0492\n",
      " 0.0492 0.0492 0.0492 0.0492 0.049  0.0486 0.046  0.0452 0.0392 0.0388\n",
      " 0.0264 0.0262 0.0222 0.0206 0.0206 0.0198 0.0198 0.0198 0.0196 0.0194\n",
      " 0.0192 0.019  0.0176 0.0162 0.016  0.0152 0.0152 0.0146 0.0144 0.0144\n",
      " 0.0136 0.013  0.0124 0.0122 0.012  0.0112 0.0108 0.0102 0.01   0.0098]\n",
      "Sum of rewards:\t 2.571\n",
      "\n",
      "\n",
      "1.5 years behind\n",
      "Length of user_stream: 5000\n",
      "[0.075  0.0728 0.071  0.071  0.071  0.071  0.0606 0.0606 0.0606 0.0604\n",
      " 0.0542 0.0542 0.0466 0.0466 0.0466 0.0462 0.0462 0.03   0.03   0.03\n",
      " 0.0298 0.0298 0.0284 0.0184 0.0184 0.0162 0.0158 0.0158 0.0156 0.0152\n",
      " 0.015  0.015  0.013  0.0128 0.0126 0.0124 0.0122 0.012  0.012  0.0116\n",
      " 0.0116 0.0116 0.0114 0.011  0.011  0.011  0.0104 0.0098 0.0096 0.0094]\n",
      "Sum of rewards:\t 2.4482\n",
      "\n",
      "\n",
      "2 years behind\n",
      "Length of user_stream: 5000\n",
      "[0.0916 0.0916 0.0914 0.0914 0.091  0.075  0.0748 0.0748 0.0742 0.0628\n",
      " 0.0628 0.0586 0.0578 0.0532 0.0532 0.0532 0.0532 0.0528 0.0528 0.0272\n",
      " 0.0254 0.0216 0.0216 0.0216 0.0216 0.021  0.0202 0.0202 0.0178 0.0176\n",
      " 0.0174 0.0166 0.0164 0.0164 0.0164 0.0162 0.016  0.0138 0.0136 0.0118\n",
      " 0.0114 0.011  0.0108 0.0108 0.0106 0.0104 0.0104 0.0104 0.0104 0.0104]\n",
      "Sum of rewards:\t 2.7202\n",
      "\n",
      "\n",
      "2.5 years behind\n",
      "Length of user_stream: 5000\n",
      "[0.0968 0.0966 0.0776 0.0776 0.0776 0.0776 0.072  0.0538 0.0536 0.0486\n",
      " 0.0342 0.034  0.034  0.0322 0.0322 0.0296 0.0296 0.0262 0.0262 0.023\n",
      " 0.02   0.019  0.019  0.0168 0.0162 0.016  0.0156 0.0154 0.0154 0.0152\n",
      " 0.015  0.0148 0.0146 0.0146 0.0142 0.0136 0.0136 0.013  0.0122 0.0122\n",
      " 0.012  0.0118 0.0112 0.011  0.0108 0.0108 0.0108 0.0106 0.0104 0.0104]\n",
      "Sum of rewards:\t 2.385\n",
      "\n",
      "\n",
      "3 years behind\n",
      "Length of user_stream: 5000\n",
      "[0.0616 0.0614 0.057  0.057  0.057  0.057  0.0562 0.0556 0.0556 0.0542\n",
      " 0.054  0.043  0.043  0.0428 0.0426 0.036  0.036  0.0328 0.03   0.0296\n",
      " 0.027  0.027  0.0264 0.0254 0.0248 0.0218 0.0214 0.021  0.021  0.0188\n",
      " 0.0186 0.0184 0.0174 0.0174 0.0166 0.0166 0.016  0.0142 0.0124 0.0118\n",
      " 0.0114 0.0112 0.0108 0.0108 0.0108 0.0106 0.0106 0.0096 0.0096 0.0096]\n",
      "Sum of rewards:\t 2.4026\n",
      "\n",
      "\n",
      "3.5 years behind\n",
      "Length of user_stream: 5000\n",
      "[0.1108 0.1108 0.0502 0.0496 0.0494 0.0438 0.0438 0.0432 0.043  0.0428\n",
      " 0.0412 0.0406 0.0404 0.0386 0.0336 0.0336 0.0324 0.0324 0.0322 0.0322\n",
      " 0.0318 0.0306 0.0304 0.0296 0.0208 0.0198 0.0194 0.018  0.0174 0.017\n",
      " 0.0164 0.016  0.0152 0.0144 0.0142 0.0134 0.0134 0.0126 0.012  0.0116\n",
      " 0.0116 0.011  0.011  0.0108 0.0104 0.01   0.01   0.01   0.01   0.0098]\n",
      "Sum of rewards:\t 2.3712\n",
      "\n",
      "\n",
      "4 years behind\n",
      "Length of user_stream: 5000\n",
      "[0.0766 0.0764 0.0648 0.0646 0.0608 0.0608 0.057  0.057  0.057  0.057\n",
      " 0.0566 0.0556 0.0556 0.0528 0.0448 0.0316 0.0288 0.026  0.0256 0.0256\n",
      " 0.0242 0.0238 0.0238 0.022  0.0216 0.0194 0.0194 0.0182 0.0182 0.018\n",
      " 0.0174 0.0148 0.0146 0.0146 0.0144 0.0142 0.0138 0.0134 0.0124 0.0122\n",
      " 0.0122 0.0118 0.0114 0.0106 0.0102 0.0102 0.0096 0.0096 0.0096 0.0094]\n",
      "Sum of rewards:\t 2.4438\n",
      "\n",
      "\n",
      "4.5 years behind\n",
      "Length of user_stream: 5000\n",
      "[0.085  0.085  0.0588 0.0578 0.0424 0.0348 0.0348 0.0348 0.032  0.0308\n",
      " 0.0308 0.0306 0.0304 0.0298 0.0298 0.0274 0.0214 0.0214 0.0182 0.0178\n",
      " 0.0178 0.0168 0.0168 0.0152 0.0146 0.0146 0.0142 0.0136 0.013  0.0128\n",
      " 0.0128 0.0128 0.0128 0.0122 0.012  0.0118 0.0118 0.0118 0.0116 0.0116\n",
      " 0.011  0.011  0.011  0.0104 0.0104 0.0098 0.0096 0.0096 0.0096 0.0094]\n",
      "Sum of rewards:\t 2.0722\n",
      "\n",
      "\n",
      "5 years behind\n",
      "Length of user_stream: 5000\n",
      "[0.0452 0.04   0.0398 0.0372 0.0372 0.0372 0.0372 0.0366 0.0364 0.0364\n",
      " 0.0312 0.0284 0.0284 0.0278 0.023  0.0228 0.0226 0.0224 0.0214 0.0214\n",
      " 0.0212 0.0178 0.0136 0.0136 0.0136 0.0134 0.013  0.0126 0.0126 0.0126\n",
      " 0.0124 0.0118 0.0118 0.011  0.011  0.0108 0.0108 0.0106 0.0106 0.0104\n",
      " 0.0104 0.0102 0.0102 0.01   0.01   0.0098 0.0096 0.0094 0.0094 0.0094]\n",
      "Sum of rewards:\t 1.8728000000000002\n",
      "\n",
      "\n",
      "5.5 years behind\n",
      "Length of user_stream: 5000\n",
      "[0.047  0.047  0.0412 0.0382 0.0382 0.0212 0.0212 0.0212 0.0188 0.0186\n",
      " 0.0186 0.0172 0.0146 0.0146 0.0142 0.0132 0.0132 0.0132 0.0128 0.0126\n",
      " 0.0126 0.0126 0.0124 0.0122 0.012  0.0114 0.0114 0.0112 0.011  0.0106\n",
      " 0.0104 0.0102 0.01   0.01   0.01   0.01   0.0098 0.0098 0.0098 0.0098\n",
      " 0.0098 0.0098 0.0098 0.0096 0.0094 0.0094 0.0092 0.0092 0.0092 0.0092]\n",
      "Sum of rewards:\t 1.7036000000000002\n",
      "\n",
      "\n",
      "6 years behind\n",
      "Length of user_stream: 5000\n",
      "[0.0432 0.0378 0.0314 0.0312 0.0282 0.028  0.0272 0.02   0.02   0.02\n",
      " 0.02   0.0198 0.0198 0.0192 0.0192 0.0192 0.0192 0.0178 0.0164 0.015\n",
      " 0.0148 0.0132 0.0132 0.0132 0.013  0.0126 0.0126 0.0126 0.0118 0.0118\n",
      " 0.0116 0.0116 0.0116 0.0106 0.0106 0.0106 0.0104 0.0104 0.0104 0.01\n",
      " 0.01   0.0098 0.0098 0.0098 0.0096 0.0096 0.0096 0.0094 0.0092 0.0092]\n",
      "Sum of rewards:\t 1.7568000000000001\n",
      "\n",
      "\n",
      "6.5 years behind\n",
      "Length of user_stream: 5000\n",
      "[0.0288 0.0286 0.0222 0.021  0.0156 0.0132 0.013  0.0122 0.0122 0.0114\n",
      " 0.0106 0.0098 0.0094 0.0086 0.0086 0.0084 0.0084 0.0084 0.0082 0.0082\n",
      " 0.008  0.0076 0.0076 0.0076 0.0076 0.0076 0.0076 0.0074 0.0074 0.0074\n",
      " 0.0074 0.0074 0.0074 0.0074 0.0074 0.0072 0.0072 0.0072 0.0072 0.0068\n",
      " 0.0066 0.0066 0.0066 0.0066 0.0064 0.0064 0.0064 0.0064 0.0064 0.0064]\n",
      "Sum of rewards:\t 1.2976\n",
      "\n",
      "\n",
      "7 years behind\n",
      "Length of user_stream: 5000\n",
      "[0.0348 0.0184 0.0136 0.0128 0.0114 0.011  0.011  0.011  0.0104 0.0102\n",
      " 0.01   0.0098 0.0082 0.0082 0.008  0.0078 0.0078 0.0076 0.0074 0.0074\n",
      " 0.0074 0.0074 0.0074 0.0074 0.0072 0.0068 0.0066 0.0064 0.0064 0.0064\n",
      " 0.006  0.006  0.006  0.006  0.0058 0.0058 0.0058 0.0058 0.0056 0.0056\n",
      " 0.0056 0.0054 0.0054 0.0054 0.0052 0.0052 0.0052 0.0052 0.005  0.005 ]\n",
      "Sum of rewards:\t 1.1978\n",
      "\n",
      "\n",
      "7.5 years behind\n",
      "Length of user_stream: 5000\n",
      "[0.0178 0.0142 0.0142 0.0128 0.0116 0.0098 0.0092 0.009  0.009  0.0088\n",
      " 0.0086 0.0084 0.0084 0.0082 0.008  0.0078 0.0078 0.0078 0.0076 0.0074\n",
      " 0.007  0.0066 0.0066 0.0064 0.0062 0.0062 0.0062 0.006  0.006  0.006\n",
      " 0.0058 0.0058 0.0058 0.0056 0.0056 0.0056 0.0056 0.0056 0.0056 0.0056\n",
      " 0.0054 0.0054 0.0054 0.0054 0.0052 0.0052 0.0052 0.0052 0.0052 0.0052]\n",
      "Sum of rewards:\t 1.2080000000000002\n",
      "\n",
      "\n",
      "8 years behind\n",
      "Length of user_stream: 5000\n",
      "[0.0238 0.0184 0.0154 0.0154 0.0138 0.012  0.0114 0.0104 0.0102 0.0084\n",
      " 0.008  0.0078 0.0076 0.0076 0.0076 0.0076 0.007  0.007  0.0068 0.0066\n",
      " 0.0062 0.0062 0.006  0.006  0.006  0.0058 0.0058 0.0058 0.0056 0.0056\n",
      " 0.0056 0.0056 0.0054 0.0054 0.0054 0.0054 0.0052 0.0052 0.0052 0.0052\n",
      " 0.0052 0.0052 0.0052 0.005  0.0048 0.0048 0.0046 0.0046 0.0044 0.0044]\n",
      "Sum of rewards:\t 1.1392\n",
      "\n",
      "\n"
     ]
    }
   ],
   "source": [
    "ratings = pd.read_csv(\n",
    "    f\"{PROJECT_DIR}/dataset/amazon/Video_Games.csv\", names=[\"item_id\", \"user_id\", \"rating\", \"timestamp\"]\n",
    ")\n",
    "\n",
    "years_search = [0.5, 1, 1.5, 2, 2.5, 3, 3.5, 4, 4.5, 5, 5.5, 6, 6.5, 7, 7.5, 8]\n",
    "# years_search = [5.8]\n",
    "# years_search = np.arange(1, 8, 0.2)\n",
    "\n",
    "\n",
    "max_sum = 0\n",
    "best_year = 0\n",
    "for YEARS_BEHIND in years_search:\n",
    "    print(f\"{YEARS_BEHIND} years behind\")\n",
    "    max_ts = ratings.timestamp.max()\n",
    "    start_time = max_ts - 3600 * 24 * 365 * YEARS_BEHIND\n",
    "    end_time = max_ts - 3600 * 24 * 365 * (YEARS_BEHIND-0.5)\n",
    "\n",
    "    new_ratings = ratings[ratings.timestamp > start_time]\n",
    "    new_ratings = new_ratings[new_ratings.timestamp < end_time]\n",
    "\n",
    "    N_ARMS = 400\n",
    "    actions = new_ratings.groupby(\"item_id\").size().sort_values(ascending=False)[:N_ARMS]\n",
    "    actions = list(actions.index)\n",
    "    top_ratings = new_ratings[new_ratings[\"item_id\"].isin(actions)]\n",
    "    \n",
    "    top_ratings = top_ratings.sort_values(\"timestamp\", ascending=1)\n",
    "\n",
    "    user_stream = top_ratings[[\"user_id\", \"timestamp\"]]\n",
    "\n",
    "    top_users = list(top_ratings.groupby('user_id').size().sort_values(ascending=False)[:5000].index)\n",
    "    user_stream = user_stream[user_stream.user_id.isin(top_users)]\n",
    "    \n",
    "    # This line makes sure we use the 5k users sorted by timestamp.\n",
    "    user_stream = user_stream.drop_duplicates(subset=['user_id'])\n",
    "    \n",
    "    print(f\"Length of user_stream: {len(user_stream)}\")\n",
    "#     if len(user_stream) > 100000:\n",
    "#         user_stream = user_stream.iloc[-100000:]\n",
    "#         print(\"ENOUGH\")\n",
    "    \n",
    "    users = set(user_stream.user_id)\n",
    "    top_ratings = top_ratings[top_ratings.user_id.isin(users)]\n",
    "\n",
    "    top_ratings[\"reward\"] = np.where(top_ratings[\"rating\"] >= 0.0, 1, 0)\n",
    "    reward_list = top_ratings[[\"user_id\", \"item_id\", \"reward\", \"rating\"]]\n",
    "    reward_list = reward_list[reward_list['reward'] == 1] \n",
    "    reward_list = reward_list.set_index(\"user_id\")\n",
    "    \n",
    "    watched_list_series = (\n",
    "        reward_list.groupby(\"user_id\")[\"item_id\"].agg(set=set).set\n",
    "    )\n",
    "    user_id_to_watched_list_index = {\n",
    "        uid: ind for ind, uid in enumerate(watched_list_series.index)\n",
    "    }\n",
    "    reward_matrix = np.zeros((len(user_id_to_watched_list_index), len(actions)))\n",
    "    for uid, ind in user_id_to_watched_list_index.items():\n",
    "        watched_list = watched_list_series.iloc[ind]\n",
    "        watched_indices = [i for i in range(len(actions)) if actions[i] in watched_list]\n",
    "        # Binary vector of rewards for each arm.\n",
    "        reward_matrix[ind, watched_indices] = 1\n",
    "\n",
    "    mean_rew = reward_matrix.mean(axis=0)\n",
    "    print(np.sort(mean_rew)[::-1][:50])\n",
    "    print(f\"Sum of rewards:\\t {mean_rew.sum()}\")\n",
    "    if mean_rew.sum() > max_sum:\n",
    "        max_sum = mean_rew.sum()\n",
    "        best_year = YEARS_BEHIND\n",
    "    print('\\n')"
   ]
  },
  {
   "cell_type": "code",
   "execution_count": 75,
   "id": "bb0adb85",
   "metadata": {},
   "outputs": [
    {
     "data": {
      "text/plain": [
       "2"
      ]
     },
     "execution_count": 75,
     "metadata": {},
     "output_type": "execute_result"
    }
   ],
   "source": [
    "best_year"
   ]
  },
  {
   "cell_type": "code",
   "execution_count": null,
   "id": "7a9197d6",
   "metadata": {},
   "outputs": [],
   "source": []
  },
  {
   "cell_type": "code",
   "execution_count": null,
   "id": "521a169e",
   "metadata": {},
   "outputs": [],
   "source": []
  },
  {
   "cell_type": "code",
   "execution_count": 84,
   "id": "9978ebb9",
   "metadata": {},
   "outputs": [
    {
     "data": {
      "text/plain": [
       "30000"
      ]
     },
     "execution_count": 84,
     "metadata": {},
     "output_type": "execute_result"
    }
   ],
   "source": [
    "len(user_stream.user_id.unique())"
   ]
  },
  {
   "cell_type": "code",
   "execution_count": 87,
   "id": "2e04888a",
   "metadata": {},
   "outputs": [
    {
     "data": {
      "text/plain": [
       "array([0.04733, 0.04656, 0.04648, 0.04082, 0.04082, 0.04082, 0.04075,\n",
       "       0.04057, 0.04005, 0.03971, 0.03756, 0.03412, 0.02974, 0.02644,\n",
       "       0.02637, 0.02371, 0.02121, 0.02084, 0.01922, 0.01897, 0.01897,\n",
       "       0.0189 , 0.01869, 0.01869, 0.01807, 0.01807, 0.01669, 0.01581,\n",
       "       0.01509, 0.01463, 0.01458, 0.01453, 0.0143 , 0.01429, 0.01413,\n",
       "       0.01385, 0.0138 , 0.01378, 0.01374, 0.01369, 0.01351, 0.01296,\n",
       "       0.01258, 0.01256, 0.01249, 0.01241, 0.0124 , 0.01228, 0.0122 ,\n",
       "       0.01197])"
      ]
     },
     "execution_count": 87,
     "metadata": {},
     "output_type": "execute_result"
    }
   ],
   "source": [
    "np.sort(mean_rew)[::-1][:50]"
   ]
  },
  {
   "cell_type": "code",
   "execution_count": null,
   "id": "359ea8fe",
   "metadata": {},
   "outputs": [],
   "source": []
  },
  {
   "cell_type": "markdown",
   "id": "b5e10463",
   "metadata": {},
   "source": [
    "How to sort the users by timestamp?\n",
    "I have the users sorted by their ratings."
   ]
  },
  {
   "cell_type": "code",
   "execution_count": null,
   "id": "0ac4604b",
   "metadata": {},
   "outputs": [],
   "source": []
  },
  {
   "cell_type": "code",
   "execution_count": null,
   "id": "1cacb1d2",
   "metadata": {},
   "outputs": [],
   "source": []
  },
  {
   "cell_type": "code",
   "execution_count": null,
   "id": "c34e73db",
   "metadata": {},
   "outputs": [],
   "source": []
  },
  {
   "cell_type": "code",
   "execution_count": null,
   "id": "ce02d8fb",
   "metadata": {},
   "outputs": [],
   "source": []
  },
  {
   "cell_type": "code",
   "execution_count": null,
   "id": "c3027cc8",
   "metadata": {},
   "outputs": [],
   "source": []
  },
  {
   "cell_type": "code",
   "execution_count": null,
   "id": "22e65481",
   "metadata": {},
   "outputs": [],
   "source": []
  },
  {
   "cell_type": "code",
   "execution_count": null,
   "id": "a01557e3",
   "metadata": {},
   "outputs": [],
   "source": []
  },
  {
   "cell_type": "code",
   "execution_count": null,
   "id": "3072c38e",
   "metadata": {},
   "outputs": [],
   "source": []
  },
  {
   "cell_type": "code",
   "execution_count": null,
   "id": "9334e095",
   "metadata": {},
   "outputs": [],
   "source": []
  },
  {
   "cell_type": "code",
   "execution_count": null,
   "id": "d33a0104",
   "metadata": {},
   "outputs": [],
   "source": []
  },
  {
   "cell_type": "code",
   "execution_count": null,
   "id": "442e1a59",
   "metadata": {},
   "outputs": [],
   "source": [
    "\n"
   ]
  },
  {
   "cell_type": "code",
   "execution_count": 8,
   "id": "52e11737",
   "metadata": {},
   "outputs": [
    {
     "data": {
      "text/plain": [
       "user_id\n",
       "A000033826RVJH496D4A    3\n",
       "A00007762BKXYRMOCC0A    1\n",
       "A0001176G5I54P8WV7J5    1\n",
       "A0001258YUYGHOWU7Y0C    1\n",
       "A0001392IVCRENBEIEYS    1\n",
       "                       ..\n",
       "AZZZXMJMM84SU           1\n",
       "AZZZYCR4NZADZ           2\n",
       "AZZZZCVMZCKUJ           1\n",
       "AZZZZW74AAX75           1\n",
       "AZZZZXVAOWWME           2\n",
       "Length: 15362619, dtype: int64"
      ]
     },
     "execution_count": 8,
     "metadata": {},
     "output_type": "execute_result"
    }
   ],
   "source": [
    "ratings.groupby('user_id').size()"
   ]
  },
  {
   "cell_type": "code",
   "execution_count": 9,
   "id": "8426efa8",
   "metadata": {
    "scrolled": false
   },
   "outputs": [
    {
     "data": {
      "text/plain": [
       "user_id\n",
       "A2OJW07GQRNJUT    9684\n",
       "A2F6N60Z96CAJI    9074\n",
       "A328S9RN3U5M68    7077\n",
       "AHUT55E980RDR     5842\n",
       "A1X8VZWTOG8IS6    4437\n",
       "                  ... \n",
       "A389V60VNXAC1I       1\n",
       "A389V4BWF5QL0J       1\n",
       "A1WJEWVJJ6ISMD       1\n",
       "A1WJEX7RQEFKSE       1\n",
       "A1P1A4OKMU0GXL       1\n",
       "Length: 15362619, dtype: int64"
      ]
     },
     "execution_count": 9,
     "metadata": {},
     "output_type": "execute_result"
    }
   ],
   "source": [
    "ratings.groupby('user_id').size().sort_values(ascending=False)"
   ]
  },
  {
   "cell_type": "code",
   "execution_count": null,
   "id": "bab04ebd",
   "metadata": {},
   "outputs": [],
   "source": []
  },
  {
   "cell_type": "code",
   "execution_count": null,
   "id": "edb5103d",
   "metadata": {},
   "outputs": [],
   "source": []
  },
  {
   "cell_type": "code",
   "execution_count": null,
   "id": "aa00afc6",
   "metadata": {},
   "outputs": [],
   "source": []
  },
  {
   "cell_type": "markdown",
   "id": "7c80b06e",
   "metadata": {},
   "source": [
    "## Check users that all have rated same top-k items"
   ]
  },
  {
   "cell_type": "code",
   "execution_count": 8,
   "id": "faa00bb2",
   "metadata": {},
   "outputs": [],
   "source": [
    "def users_that_rated_all_items(ratings, items):\n",
    "    user_sets = []\n",
    "    for item_id in items:\n",
    "        item_users = set(ratings[ratings.item_id == item_id].user_id)\n",
    "        user_sets.append(item_users)\n",
    "    return set.intersection(*user_sets)"
   ]
  },
  {
   "cell_type": "code",
   "execution_count": 9,
   "id": "477e4fe0",
   "metadata": {},
   "outputs": [],
   "source": [
    "def users_that_rated_all_top_k_items(ratings, k):\n",
    "    items = ratings.groupby('item_id').size().sort_values(ascending=False)\n",
    "    top_k_items = set(items[:k].index)\n",
    "    top_k_ratings = ratings[ratings.item_id.isin(top_k_items)]\n",
    "    top_k_users = users_that_rated_all_items(top_k_ratings, top_k_items)\n",
    "    return len(top_k_users)"
   ]
  },
  {
   "cell_type": "code",
   "execution_count": 10,
   "id": "254d0089",
   "metadata": {},
   "outputs": [],
   "source": [
    "users_rated_top_k_items = {\n",
    "    \"k\": [],\n",
    "    \"users\": [],\n",
    "}\n",
    "for k in range(1, 50):\n",
    "    users_rated_top_k_items['k'].append(k)\n",
    "    users_rated_top_k_items['users'].append(users_that_rated_all_top_k_items(ratings, k))"
   ]
  },
  {
   "cell_type": "code",
   "execution_count": 11,
   "id": "8516b1d6",
   "metadata": {},
   "outputs": [
    {
     "data": {
      "text/html": [
       "<div>\n",
       "<style scoped>\n",
       "    .dataframe tbody tr th:only-of-type {\n",
       "        vertical-align: middle;\n",
       "    }\n",
       "\n",
       "    .dataframe tbody tr th {\n",
       "        vertical-align: top;\n",
       "    }\n",
       "\n",
       "    .dataframe thead th {\n",
       "        text-align: right;\n",
       "    }\n",
       "</style>\n",
       "<table border=\"1\" class=\"dataframe\">\n",
       "  <thead>\n",
       "    <tr style=\"text-align: right;\">\n",
       "      <th></th>\n",
       "      <th>k</th>\n",
       "      <th>users</th>\n",
       "    </tr>\n",
       "  </thead>\n",
       "  <tbody>\n",
       "    <tr>\n",
       "      <th>0</th>\n",
       "      <td>1</td>\n",
       "      <td>9990</td>\n",
       "    </tr>\n",
       "    <tr>\n",
       "      <th>1</th>\n",
       "      <td>2</td>\n",
       "      <td>5</td>\n",
       "    </tr>\n",
       "    <tr>\n",
       "      <th>2</th>\n",
       "      <td>3</td>\n",
       "      <td>0</td>\n",
       "    </tr>\n",
       "    <tr>\n",
       "      <th>3</th>\n",
       "      <td>4</td>\n",
       "      <td>0</td>\n",
       "    </tr>\n",
       "    <tr>\n",
       "      <th>4</th>\n",
       "      <td>5</td>\n",
       "      <td>0</td>\n",
       "    </tr>\n",
       "    <tr>\n",
       "      <th>5</th>\n",
       "      <td>6</td>\n",
       "      <td>0</td>\n",
       "    </tr>\n",
       "    <tr>\n",
       "      <th>6</th>\n",
       "      <td>7</td>\n",
       "      <td>0</td>\n",
       "    </tr>\n",
       "    <tr>\n",
       "      <th>7</th>\n",
       "      <td>8</td>\n",
       "      <td>0</td>\n",
       "    </tr>\n",
       "    <tr>\n",
       "      <th>8</th>\n",
       "      <td>9</td>\n",
       "      <td>0</td>\n",
       "    </tr>\n",
       "    <tr>\n",
       "      <th>9</th>\n",
       "      <td>10</td>\n",
       "      <td>0</td>\n",
       "    </tr>\n",
       "    <tr>\n",
       "      <th>10</th>\n",
       "      <td>11</td>\n",
       "      <td>0</td>\n",
       "    </tr>\n",
       "    <tr>\n",
       "      <th>11</th>\n",
       "      <td>12</td>\n",
       "      <td>0</td>\n",
       "    </tr>\n",
       "    <tr>\n",
       "      <th>12</th>\n",
       "      <td>13</td>\n",
       "      <td>0</td>\n",
       "    </tr>\n",
       "    <tr>\n",
       "      <th>13</th>\n",
       "      <td>14</td>\n",
       "      <td>0</td>\n",
       "    </tr>\n",
       "    <tr>\n",
       "      <th>14</th>\n",
       "      <td>15</td>\n",
       "      <td>0</td>\n",
       "    </tr>\n",
       "    <tr>\n",
       "      <th>15</th>\n",
       "      <td>16</td>\n",
       "      <td>0</td>\n",
       "    </tr>\n",
       "    <tr>\n",
       "      <th>16</th>\n",
       "      <td>17</td>\n",
       "      <td>0</td>\n",
       "    </tr>\n",
       "    <tr>\n",
       "      <th>17</th>\n",
       "      <td>18</td>\n",
       "      <td>0</td>\n",
       "    </tr>\n",
       "    <tr>\n",
       "      <th>18</th>\n",
       "      <td>19</td>\n",
       "      <td>0</td>\n",
       "    </tr>\n",
       "    <tr>\n",
       "      <th>19</th>\n",
       "      <td>20</td>\n",
       "      <td>0</td>\n",
       "    </tr>\n",
       "    <tr>\n",
       "      <th>20</th>\n",
       "      <td>21</td>\n",
       "      <td>0</td>\n",
       "    </tr>\n",
       "    <tr>\n",
       "      <th>21</th>\n",
       "      <td>22</td>\n",
       "      <td>0</td>\n",
       "    </tr>\n",
       "    <tr>\n",
       "      <th>22</th>\n",
       "      <td>23</td>\n",
       "      <td>0</td>\n",
       "    </tr>\n",
       "    <tr>\n",
       "      <th>23</th>\n",
       "      <td>24</td>\n",
       "      <td>0</td>\n",
       "    </tr>\n",
       "    <tr>\n",
       "      <th>24</th>\n",
       "      <td>25</td>\n",
       "      <td>0</td>\n",
       "    </tr>\n",
       "    <tr>\n",
       "      <th>25</th>\n",
       "      <td>26</td>\n",
       "      <td>0</td>\n",
       "    </tr>\n",
       "    <tr>\n",
       "      <th>26</th>\n",
       "      <td>27</td>\n",
       "      <td>0</td>\n",
       "    </tr>\n",
       "    <tr>\n",
       "      <th>27</th>\n",
       "      <td>28</td>\n",
       "      <td>0</td>\n",
       "    </tr>\n",
       "    <tr>\n",
       "      <th>28</th>\n",
       "      <td>29</td>\n",
       "      <td>0</td>\n",
       "    </tr>\n",
       "    <tr>\n",
       "      <th>29</th>\n",
       "      <td>30</td>\n",
       "      <td>0</td>\n",
       "    </tr>\n",
       "    <tr>\n",
       "      <th>30</th>\n",
       "      <td>31</td>\n",
       "      <td>0</td>\n",
       "    </tr>\n",
       "    <tr>\n",
       "      <th>31</th>\n",
       "      <td>32</td>\n",
       "      <td>0</td>\n",
       "    </tr>\n",
       "    <tr>\n",
       "      <th>32</th>\n",
       "      <td>33</td>\n",
       "      <td>0</td>\n",
       "    </tr>\n",
       "    <tr>\n",
       "      <th>33</th>\n",
       "      <td>34</td>\n",
       "      <td>0</td>\n",
       "    </tr>\n",
       "    <tr>\n",
       "      <th>34</th>\n",
       "      <td>35</td>\n",
       "      <td>0</td>\n",
       "    </tr>\n",
       "    <tr>\n",
       "      <th>35</th>\n",
       "      <td>36</td>\n",
       "      <td>0</td>\n",
       "    </tr>\n",
       "    <tr>\n",
       "      <th>36</th>\n",
       "      <td>37</td>\n",
       "      <td>0</td>\n",
       "    </tr>\n",
       "    <tr>\n",
       "      <th>37</th>\n",
       "      <td>38</td>\n",
       "      <td>0</td>\n",
       "    </tr>\n",
       "    <tr>\n",
       "      <th>38</th>\n",
       "      <td>39</td>\n",
       "      <td>0</td>\n",
       "    </tr>\n",
       "    <tr>\n",
       "      <th>39</th>\n",
       "      <td>40</td>\n",
       "      <td>0</td>\n",
       "    </tr>\n",
       "    <tr>\n",
       "      <th>40</th>\n",
       "      <td>41</td>\n",
       "      <td>0</td>\n",
       "    </tr>\n",
       "    <tr>\n",
       "      <th>41</th>\n",
       "      <td>42</td>\n",
       "      <td>0</td>\n",
       "    </tr>\n",
       "    <tr>\n",
       "      <th>42</th>\n",
       "      <td>43</td>\n",
       "      <td>0</td>\n",
       "    </tr>\n",
       "    <tr>\n",
       "      <th>43</th>\n",
       "      <td>44</td>\n",
       "      <td>0</td>\n",
       "    </tr>\n",
       "    <tr>\n",
       "      <th>44</th>\n",
       "      <td>45</td>\n",
       "      <td>0</td>\n",
       "    </tr>\n",
       "    <tr>\n",
       "      <th>45</th>\n",
       "      <td>46</td>\n",
       "      <td>0</td>\n",
       "    </tr>\n",
       "    <tr>\n",
       "      <th>46</th>\n",
       "      <td>47</td>\n",
       "      <td>0</td>\n",
       "    </tr>\n",
       "    <tr>\n",
       "      <th>47</th>\n",
       "      <td>48</td>\n",
       "      <td>0</td>\n",
       "    </tr>\n",
       "    <tr>\n",
       "      <th>48</th>\n",
       "      <td>49</td>\n",
       "      <td>0</td>\n",
       "    </tr>\n",
       "  </tbody>\n",
       "</table>\n",
       "</div>"
      ],
      "text/plain": [
       "     k  users\n",
       "0    1   9990\n",
       "1    2      5\n",
       "2    3      0\n",
       "3    4      0\n",
       "4    5      0\n",
       "5    6      0\n",
       "6    7      0\n",
       "7    8      0\n",
       "8    9      0\n",
       "9   10      0\n",
       "10  11      0\n",
       "11  12      0\n",
       "12  13      0\n",
       "13  14      0\n",
       "14  15      0\n",
       "15  16      0\n",
       "16  17      0\n",
       "17  18      0\n",
       "18  19      0\n",
       "19  20      0\n",
       "20  21      0\n",
       "21  22      0\n",
       "22  23      0\n",
       "23  24      0\n",
       "24  25      0\n",
       "25  26      0\n",
       "26  27      0\n",
       "27  28      0\n",
       "28  29      0\n",
       "29  30      0\n",
       "30  31      0\n",
       "31  32      0\n",
       "32  33      0\n",
       "33  34      0\n",
       "34  35      0\n",
       "35  36      0\n",
       "36  37      0\n",
       "37  38      0\n",
       "38  39      0\n",
       "39  40      0\n",
       "40  41      0\n",
       "41  42      0\n",
       "42  43      0\n",
       "43  44      0\n",
       "44  45      0\n",
       "45  46      0\n",
       "46  47      0\n",
       "47  48      0\n",
       "48  49      0"
      ]
     },
     "execution_count": 11,
     "metadata": {},
     "output_type": "execute_result"
    }
   ],
   "source": [
    "pd.DataFrame(users_rated_top_k_items)"
   ]
  },
  {
   "cell_type": "markdown",
   "id": "d2a681d3",
   "metadata": {},
   "source": [
    "## Check users that each has rated at least k items (may be different)"
   ]
  },
  {
   "cell_type": "code",
   "execution_count": 12,
   "id": "d4adad22",
   "metadata": {},
   "outputs": [],
   "source": [
    "def users_that_rated_at_least_k_items(ratings, k):\n",
    "    users = ratings.groupby('user_id').size().sort_values(ascending=False)\n",
    "    at_least_k_users = users[users > k]\n",
    "    return len(at_least_k_users)"
   ]
  },
  {
   "cell_type": "code",
   "execution_count": 15,
   "id": "4d0769ee",
   "metadata": {},
   "outputs": [],
   "source": [
    "users_rated_at_least_k_items = {\n",
    "    \"k\": [],\n",
    "    \"users\": [],\n",
    "}\n",
    "for k in range(1, 550, 50):\n",
    "    users_rated_at_least_k_items['k'].append(k)\n",
    "    users_rated_at_least_k_items['users'].append(users_that_rated_at_least_k_items(ratings, k))"
   ]
  },
  {
   "cell_type": "code",
   "execution_count": 16,
   "id": "15d73ae6",
   "metadata": {},
   "outputs": [
    {
     "data": {
      "text/html": [
       "<div>\n",
       "<style scoped>\n",
       "    .dataframe tbody tr th:only-of-type {\n",
       "        vertical-align: middle;\n",
       "    }\n",
       "\n",
       "    .dataframe tbody tr th {\n",
       "        vertical-align: top;\n",
       "    }\n",
       "\n",
       "    .dataframe thead th {\n",
       "        text-align: right;\n",
       "    }\n",
       "</style>\n",
       "<table border=\"1\" class=\"dataframe\">\n",
       "  <thead>\n",
       "    <tr style=\"text-align: right;\">\n",
       "      <th></th>\n",
       "      <th>k</th>\n",
       "      <th>users</th>\n",
       "    </tr>\n",
       "  </thead>\n",
       "  <tbody>\n",
       "    <tr>\n",
       "      <th>0</th>\n",
       "      <td>1</td>\n",
       "      <td>2299429</td>\n",
       "    </tr>\n",
       "    <tr>\n",
       "      <th>1</th>\n",
       "      <td>51</td>\n",
       "      <td>1618</td>\n",
       "    </tr>\n",
       "    <tr>\n",
       "      <th>2</th>\n",
       "      <td>101</td>\n",
       "      <td>173</td>\n",
       "    </tr>\n",
       "    <tr>\n",
       "      <th>3</th>\n",
       "      <td>151</td>\n",
       "      <td>40</td>\n",
       "    </tr>\n",
       "    <tr>\n",
       "      <th>4</th>\n",
       "      <td>201</td>\n",
       "      <td>22</td>\n",
       "    </tr>\n",
       "    <tr>\n",
       "      <th>5</th>\n",
       "      <td>251</td>\n",
       "      <td>10</td>\n",
       "    </tr>\n",
       "    <tr>\n",
       "      <th>6</th>\n",
       "      <td>301</td>\n",
       "      <td>6</td>\n",
       "    </tr>\n",
       "    <tr>\n",
       "      <th>7</th>\n",
       "      <td>351</td>\n",
       "      <td>2</td>\n",
       "    </tr>\n",
       "    <tr>\n",
       "      <th>8</th>\n",
       "      <td>401</td>\n",
       "      <td>1</td>\n",
       "    </tr>\n",
       "    <tr>\n",
       "      <th>9</th>\n",
       "      <td>451</td>\n",
       "      <td>0</td>\n",
       "    </tr>\n",
       "    <tr>\n",
       "      <th>10</th>\n",
       "      <td>501</td>\n",
       "      <td>0</td>\n",
       "    </tr>\n",
       "  </tbody>\n",
       "</table>\n",
       "</div>"
      ],
      "text/plain": [
       "      k    users\n",
       "0     1  2299429\n",
       "1    51     1618\n",
       "2   101      173\n",
       "3   151       40\n",
       "4   201       22\n",
       "5   251       10\n",
       "6   301        6\n",
       "7   351        2\n",
       "8   401        1\n",
       "9   451        0\n",
       "10  501        0"
      ]
     },
     "execution_count": 16,
     "metadata": {},
     "output_type": "execute_result"
    }
   ],
   "source": [
    "pd.DataFrame(users_rated_at_least_k_items)"
   ]
  },
  {
   "cell_type": "code",
   "execution_count": null,
   "id": "bc5f8ef1",
   "metadata": {},
   "outputs": [],
   "source": []
  }
 ],
 "metadata": {
  "kernelspec": {
   "display_name": "Python 3 (ipykernel)",
   "language": "python",
   "name": "python3"
  },
  "language_info": {
   "codemirror_mode": {
    "name": "ipython",
    "version": 3
   },
   "file_extension": ".py",
   "mimetype": "text/x-python",
   "name": "python",
   "nbconvert_exporter": "python",
   "pygments_lexer": "ipython3",
   "version": "3.10.6"
  },
  "toc": {
   "base_numbering": 1,
   "nav_menu": {},
   "number_sections": true,
   "sideBar": true,
   "skip_h1_title": false,
   "title_cell": "Table of Contents",
   "title_sidebar": "Contents",
   "toc_cell": false,
   "toc_position": {},
   "toc_section_display": true,
   "toc_window_display": false
  }
 },
 "nbformat": 4,
 "nbformat_minor": 5
}
