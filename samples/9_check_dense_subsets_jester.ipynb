{
 "cells": [
  {
   "cell_type": "markdown",
   "id": "f435a5df",
   "metadata": {},
   "source": [
    "# Search for a subset of data suitable for a test set\n",
    "\n",
    "We want to find some set of items that were all rated by some subset of users. This would give us a test subset with full feedback."
   ]
  },
  {
   "cell_type": "code",
   "execution_count": 19,
   "id": "8b18d6a5",
   "metadata": {},
   "outputs": [
    {
     "name": "stdout",
     "output_type": "stream",
     "text": [
      "The autoreload extension is already loaded. To reload it, use:\n",
      "  %reload_ext autoreload\n"
     ]
    },
    {
     "name": "stderr",
     "output_type": "stream",
     "text": [
      "[autoreload of data_loading.amazon failed: Traceback (most recent call last):\n",
      "  File \"/Users/sbokupripeku/miniforge3/envs/reduction_bandits/lib/python3.10/site-packages/IPython/extensions/autoreload.py\", line 257, in check\n",
      "    superreload(m, reload, self.old_objects)\n",
      "  File \"/Users/sbokupripeku/miniforge3/envs/reduction_bandits/lib/python3.10/site-packages/IPython/extensions/autoreload.py\", line 455, in superreload\n",
      "    module = reload(module)\n",
      "  File \"/Users/sbokupripeku/miniforge3/envs/reduction_bandits/lib/python3.10/importlib/__init__.py\", line 169, in reload\n",
      "    _bootstrap._exec(spec, module)\n",
      "  File \"<frozen importlib._bootstrap>\", line 619, in _exec\n",
      "  File \"<frozen importlib._bootstrap_external>\", line 883, in exec_module\n",
      "  File \"<frozen importlib._bootstrap>\", line 241, in _call_with_frames_removed\n",
      "  File \"/Users/sbokupripeku/git/work/examples/reduction_bandits/data_loading/amazon.py\", line 4, in <module>\n",
      "    from data_loading import RecommenderDataset\n",
      "ImportError: cannot import name 'RecommenderDataset' from 'data_loading' (/Users/sbokupripeku/git/work/examples/reduction_bandits/data_loading/__init__.py)\n",
      "]\n",
      "[autoreload of data_loading.jester failed: Traceback (most recent call last):\n",
      "  File \"/Users/sbokupripeku/miniforge3/envs/reduction_bandits/lib/python3.10/site-packages/IPython/extensions/autoreload.py\", line 257, in check\n",
      "    superreload(m, reload, self.old_objects)\n",
      "  File \"/Users/sbokupripeku/miniforge3/envs/reduction_bandits/lib/python3.10/site-packages/IPython/extensions/autoreload.py\", line 455, in superreload\n",
      "    module = reload(module)\n",
      "  File \"/Users/sbokupripeku/miniforge3/envs/reduction_bandits/lib/python3.10/importlib/__init__.py\", line 169, in reload\n",
      "    _bootstrap._exec(spec, module)\n",
      "  File \"<frozen importlib._bootstrap>\", line 619, in _exec\n",
      "  File \"<frozen importlib._bootstrap_external>\", line 879, in exec_module\n",
      "  File \"<frozen importlib._bootstrap_external>\", line 1017, in get_code\n",
      "  File \"<frozen importlib._bootstrap_external>\", line 947, in source_to_code\n",
      "  File \"<frozen importlib._bootstrap>\", line 241, in _call_with_frames_removed\n",
      "  File \"/Users/sbokupripeku/git/work/examples/reduction_bandits/data_loading/jester.py\", line 26\n",
      "    test_user_ids = \n",
      "                    ^\n",
      "SyntaxError: invalid syntax\n",
      "]\n",
      "[autoreload of data_loading.movielens failed: Traceback (most recent call last):\n",
      "  File \"/Users/sbokupripeku/miniforge3/envs/reduction_bandits/lib/python3.10/site-packages/IPython/extensions/autoreload.py\", line 257, in check\n",
      "    superreload(m, reload, self.old_objects)\n",
      "  File \"/Users/sbokupripeku/miniforge3/envs/reduction_bandits/lib/python3.10/site-packages/IPython/extensions/autoreload.py\", line 455, in superreload\n",
      "    module = reload(module)\n",
      "  File \"/Users/sbokupripeku/miniforge3/envs/reduction_bandits/lib/python3.10/importlib/__init__.py\", line 169, in reload\n",
      "    _bootstrap._exec(spec, module)\n",
      "  File \"<frozen importlib._bootstrap>\", line 619, in _exec\n",
      "  File \"<frozen importlib._bootstrap_external>\", line 883, in exec_module\n",
      "  File \"<frozen importlib._bootstrap>\", line 241, in _call_with_frames_removed\n",
      "  File \"/Users/sbokupripeku/git/work/examples/reduction_bandits/data_loading/movielens.py\", line 3, in <module>\n",
      "    from data_loading import RecommenderDataset\n",
      "ImportError: cannot import name 'RecommenderDataset' from 'data_loading' (/Users/sbokupripeku/git/work/examples/reduction_bandits/data_loading/__init__.py)\n",
      "]\n"
     ]
    }
   ],
   "source": [
    "%load_ext autoreload\n",
    "%autoreload 2"
   ]
  },
  {
   "cell_type": "code",
   "execution_count": 20,
   "id": "c22ac7eb",
   "metadata": {},
   "outputs": [],
   "source": [
    "import os\n",
    "os.chdir('..')"
   ]
  },
  {
   "cell_type": "code",
   "execution_count": 21,
   "id": "5c21c58d",
   "metadata": {},
   "outputs": [],
   "source": [
    "import datetime\n",
    "import numpy as np\n",
    "import pandas as pd\n",
    "import matplotlib.pyplot as plt\n",
    "import time\n",
    "from surprise import Dataset\n",
    "\n",
    "from data_loading import get_movielens_data"
   ]
  },
  {
   "cell_type": "code",
   "execution_count": 22,
   "id": "4f9c457f",
   "metadata": {},
   "outputs": [],
   "source": [
    "# Reproducibility\n",
    "seed = 42\n",
    "np.random.seed(seed)"
   ]
  },
  {
   "cell_type": "code",
   "execution_count": 23,
   "id": "b28e4434",
   "metadata": {},
   "outputs": [],
   "source": [
    "PROJECT_DIR = '.'"
   ]
  },
  {
   "cell_type": "code",
   "execution_count": 24,
   "id": "287cc57a",
   "metadata": {},
   "outputs": [],
   "source": [
    "jokes = Dataset.load_builtin(\"jester\")\n",
    "ratings = pd.DataFrame(data=jokes.raw_ratings)\n",
    "ratings.columns = ['user_id', 'item_id', 'rating', 'other']\n",
    "del ratings['other']  # all_ratings.drop('other', axis=0)"
   ]
  },
  {
   "cell_type": "code",
   "execution_count": 25,
   "id": "14aa2fe8",
   "metadata": {},
   "outputs": [
    {
     "data": {
      "text/html": [
       "<div>\n",
       "<style scoped>\n",
       "    .dataframe tbody tr th:only-of-type {\n",
       "        vertical-align: middle;\n",
       "    }\n",
       "\n",
       "    .dataframe tbody tr th {\n",
       "        vertical-align: top;\n",
       "    }\n",
       "\n",
       "    .dataframe thead th {\n",
       "        text-align: right;\n",
       "    }\n",
       "</style>\n",
       "<table border=\"1\" class=\"dataframe\">\n",
       "  <thead>\n",
       "    <tr style=\"text-align: right;\">\n",
       "      <th></th>\n",
       "      <th>user_id</th>\n",
       "      <th>item_id</th>\n",
       "      <th>rating</th>\n",
       "    </tr>\n",
       "  </thead>\n",
       "  <tbody>\n",
       "    <tr>\n",
       "      <th>0</th>\n",
       "      <td>1</td>\n",
       "      <td>5</td>\n",
       "      <td>0.219</td>\n",
       "    </tr>\n",
       "    <tr>\n",
       "      <th>1</th>\n",
       "      <td>1</td>\n",
       "      <td>7</td>\n",
       "      <td>-9.281</td>\n",
       "    </tr>\n",
       "    <tr>\n",
       "      <th>2</th>\n",
       "      <td>1</td>\n",
       "      <td>8</td>\n",
       "      <td>-9.281</td>\n",
       "    </tr>\n",
       "    <tr>\n",
       "      <th>3</th>\n",
       "      <td>1</td>\n",
       "      <td>13</td>\n",
       "      <td>-6.781</td>\n",
       "    </tr>\n",
       "    <tr>\n",
       "      <th>4</th>\n",
       "      <td>1</td>\n",
       "      <td>15</td>\n",
       "      <td>0.875</td>\n",
       "    </tr>\n",
       "    <tr>\n",
       "      <th>...</th>\n",
       "      <td>...</td>\n",
       "      <td>...</td>\n",
       "      <td>...</td>\n",
       "    </tr>\n",
       "    <tr>\n",
       "      <th>1761434</th>\n",
       "      <td>63978</td>\n",
       "      <td>57</td>\n",
       "      <td>-8.531</td>\n",
       "    </tr>\n",
       "    <tr>\n",
       "      <th>1761435</th>\n",
       "      <td>63978</td>\n",
       "      <td>24</td>\n",
       "      <td>-9.062</td>\n",
       "    </tr>\n",
       "    <tr>\n",
       "      <th>1761436</th>\n",
       "      <td>63978</td>\n",
       "      <td>124</td>\n",
       "      <td>-9.031</td>\n",
       "    </tr>\n",
       "    <tr>\n",
       "      <th>1761437</th>\n",
       "      <td>63978</td>\n",
       "      <td>58</td>\n",
       "      <td>-8.656</td>\n",
       "    </tr>\n",
       "    <tr>\n",
       "      <th>1761438</th>\n",
       "      <td>63978</td>\n",
       "      <td>44</td>\n",
       "      <td>-8.438</td>\n",
       "    </tr>\n",
       "  </tbody>\n",
       "</table>\n",
       "<p>1761439 rows × 3 columns</p>\n",
       "</div>"
      ],
      "text/plain": [
       "        user_id item_id  rating\n",
       "0             1       5   0.219\n",
       "1             1       7  -9.281\n",
       "2             1       8  -9.281\n",
       "3             1      13  -6.781\n",
       "4             1      15   0.875\n",
       "...         ...     ...     ...\n",
       "1761434   63978      57  -8.531\n",
       "1761435   63978      24  -9.062\n",
       "1761436   63978     124  -9.031\n",
       "1761437   63978      58  -8.656\n",
       "1761438   63978      44  -8.438\n",
       "\n",
       "[1761439 rows x 3 columns]"
      ]
     },
     "execution_count": 25,
     "metadata": {},
     "output_type": "execute_result"
    }
   ],
   "source": [
    "ratings"
   ]
  },
  {
   "cell_type": "markdown",
   "id": "938c0602",
   "metadata": {},
   "source": [
    "## Check users that all have rated same top-k items"
   ]
  },
  {
   "cell_type": "code",
   "execution_count": 26,
   "id": "faa00bb2",
   "metadata": {},
   "outputs": [],
   "source": [
    "def users_that_rated_all_items(ratings, items):\n",
    "    user_sets = []\n",
    "    for item_id in items:\n",
    "        item_users = set(ratings[ratings.item_id == item_id].user_id)\n",
    "        user_sets.append(item_users)\n",
    "    return set.intersection(*user_sets)"
   ]
  },
  {
   "cell_type": "code",
   "execution_count": 28,
   "id": "477e4fe0",
   "metadata": {},
   "outputs": [],
   "source": [
    "def users_that_rated_all_top_k_items(ratings, k):\n",
    "    items = ratings.groupby('item_id').size().sort_values(ascending=False)\n",
    "    top_k_items = set(items[:k].index)\n",
    "    top_k_ratings = ratings[ratings.item_id.isin(top_k_items)]\n",
    "    top_k_users = users_that_rated_all_items(top_k_ratings, top_k_items)\n",
    "    return top_k_users"
   ]
  },
  {
   "cell_type": "code",
   "execution_count": 29,
   "id": "8de64c20",
   "metadata": {},
   "outputs": [],
   "source": [
    "top_k_users = users_that_rated_all_top_k_items(ratings, 140)"
   ]
  },
  {
   "cell_type": "code",
   "execution_count": 30,
   "id": "f8a90c64",
   "metadata": {},
   "outputs": [
    {
     "data": {
      "text/plain": [
       "{'227', '304', '476', '477', '701'}"
      ]
     },
     "execution_count": 30,
     "metadata": {},
     "output_type": "execute_result"
    }
   ],
   "source": [
    "top_k_users"
   ]
  },
  {
   "cell_type": "code",
   "execution_count": 17,
   "id": "3a9551ea",
   "metadata": {},
   "outputs": [],
   "source": [
    "users_rated_top_k_items = {\n",
    "    \"k\": [],\n",
    "    \"users\": [],\n",
    "}\n",
    "for k in range(140, 141):\n",
    "    users_rated_top_k_items['k'].append(k)\n",
    "    users_rated_top_k_items['users'].append(users_that_rated_all_top_k_items(ratings, k))"
   ]
  },
  {
   "cell_type": "code",
   "execution_count": 18,
   "id": "dadf7ca6",
   "metadata": {},
   "outputs": [
    {
     "data": {
      "text/html": [
       "<div>\n",
       "<style scoped>\n",
       "    .dataframe tbody tr th:only-of-type {\n",
       "        vertical-align: middle;\n",
       "    }\n",
       "\n",
       "    .dataframe tbody tr th {\n",
       "        vertical-align: top;\n",
       "    }\n",
       "\n",
       "    .dataframe thead th {\n",
       "        text-align: right;\n",
       "    }\n",
       "</style>\n",
       "<table border=\"1\" class=\"dataframe\">\n",
       "  <thead>\n",
       "    <tr style=\"text-align: right;\">\n",
       "      <th></th>\n",
       "      <th>k</th>\n",
       "      <th>users</th>\n",
       "    </tr>\n",
       "  </thead>\n",
       "  <tbody>\n",
       "    <tr>\n",
       "      <th>0</th>\n",
       "      <td>140</td>\n",
       "      <td>5</td>\n",
       "    </tr>\n",
       "  </tbody>\n",
       "</table>\n",
       "</div>"
      ],
      "text/plain": [
       "     k  users\n",
       "0  140      5"
      ]
     },
     "execution_count": 18,
     "metadata": {},
     "output_type": "execute_result"
    }
   ],
   "source": [
    "pd.DataFrame(users_rated_top_k_items)"
   ]
  },
  {
   "cell_type": "markdown",
   "id": "3f75e0d9",
   "metadata": {},
   "source": [
    "## Check users that each has rated at least k items (may be different)"
   ]
  },
  {
   "cell_type": "code",
   "execution_count": 12,
   "id": "ed90add6",
   "metadata": {},
   "outputs": [],
   "source": [
    "def users_that_rated_at_least_k_items(ratings, k):\n",
    "    users = ratings.groupby('user_id').size().sort_values(ascending=False)\n",
    "    at_least_k_users = users[users > k]\n",
    "    return len(at_least_k_users)"
   ]
  },
  {
   "cell_type": "code",
   "execution_count": 15,
   "id": "97854761",
   "metadata": {},
   "outputs": [],
   "source": [
    "users_rated_at_least_k_items = {\n",
    "    \"k\": [],\n",
    "    \"users\": [],\n",
    "}\n",
    "for k in range(1, 150, 10):\n",
    "    users_rated_at_least_k_items['k'].append(k)\n",
    "    users_rated_at_least_k_items['users'].append(users_that_rated_at_least_k_items(ratings, k))"
   ]
  },
  {
   "cell_type": "code",
   "execution_count": 16,
   "id": "a625da20",
   "metadata": {},
   "outputs": [
    {
     "data": {
      "text/html": [
       "<div>\n",
       "<style scoped>\n",
       "    .dataframe tbody tr th:only-of-type {\n",
       "        vertical-align: middle;\n",
       "    }\n",
       "\n",
       "    .dataframe tbody tr th {\n",
       "        vertical-align: top;\n",
       "    }\n",
       "\n",
       "    .dataframe thead th {\n",
       "        text-align: right;\n",
       "    }\n",
       "</style>\n",
       "<table border=\"1\" class=\"dataframe\">\n",
       "  <thead>\n",
       "    <tr style=\"text-align: right;\">\n",
       "      <th></th>\n",
       "      <th>k</th>\n",
       "      <th>users</th>\n",
       "    </tr>\n",
       "  </thead>\n",
       "  <tbody>\n",
       "    <tr>\n",
       "      <th>0</th>\n",
       "      <td>1</td>\n",
       "      <td>57732</td>\n",
       "    </tr>\n",
       "    <tr>\n",
       "      <th>1</th>\n",
       "      <td>11</td>\n",
       "      <td>37263</td>\n",
       "    </tr>\n",
       "    <tr>\n",
       "      <th>2</th>\n",
       "      <td>21</td>\n",
       "      <td>24164</td>\n",
       "    </tr>\n",
       "    <tr>\n",
       "      <th>3</th>\n",
       "      <td>31</td>\n",
       "      <td>17049</td>\n",
       "    </tr>\n",
       "    <tr>\n",
       "      <th>4</th>\n",
       "      <td>41</td>\n",
       "      <td>12792</td>\n",
       "    </tr>\n",
       "    <tr>\n",
       "      <th>5</th>\n",
       "      <td>51</td>\n",
       "      <td>10089</td>\n",
       "    </tr>\n",
       "    <tr>\n",
       "      <th>6</th>\n",
       "      <td>61</td>\n",
       "      <td>8204</td>\n",
       "    </tr>\n",
       "    <tr>\n",
       "      <th>7</th>\n",
       "      <td>71</td>\n",
       "      <td>6824</td>\n",
       "    </tr>\n",
       "    <tr>\n",
       "      <th>8</th>\n",
       "      <td>81</td>\n",
       "      <td>5751</td>\n",
       "    </tr>\n",
       "    <tr>\n",
       "      <th>9</th>\n",
       "      <td>91</td>\n",
       "      <td>4840</td>\n",
       "    </tr>\n",
       "    <tr>\n",
       "      <th>10</th>\n",
       "      <td>101</td>\n",
       "      <td>4135</td>\n",
       "    </tr>\n",
       "    <tr>\n",
       "      <th>11</th>\n",
       "      <td>111</td>\n",
       "      <td>3571</td>\n",
       "    </tr>\n",
       "    <tr>\n",
       "      <th>12</th>\n",
       "      <td>121</td>\n",
       "      <td>3120</td>\n",
       "    </tr>\n",
       "    <tr>\n",
       "      <th>13</th>\n",
       "      <td>131</td>\n",
       "      <td>9</td>\n",
       "    </tr>\n",
       "    <tr>\n",
       "      <th>14</th>\n",
       "      <td>141</td>\n",
       "      <td>0</td>\n",
       "    </tr>\n",
       "  </tbody>\n",
       "</table>\n",
       "</div>"
      ],
      "text/plain": [
       "      k  users\n",
       "0     1  57732\n",
       "1    11  37263\n",
       "2    21  24164\n",
       "3    31  17049\n",
       "4    41  12792\n",
       "5    51  10089\n",
       "6    61   8204\n",
       "7    71   6824\n",
       "8    81   5751\n",
       "9    91   4840\n",
       "10  101   4135\n",
       "11  111   3571\n",
       "12  121   3120\n",
       "13  131      9\n",
       "14  141      0"
      ]
     },
     "execution_count": 16,
     "metadata": {},
     "output_type": "execute_result"
    }
   ],
   "source": [
    "pd.DataFrame(users_rated_at_least_k_items)"
   ]
  },
  {
   "cell_type": "code",
   "execution_count": null,
   "id": "3e7d58cb",
   "metadata": {},
   "outputs": [],
   "source": []
  }
 ],
 "metadata": {
  "kernelspec": {
   "display_name": "Python 3 (ipykernel)",
   "language": "python",
   "name": "python3"
  },
  "language_info": {
   "codemirror_mode": {
    "name": "ipython",
    "version": 3
   },
   "file_extension": ".py",
   "mimetype": "text/x-python",
   "name": "python",
   "nbconvert_exporter": "python",
   "pygments_lexer": "ipython3",
   "version": "3.10.6"
  },
  "toc": {
   "base_numbering": 1,
   "nav_menu": {},
   "number_sections": true,
   "sideBar": true,
   "skip_h1_title": false,
   "title_cell": "Table of Contents",
   "title_sidebar": "Contents",
   "toc_cell": false,
   "toc_position": {},
   "toc_section_display": true,
   "toc_window_display": false
  }
 },
 "nbformat": 4,
 "nbformat_minor": 5
}
