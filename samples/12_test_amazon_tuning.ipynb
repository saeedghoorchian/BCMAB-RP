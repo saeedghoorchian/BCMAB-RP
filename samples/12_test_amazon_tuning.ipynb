{
 "cells": [
  {
   "cell_type": "code",
   "execution_count": 1,
   "id": "6a244c4b",
   "metadata": {},
   "outputs": [],
   "source": [
    "%load_ext autoreload\n",
    "%autoreload 2"
   ]
  },
  {
   "cell_type": "code",
   "execution_count": 2,
   "id": "226beafc",
   "metadata": {},
   "outputs": [],
   "source": [
    "import os\n",
    "os.chdir('..')"
   ]
  },
  {
   "cell_type": "code",
   "execution_count": 3,
   "id": "2decddce",
   "metadata": {},
   "outputs": [],
   "source": [
    "import datetime\n",
    "import numpy as np\n",
    "import pandas as pd\n",
    "import matplotlib.pyplot as plt\n",
    "import time\n",
    "\n",
    "from data_loading import get_amazon_data\n",
    "from evaluation import evaluate_policy, create_offline_dataset\n",
    "from policies.bcmabrp import BCMABRP\n",
    "from policies.cbrap import CBRAP\n",
    "from policies.linucb import LinUCB\n",
    "from policies.linear_ts import LinearTS\n",
    "from policies.random import RandomPolicy\n",
    "from policies.egreedy import EGreedy\n",
    "from reduct_matrix import get_reduct_matrix\n",
    "\n",
    "from sklearn.model_selection import train_test_split"
   ]
  },
  {
   "cell_type": "code",
   "execution_count": 4,
   "id": "9a7b33ae",
   "metadata": {},
   "outputs": [],
   "source": [
    "PROJECT_DIR = '.'"
   ]
  },
  {
   "cell_type": "code",
   "execution_count": 5,
   "id": "fd119b55",
   "metadata": {},
   "outputs": [],
   "source": [
    "# Reproducibility\n",
    "seed = 42\n",
    "np.random.seed(seed)"
   ]
  },
  {
   "cell_type": "code",
   "execution_count": 6,
   "id": "59018d4f",
   "metadata": {},
   "outputs": [
    {
     "name": "stderr",
     "output_type": "stream",
     "text": [
      "/Users/sbokupripeku/git/work/examples/reduction_bandits/data_loading/recommender_dataset.py:45: FutureWarning: Passing a set as an indexer is deprecated and will raise in a future version. Use a list instead.\n",
      "  self.eval_user_stream = self.user_stream.loc[set(self.user_stream.index) - set(tune_ind)]\n"
     ]
    }
   ],
   "source": [
    "dataset = get_amazon_data()"
   ]
  },
  {
   "cell_type": "code",
   "execution_count": 7,
   "id": "d67fa688",
   "metadata": {},
   "outputs": [],
   "source": [
    "red_dim = 60\n",
    "reduct_matrix = get_reduct_matrix(\"amazon\", red_dim, load_old_reduct_matrix=False)"
   ]
  },
  {
   "cell_type": "code",
   "execution_count": 8,
   "id": "4f4a4e0c",
   "metadata": {},
   "outputs": [],
   "source": [
    "times = 200"
   ]
  },
  {
   "cell_type": "code",
   "execution_count": 9,
   "id": "62bec660",
   "metadata": {},
   "outputs": [],
   "source": [
    "def plot_ctrs(reward_dict):\n",
    "    fig, ax = plt.subplots(1,1, figsize=(15, 7));\n",
    "    \n",
    "    N = 300\n",
    "    \n",
    "    reward_list = sorted(\n",
    "        [\n",
    "            (l,r) for l, r in reward_dict.items()\n",
    "        ],\n",
    "        key=lambda x: x[1][-1],\n",
    "        reverse=True,\n",
    "    )\n",
    "    \n",
    "    for label, reward in reward_list:\n",
    "        times = (range(1, len(reward)+1))\n",
    "        ctr = [r/t for r,t in zip(reward, times)]\n",
    "        ax.plot(ctr[N:], label=label)\n",
    "        \n",
    "    ax.set_xlabel('Trial')\n",
    "    ax.set_ylabel('CTR')\n",
    "    ax.set_title('CTR on Amazon')\n",
    "\n",
    "    plt.legend();\n",
    "    plt.show();"
   ]
  },
  {
   "cell_type": "code",
   "execution_count": 10,
   "id": "6b2d17b4",
   "metadata": {},
   "outputs": [],
   "source": [
    "def plot_ndcg(cumulative_ndcg_dict):\n",
    "    fig, ax = plt.subplots(1,1, figsize=(15, 7));\n",
    "    \n",
    "    N = 300\n",
    "    \n",
    "    cumulative_ndcg_list = sorted(\n",
    "        [\n",
    "            (l,r) for l, r in cumulative_ndcg_dict.items()\n",
    "        ],\n",
    "        key=lambda x: x[1][-1],\n",
    "        reverse=True,\n",
    "    )\n",
    "    \n",
    "    for label, cumulative_ndcg in cumulative_ndcg_list:\n",
    "        times = (range(1, len(cumulative_ndcg)+1))\n",
    "        average_cumulative_ndcg = [cn/t for cn,t in zip(cumulative_ndcg, times)]\n",
    "        ax.plot(average_cumulative_ndcg[N:], label=label)\n",
    "        \n",
    "    ax.set_xlabel('Trial')\n",
    "    ax.set_ylabel('Average Cumulative NDCG@5')\n",
    "    ax.set_title('Average Cumulative NDCG@5 on Amazon')\n",
    "\n",
    "    plt.legend();\n",
    "    plt.show();"
   ]
  },
  {
   "cell_type": "markdown",
   "id": "2199e138",
   "metadata": {},
   "source": [
    "### Define policies"
   ]
  },
  {
   "cell_type": "code",
   "execution_count": 11,
   "id": "41930420",
   "metadata": {},
   "outputs": [],
   "source": [
    "total_start_ts = time.time()"
   ]
  },
  {
   "cell_type": "code",
   "execution_count": null,
   "id": "89b05c31",
   "metadata": {},
   "outputs": [],
   "source": []
  },
  {
   "cell_type": "code",
   "execution_count": 12,
   "id": "90d35113",
   "metadata": {},
   "outputs": [],
   "source": [
    "ctx_dim = 100\n",
    "red_dim = 60\n",
    "\n",
    "policies = {\n",
    "    'BCMABRP 0.15': lambda : BCMABRP(\n",
    "        context_dimension=ctx_dim, red_dim=red_dim, reduct_matrix=reduct_matrix, nu=0.15, seed=seed\n",
    "    ),\n",
    "#     'CBRAP': lambda : CBRAP(context_dimension=ctx_dim, red_dim=red_dim, reduct_matrix=reduct_matrix, alpha=0.5),\n",
    "#     'EGreedy': lambda : EGreedy(epsilon=0.5),\n",
    "#     'LinearTS': lambda : LinearTS(context_dimension=ctx_dim, nu=0.3, seed=seed),\n",
    "#     'LinUCB': lambda : LinUCB(context_dimension=ctx_dim, alpha=0.8),\n",
    "    'Random': lambda : RandomPolicy(),\n",
    "}"
   ]
  },
  {
   "cell_type": "markdown",
   "id": "63ef60fb",
   "metadata": {},
   "source": [
    "### Run evaluation"
   ]
  },
  {
   "cell_type": "code",
   "execution_count": 13,
   "id": "4c2f004c",
   "metadata": {
    "scrolled": true
   },
   "outputs": [
    {
     "name": "stdout",
     "output_type": "stream",
     "text": [
      "Using tuning dataset\n"
     ]
    },
    {
     "ename": "KeyError",
     "evalue": "29800",
     "output_type": "error",
     "traceback": [
      "\u001b[0;31m---------------------------------------------------------------------------\u001b[0m",
      "\u001b[0;31mKeyError\u001b[0m                                  Traceback (most recent call last)",
      "File \u001b[0;32m~/miniforge3/envs/reduction_bandits/lib/python3.10/site-packages/pandas/core/indexes/base.py:3621\u001b[0m, in \u001b[0;36mIndex.get_loc\u001b[0;34m(self, key, method, tolerance)\u001b[0m\n\u001b[1;32m   3620\u001b[0m \u001b[38;5;28;01mtry\u001b[39;00m:\n\u001b[0;32m-> 3621\u001b[0m     \u001b[38;5;28;01mreturn\u001b[39;00m \u001b[38;5;28;43mself\u001b[39;49m\u001b[38;5;241;43m.\u001b[39;49m\u001b[43m_engine\u001b[49m\u001b[38;5;241;43m.\u001b[39;49m\u001b[43mget_loc\u001b[49m\u001b[43m(\u001b[49m\u001b[43mcasted_key\u001b[49m\u001b[43m)\u001b[49m\n\u001b[1;32m   3622\u001b[0m \u001b[38;5;28;01mexcept\u001b[39;00m \u001b[38;5;167;01mKeyError\u001b[39;00m \u001b[38;5;28;01mas\u001b[39;00m err:\n",
      "File \u001b[0;32m~/miniforge3/envs/reduction_bandits/lib/python3.10/site-packages/pandas/_libs/index.pyx:136\u001b[0m, in \u001b[0;36mpandas._libs.index.IndexEngine.get_loc\u001b[0;34m()\u001b[0m\n",
      "File \u001b[0;32m~/miniforge3/envs/reduction_bandits/lib/python3.10/site-packages/pandas/_libs/index.pyx:163\u001b[0m, in \u001b[0;36mpandas._libs.index.IndexEngine.get_loc\u001b[0;34m()\u001b[0m\n",
      "File \u001b[0;32mpandas/_libs/hashtable_class_helper.pxi:2131\u001b[0m, in \u001b[0;36mpandas._libs.hashtable.Int64HashTable.get_item\u001b[0;34m()\u001b[0m\n",
      "File \u001b[0;32mpandas/_libs/hashtable_class_helper.pxi:2140\u001b[0m, in \u001b[0;36mpandas._libs.hashtable.Int64HashTable.get_item\u001b[0;34m()\u001b[0m\n",
      "\u001b[0;31mKeyError\u001b[0m: 29800",
      "\nThe above exception was the direct cause of the following exception:\n",
      "\u001b[0;31mKeyError\u001b[0m                                  Traceback (most recent call last)",
      "Input \u001b[0;32mIn [13]\u001b[0m, in \u001b[0;36m<cell line: 4>\u001b[0;34m()\u001b[0m\n\u001b[1;32m      8\u001b[0m \u001b[38;5;28;01mfor\u001b[39;00m rep \u001b[38;5;129;01min\u001b[39;00m \u001b[38;5;28mrange\u001b[39m(num_reps):\n\u001b[1;32m      9\u001b[0m     policy \u001b[38;5;241m=\u001b[39m policy_gen()\n\u001b[0;32m---> 10\u001b[0m     reward, ndcg \u001b[38;5;241m=\u001b[39m \u001b[43mevaluate_policy\u001b[49m\u001b[43m(\u001b[49m\u001b[43mpolicy\u001b[49m\u001b[43m,\u001b[49m\u001b[43m \u001b[49m\u001b[43mtimes\u001b[49m\u001b[43m,\u001b[49m\u001b[43m \u001b[49m\u001b[43mdataset\u001b[49m\u001b[43m,\u001b[49m\u001b[43m \u001b[49m\u001b[43mtune\u001b[49m\u001b[38;5;241;43m=\u001b[39;49m\u001b[38;5;28;43;01mTrue\u001b[39;49;00m\u001b[43m)\u001b[49m\n\u001b[1;32m     11\u001b[0m     rews[rep, :] \u001b[38;5;241m=\u001b[39m reward\u001b[38;5;241m.\u001b[39mflatten()\n\u001b[1;32m     12\u001b[0m     ndcgs[rep, :] \u001b[38;5;241m=\u001b[39m ndcg\u001b[38;5;241m.\u001b[39mflatten()\n",
      "File \u001b[0;32m~/git/work/examples/reduction_bandits/evaluation/evaluation.py:42\u001b[0m, in \u001b[0;36mevaluate_policy\u001b[0;34m(policy, times, dataset, tune)\u001b[0m\n\u001b[1;32m     38\u001b[0m seq_ndcg \u001b[38;5;241m=\u001b[39m np\u001b[38;5;241m.\u001b[39mzeros(shape\u001b[38;5;241m=\u001b[39m(times, \u001b[38;5;241m1\u001b[39m))\n\u001b[1;32m     40\u001b[0m users_generator \u001b[38;5;241m=\u001b[39m dataset\u001b[38;5;241m.\u001b[39mgenerate_users(times, tune)\n\u001b[0;32m---> 42\u001b[0m \u001b[38;5;28;01mfor\u001b[39;00m t, user_at_t_data \u001b[38;5;129;01min\u001b[39;00m \u001b[38;5;28menumerate\u001b[39m(users_generator):\n\u001b[1;32m     44\u001b[0m     reward_t, ndcg_t \u001b[38;5;241m=\u001b[39m get_reward_and_ndcg_for_user(\n\u001b[1;32m     45\u001b[0m         policy, t, dataset\u001b[38;5;241m.\u001b[39mactions, user_at_t_data\n\u001b[1;32m     46\u001b[0m     )\n\u001b[1;32m     48\u001b[0m     policy\u001b[38;5;241m.\u001b[39mreward(reward_t)\n",
      "File \u001b[0;32m~/git/work/examples/reduction_bandits/data_loading/recommender_dataset.py:205\u001b[0m, in \u001b[0;36mRecommenderDataset.generate_users\u001b[0;34m(self, time_steps, tune)\u001b[0m\n\u001b[1;32m    202\u001b[0m ind_end \u001b[38;5;241m=\u001b[39m user_stream\u001b[38;5;241m.\u001b[39mshape[\u001b[38;5;241m0\u001b[39m] \u001b[38;5;241m-\u001b[39m \u001b[38;5;241m1\u001b[39m\n\u001b[1;32m    203\u001b[0m \u001b[38;5;28;01mif\u001b[39;00m \u001b[38;5;124m\"\u001b[39m\u001b[38;5;124mtimestamp\u001b[39m\u001b[38;5;124m\"\u001b[39m \u001b[38;5;129;01min\u001b[39;00m user_stream\u001b[38;5;241m.\u001b[39mcolumns:\n\u001b[1;32m    204\u001b[0m     \u001b[38;5;28mprint\u001b[39m(\n\u001b[0;32m--> 205\u001b[0m         \u001b[38;5;124mf\u001b[39m\u001b[38;5;124m\"\u001b[39m\u001b[38;5;124mFirst user in exp from \u001b[39m\u001b[38;5;132;01m{\u001b[39;00mdatetime\u001b[38;5;241m.\u001b[39mfromtimestamp(user_stream\u001b[38;5;241m.\u001b[39mtimestamp[ind_start])\u001b[38;5;132;01m}\u001b[39;00m\u001b[38;5;124m\"\u001b[39m\n\u001b[1;32m    206\u001b[0m     )\n\u001b[1;32m    207\u001b[0m     \u001b[38;5;28mprint\u001b[39m(\n\u001b[1;32m    208\u001b[0m         \u001b[38;5;124mf\u001b[39m\u001b[38;5;124m\"\u001b[39m\u001b[38;5;124mLast user in exp from \u001b[39m\u001b[38;5;132;01m{\u001b[39;00mdatetime\u001b[38;5;241m.\u001b[39mfromtimestamp(user_stream\u001b[38;5;241m.\u001b[39mtimestamp[ind_end])\u001b[38;5;132;01m}\u001b[39;00m\u001b[38;5;124m\"\u001b[39m\n\u001b[1;32m    209\u001b[0m     )\n\u001b[1;32m    211\u001b[0m t \u001b[38;5;241m=\u001b[39m \u001b[38;5;241m0\u001b[39m\n",
      "File \u001b[0;32m~/miniforge3/envs/reduction_bandits/lib/python3.10/site-packages/pandas/core/series.py:958\u001b[0m, in \u001b[0;36mSeries.__getitem__\u001b[0;34m(self, key)\u001b[0m\n\u001b[1;32m    955\u001b[0m     \u001b[38;5;28;01mreturn\u001b[39;00m \u001b[38;5;28mself\u001b[39m\u001b[38;5;241m.\u001b[39m_values[key]\n\u001b[1;32m    957\u001b[0m \u001b[38;5;28;01melif\u001b[39;00m key_is_scalar:\n\u001b[0;32m--> 958\u001b[0m     \u001b[38;5;28;01mreturn\u001b[39;00m \u001b[38;5;28;43mself\u001b[39;49m\u001b[38;5;241;43m.\u001b[39;49m\u001b[43m_get_value\u001b[49m\u001b[43m(\u001b[49m\u001b[43mkey\u001b[49m\u001b[43m)\u001b[49m\n\u001b[1;32m    960\u001b[0m \u001b[38;5;28;01mif\u001b[39;00m is_hashable(key):\n\u001b[1;32m    961\u001b[0m     \u001b[38;5;66;03m# Otherwise index.get_value will raise InvalidIndexError\u001b[39;00m\n\u001b[1;32m    962\u001b[0m     \u001b[38;5;28;01mtry\u001b[39;00m:\n\u001b[1;32m    963\u001b[0m         \u001b[38;5;66;03m# For labels that don't resolve as scalars like tuples and frozensets\u001b[39;00m\n",
      "File \u001b[0;32m~/miniforge3/envs/reduction_bandits/lib/python3.10/site-packages/pandas/core/series.py:1069\u001b[0m, in \u001b[0;36mSeries._get_value\u001b[0;34m(self, label, takeable)\u001b[0m\n\u001b[1;32m   1066\u001b[0m     \u001b[38;5;28;01mreturn\u001b[39;00m \u001b[38;5;28mself\u001b[39m\u001b[38;5;241m.\u001b[39m_values[label]\n\u001b[1;32m   1068\u001b[0m \u001b[38;5;66;03m# Similar to Index.get_value, but we do not fall back to positional\u001b[39;00m\n\u001b[0;32m-> 1069\u001b[0m loc \u001b[38;5;241m=\u001b[39m \u001b[38;5;28;43mself\u001b[39;49m\u001b[38;5;241;43m.\u001b[39;49m\u001b[43mindex\u001b[49m\u001b[38;5;241;43m.\u001b[39;49m\u001b[43mget_loc\u001b[49m\u001b[43m(\u001b[49m\u001b[43mlabel\u001b[49m\u001b[43m)\u001b[49m\n\u001b[1;32m   1070\u001b[0m \u001b[38;5;28;01mreturn\u001b[39;00m \u001b[38;5;28mself\u001b[39m\u001b[38;5;241m.\u001b[39mindex\u001b[38;5;241m.\u001b[39m_get_values_for_loc(\u001b[38;5;28mself\u001b[39m, loc, label)\n",
      "File \u001b[0;32m~/miniforge3/envs/reduction_bandits/lib/python3.10/site-packages/pandas/core/indexes/base.py:3623\u001b[0m, in \u001b[0;36mIndex.get_loc\u001b[0;34m(self, key, method, tolerance)\u001b[0m\n\u001b[1;32m   3621\u001b[0m     \u001b[38;5;28;01mreturn\u001b[39;00m \u001b[38;5;28mself\u001b[39m\u001b[38;5;241m.\u001b[39m_engine\u001b[38;5;241m.\u001b[39mget_loc(casted_key)\n\u001b[1;32m   3622\u001b[0m \u001b[38;5;28;01mexcept\u001b[39;00m \u001b[38;5;167;01mKeyError\u001b[39;00m \u001b[38;5;28;01mas\u001b[39;00m err:\n\u001b[0;32m-> 3623\u001b[0m     \u001b[38;5;28;01mraise\u001b[39;00m \u001b[38;5;167;01mKeyError\u001b[39;00m(key) \u001b[38;5;28;01mfrom\u001b[39;00m \u001b[38;5;21;01merr\u001b[39;00m\n\u001b[1;32m   3624\u001b[0m \u001b[38;5;28;01mexcept\u001b[39;00m \u001b[38;5;167;01mTypeError\u001b[39;00m:\n\u001b[1;32m   3625\u001b[0m     \u001b[38;5;66;03m# If we have a listlike key, _check_indexing_error will raise\u001b[39;00m\n\u001b[1;32m   3626\u001b[0m     \u001b[38;5;66;03m#  InvalidIndexError. Otherwise we fall through and re-raise\u001b[39;00m\n\u001b[1;32m   3627\u001b[0m     \u001b[38;5;66;03m#  the TypeError.\u001b[39;00m\n\u001b[1;32m   3628\u001b[0m     \u001b[38;5;28mself\u001b[39m\u001b[38;5;241m.\u001b[39m_check_indexing_error(key)\n",
      "\u001b[0;31mKeyError\u001b[0m: 29800"
     ]
    }
   ],
   "source": [
    "num_reps = 1\n",
    "\n",
    "results = {'reward': {}, 'ndcg': {}}\n",
    "for p_name, policy_gen in policies.items():\n",
    "    start_ts = time.time()\n",
    "    rews = np.zeros((num_reps, times))\n",
    "    ndcgs = np.zeros((num_reps, times))\n",
    "    for rep in range(num_reps):\n",
    "        policy = policy_gen()\n",
    "        reward, ndcg = evaluate_policy(policy, times, dataset, tune=True)\n",
    "        rews[rep, :] = reward.flatten()\n",
    "        ndcgs[rep, :] = ndcg.flatten()\n",
    "    reward = np.mean(rews, axis=0)\n",
    "    ndcg = np.mean(ndcgs, axis=0)\n",
    "    results['reward'][p_name] = reward\n",
    "    results['ndcg'][p_name] = ndcg\n",
    "    print(f\"Total reward of {p_name} is {reward[-1]}\")\n",
    "    print(f\"Total time of {p_name} is {datetime.timedelta(seconds=time.time() - start_ts)}\")"
   ]
  },
  {
   "cell_type": "code",
   "execution_count": 14,
   "id": "71e44640",
   "metadata": {},
   "outputs": [
    {
     "name": "stdout",
     "output_type": "stream",
     "text": [
      "> \u001b[0;32m/Users/sbokupripeku/miniforge3/envs/reduction_bandits/lib/python3.10/site-packages/pandas/core/indexes/base.py\u001b[0m(3623)\u001b[0;36mget_loc\u001b[0;34m()\u001b[0m\n",
      "\u001b[0;32m   3621 \u001b[0;31m                \u001b[0;32mreturn\u001b[0m \u001b[0mself\u001b[0m\u001b[0;34m.\u001b[0m\u001b[0m_engine\u001b[0m\u001b[0;34m.\u001b[0m\u001b[0mget_loc\u001b[0m\u001b[0;34m(\u001b[0m\u001b[0mcasted_key\u001b[0m\u001b[0;34m)\u001b[0m\u001b[0;34m\u001b[0m\u001b[0;34m\u001b[0m\u001b[0m\n",
      "\u001b[0m\u001b[0;32m   3622 \u001b[0;31m            \u001b[0;32mexcept\u001b[0m \u001b[0mKeyError\u001b[0m \u001b[0;32mas\u001b[0m \u001b[0merr\u001b[0m\u001b[0;34m:\u001b[0m\u001b[0;34m\u001b[0m\u001b[0;34m\u001b[0m\u001b[0m\n",
      "\u001b[0m\u001b[0;32m-> 3623 \u001b[0;31m                \u001b[0;32mraise\u001b[0m \u001b[0mKeyError\u001b[0m\u001b[0;34m(\u001b[0m\u001b[0mkey\u001b[0m\u001b[0;34m)\u001b[0m \u001b[0;32mfrom\u001b[0m \u001b[0merr\u001b[0m\u001b[0;34m\u001b[0m\u001b[0;34m\u001b[0m\u001b[0m\n",
      "\u001b[0m\u001b[0;32m   3624 \u001b[0;31m            \u001b[0;32mexcept\u001b[0m \u001b[0mTypeError\u001b[0m\u001b[0;34m:\u001b[0m\u001b[0;34m\u001b[0m\u001b[0;34m\u001b[0m\u001b[0m\n",
      "\u001b[0m\u001b[0;32m   3625 \u001b[0;31m                \u001b[0;31m# If we have a listlike key, _check_indexing_error will raise\u001b[0m\u001b[0;34m\u001b[0m\u001b[0;34m\u001b[0m\u001b[0m\n",
      "\u001b[0m\n",
      "ipdb> up\n",
      "> \u001b[0;32m/Users/sbokupripeku/miniforge3/envs/reduction_bandits/lib/python3.10/site-packages/pandas/core/series.py\u001b[0m(1069)\u001b[0;36m_get_value\u001b[0;34m()\u001b[0m\n",
      "\u001b[0;32m   1067 \u001b[0;31m\u001b[0;34m\u001b[0m\u001b[0m\n",
      "\u001b[0m\u001b[0;32m   1068 \u001b[0;31m        \u001b[0;31m# Similar to Index.get_value, but we do not fall back to positional\u001b[0m\u001b[0;34m\u001b[0m\u001b[0;34m\u001b[0m\u001b[0m\n",
      "\u001b[0m\u001b[0;32m-> 1069 \u001b[0;31m        \u001b[0mloc\u001b[0m \u001b[0;34m=\u001b[0m \u001b[0mself\u001b[0m\u001b[0;34m.\u001b[0m\u001b[0mindex\u001b[0m\u001b[0;34m.\u001b[0m\u001b[0mget_loc\u001b[0m\u001b[0;34m(\u001b[0m\u001b[0mlabel\u001b[0m\u001b[0;34m)\u001b[0m\u001b[0;34m\u001b[0m\u001b[0;34m\u001b[0m\u001b[0m\n",
      "\u001b[0m\u001b[0;32m   1070 \u001b[0;31m        \u001b[0;32mreturn\u001b[0m \u001b[0mself\u001b[0m\u001b[0;34m.\u001b[0m\u001b[0mindex\u001b[0m\u001b[0;34m.\u001b[0m\u001b[0m_get_values_for_loc\u001b[0m\u001b[0;34m(\u001b[0m\u001b[0mself\u001b[0m\u001b[0;34m,\u001b[0m \u001b[0mloc\u001b[0m\u001b[0;34m,\u001b[0m \u001b[0mlabel\u001b[0m\u001b[0;34m)\u001b[0m\u001b[0;34m\u001b[0m\u001b[0;34m\u001b[0m\u001b[0m\n",
      "\u001b[0m\u001b[0;32m   1071 \u001b[0;31m\u001b[0;34m\u001b[0m\u001b[0m\n",
      "\u001b[0m\n",
      "ipdb> up\n",
      "> \u001b[0;32m/Users/sbokupripeku/miniforge3/envs/reduction_bandits/lib/python3.10/site-packages/pandas/core/series.py\u001b[0m(958)\u001b[0;36m__getitem__\u001b[0;34m()\u001b[0m\n",
      "\u001b[0;32m    956 \u001b[0;31m\u001b[0;34m\u001b[0m\u001b[0m\n",
      "\u001b[0m\u001b[0;32m    957 \u001b[0;31m        \u001b[0;32melif\u001b[0m \u001b[0mkey_is_scalar\u001b[0m\u001b[0;34m:\u001b[0m\u001b[0;34m\u001b[0m\u001b[0;34m\u001b[0m\u001b[0m\n",
      "\u001b[0m\u001b[0;32m--> 958 \u001b[0;31m            \u001b[0;32mreturn\u001b[0m \u001b[0mself\u001b[0m\u001b[0;34m.\u001b[0m\u001b[0m_get_value\u001b[0m\u001b[0;34m(\u001b[0m\u001b[0mkey\u001b[0m\u001b[0;34m)\u001b[0m\u001b[0;34m\u001b[0m\u001b[0;34m\u001b[0m\u001b[0m\n",
      "\u001b[0m\u001b[0;32m    959 \u001b[0;31m\u001b[0;34m\u001b[0m\u001b[0m\n",
      "\u001b[0m\u001b[0;32m    960 \u001b[0;31m        \u001b[0;32mif\u001b[0m \u001b[0mis_hashable\u001b[0m\u001b[0;34m(\u001b[0m\u001b[0mkey\u001b[0m\u001b[0;34m)\u001b[0m\u001b[0;34m:\u001b[0m\u001b[0;34m\u001b[0m\u001b[0;34m\u001b[0m\u001b[0m\n",
      "\u001b[0m\n",
      "ipdb> up\n",
      "> \u001b[0;32m/Users/sbokupripeku/git/work/examples/reduction_bandits/data_loading/recommender_dataset.py\u001b[0m(205)\u001b[0;36mgenerate_users\u001b[0;34m()\u001b[0m\n",
      "\u001b[0;32m    203 \u001b[0;31m        \u001b[0;32mif\u001b[0m \u001b[0;34m\"timestamp\"\u001b[0m \u001b[0;32min\u001b[0m \u001b[0muser_stream\u001b[0m\u001b[0;34m.\u001b[0m\u001b[0mcolumns\u001b[0m\u001b[0;34m:\u001b[0m\u001b[0;34m\u001b[0m\u001b[0;34m\u001b[0m\u001b[0m\n",
      "\u001b[0m\u001b[0;32m    204 \u001b[0;31m            print(\n",
      "\u001b[0m\u001b[0;32m--> 205 \u001b[0;31m                \u001b[0;34mf\"First user in exp from {datetime.fromtimestamp(user_stream.timestamp[ind_start])}\"\u001b[0m\u001b[0;34m\u001b[0m\u001b[0;34m\u001b[0m\u001b[0m\n",
      "\u001b[0m\u001b[0;32m    206 \u001b[0;31m            )\n",
      "\u001b[0m\u001b[0;32m    207 \u001b[0;31m            print(\n",
      "\u001b[0m\n",
      "ipdb> user_stream\n",
      "               user_id   timestamp\n",
      "270647  A37U7LQGKWXCG3  1427068800\n",
      "160005  A1O8ZHMUU688KD  1409788800\n",
      "531990  A1P12P4EU026XT  1476403200\n",
      "378682  A1SW1OQY9FA22V  1447804800\n",
      "665070   AWWEWDNR8DWJM  1508976000\n",
      "...                ...         ...\n",
      "701350  A1NK40SI1D1OTR  1521158400\n",
      "663731   AHMY9LD9CGLFA  1508457600\n",
      "498656  A1ACNUID6590I0  1469145600\n",
      "483120  A338B7CNIEWZ6S  1465776000\n",
      "79616   A3K1E76NL2E8L0  1388102400\n",
      "\n",
      "[30000 rows x 2 columns]\n",
      "ipdb> user_stream.timestamp\n",
      "270647    1427068800\n",
      "160005    1409788800\n",
      "531990    1476403200\n",
      "378682    1447804800\n",
      "665070    1508976000\n",
      "             ...    \n",
      "701350    1521158400\n",
      "663731    1508457600\n",
      "498656    1469145600\n",
      "483120    1465776000\n",
      "79616     1388102400\n",
      "Name: timestamp, Length: 30000, dtype: int64\n",
      "ipdb> ind_start\n",
      "29800\n",
      "ipdb> user_stream.timestamp\n",
      "270647    1427068800\n",
      "160005    1409788800\n",
      "531990    1476403200\n",
      "378682    1447804800\n",
      "665070    1508976000\n",
      "             ...    \n",
      "701350    1521158400\n",
      "663731    1508457600\n",
      "498656    1469145600\n",
      "483120    1465776000\n",
      "79616     1388102400\n",
      "Name: timestamp, Length: 30000, dtype: int64\n",
      "ipdb> user_stream.timestamp[2]\n",
      "*** KeyError: 2\n",
      "ipdb> type(user_stream.timestamp)\n",
      "<class 'pandas.core.series.Series'>\n",
      "ipdb> user_stream.timestamp\n",
      "270647    1427068800\n",
      "160005    1409788800\n",
      "531990    1476403200\n",
      "378682    1447804800\n",
      "665070    1508976000\n",
      "             ...    \n",
      "701350    1521158400\n",
      "663731    1508457600\n",
      "498656    1469145600\n",
      "483120    1465776000\n",
      "79616     1388102400\n",
      "Name: timestamp, Length: 30000, dtype: int64\n",
      "ipdb> user_stream.timestamp.iloc[29800]\n",
      "1363996800\n",
      "ipdb> q\n"
     ]
    }
   ],
   "source": [
    "%debug"
   ]
  },
  {
   "cell_type": "markdown",
   "id": "d780347d",
   "metadata": {},
   "source": [
    "### Plot results"
   ]
  },
  {
   "cell_type": "code",
   "execution_count": null,
   "id": "4366b4de",
   "metadata": {},
   "outputs": [],
   "source": [
    "plot_ndcg(results['ndcg'])"
   ]
  },
  {
   "cell_type": "code",
   "execution_count": null,
   "id": "62b1f8bc",
   "metadata": {},
   "outputs": [],
   "source": [
    "plot_ctrs(results['reward'])"
   ]
  },
  {
   "cell_type": "code",
   "execution_count": null,
   "id": "e8ad73d7",
   "metadata": {},
   "outputs": [],
   "source": [
    "print(f\"Total time is {datetime.timedelta(seconds=time.time() - total_start_ts)}\")"
   ]
  },
  {
   "cell_type": "code",
   "execution_count": null,
   "id": "e496a615",
   "metadata": {},
   "outputs": [],
   "source": []
  }
 ],
 "metadata": {
  "kernelspec": {
   "display_name": "Python 3 (ipykernel)",
   "language": "python",
   "name": "python3"
  },
  "language_info": {
   "codemirror_mode": {
    "name": "ipython",
    "version": 3
   },
   "file_extension": ".py",
   "mimetype": "text/x-python",
   "name": "python",
   "nbconvert_exporter": "python",
   "pygments_lexer": "ipython3",
   "version": "3.10.6"
  },
  "toc": {
   "base_numbering": 1,
   "nav_menu": {},
   "number_sections": true,
   "sideBar": true,
   "skip_h1_title": false,
   "title_cell": "Table of Contents",
   "title_sidebar": "Contents",
   "toc_cell": false,
   "toc_position": {},
   "toc_section_display": true,
   "toc_window_display": false
  }
 },
 "nbformat": 4,
 "nbformat_minor": 5
}
