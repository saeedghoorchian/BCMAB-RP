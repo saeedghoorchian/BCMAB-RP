{
 "cells": [
  {
   "cell_type": "code",
   "execution_count": 1,
   "id": "6a244c4b",
   "metadata": {},
   "outputs": [],
   "source": [
    "%load_ext autoreload\n",
    "%autoreload 2"
   ]
  },
  {
   "cell_type": "code",
   "execution_count": 2,
   "id": "226beafc",
   "metadata": {},
   "outputs": [],
   "source": [
    "import os\n",
    "os.chdir('..')"
   ]
  },
  {
   "cell_type": "code",
   "execution_count": 3,
   "id": "2decddce",
   "metadata": {},
   "outputs": [],
   "source": [
    "import datetime\n",
    "import numpy as np\n",
    "import pandas as pd\n",
    "import matplotlib.pyplot as plt\n",
    "import time\n",
    "\n",
    "from data_loading import get_movielens_data\n",
    "from evaluation import evaluate_policy\n",
    "from policies.bcmabrp import BCMABRP\n",
    "from policies.cbrap import CBRAP\n",
    "from policies.linucb import LinUCB\n",
    "from policies.linear_ts import LinearTS\n",
    "from policies.d_lin_ts import DLinTS\n",
    "from policies.random import RandomPolicy\n",
    "from policies.egreedy import EGreedy\n",
    "from reduct_matrix import get_reduct_matrix\n",
    "\n",
    "from sklearn.model_selection import train_test_split"
   ]
  },
  {
   "cell_type": "code",
   "execution_count": 4,
   "id": "fd119b55",
   "metadata": {},
   "outputs": [],
   "source": [
    "# Reproducibility\n",
    "seed = 42\n",
    "np.random.seed(seed)"
   ]
  },
  {
   "cell_type": "code",
   "execution_count": 5,
   "id": "59018d4f",
   "metadata": {},
   "outputs": [],
   "source": [
    "dataset = get_movielens_data()"
   ]
  },
  {
   "cell_type": "code",
   "execution_count": 6,
   "id": "d67fa688",
   "metadata": {},
   "outputs": [],
   "source": [
    "red_dim = 24\n",
    "reduct_matrix = get_reduct_matrix(\"movielens\", red_dim, load_old_reduct_matrix=False)"
   ]
  },
  {
   "cell_type": "code",
   "execution_count": 7,
   "id": "4f4a4e0c",
   "metadata": {},
   "outputs": [],
   "source": [
    "times = 5000"
   ]
  },
  {
   "cell_type": "code",
   "execution_count": 8,
   "id": "62bec660",
   "metadata": {},
   "outputs": [],
   "source": [
    "def plot_ctrs(reward_dict):\n",
    "    fig, ax = plt.subplots(1,1, figsize=(15, 7));\n",
    "    \n",
    "    N = 100\n",
    "    \n",
    "    reward_list = sorted(\n",
    "        [\n",
    "            (l,r) for l, r in reward_dict.items()\n",
    "        ],\n",
    "        key=lambda x: x[1][-1],\n",
    "        reverse=True,\n",
    "    )\n",
    "    \n",
    "    for label, reward in reward_list:\n",
    "        times = (range(1, len(reward)+1))\n",
    "        ctr = [r/t for r,t in zip(reward, times)]\n",
    "        ax.plot(ctr[N:], label=label)\n",
    "        \n",
    "    ax.set_xlabel('Trial')\n",
    "    ax.set_ylabel('CTR')\n",
    "    ax.set_title('CTR on MovieLens')\n",
    "\n",
    "    plt.legend();\n",
    "    plt.show();"
   ]
  },
  {
   "cell_type": "code",
   "execution_count": 9,
   "id": "6b2d17b4",
   "metadata": {},
   "outputs": [],
   "source": [
    "def plot_ndcg(cumulative_ndcg_dict):\n",
    "    fig, ax = plt.subplots(1,1, figsize=(15, 7));\n",
    "    \n",
    "    N = 100\n",
    "    \n",
    "    cumulative_ndcg_list = sorted(\n",
    "        [\n",
    "            (l,r) for l, r in cumulative_ndcg_dict.items()\n",
    "        ],\n",
    "        key=lambda x: x[1][-1],\n",
    "        reverse=True,\n",
    "    )\n",
    "    \n",
    "    for label, cumulative_ndcg in cumulative_ndcg_list:\n",
    "        times = (range(1, len(cumulative_ndcg)+1))\n",
    "        average_cumulative_ndcg = [cn/t for cn,t in zip(cumulative_ndcg, times)]\n",
    "        ax.plot(average_cumulative_ndcg[N:], label=label)\n",
    "        \n",
    "    ax.set_xlabel('Trial')\n",
    "    ax.set_ylabel('Average Cumulative NDCG@5')\n",
    "    ax.set_title('Average Cumulative NDCG@5 on MovieLens')\n",
    "\n",
    "    plt.legend();\n",
    "    plt.show();"
   ]
  },
  {
   "cell_type": "markdown",
   "id": "2199e138",
   "metadata": {},
   "source": [
    "### Define policies"
   ]
  },
  {
   "cell_type": "code",
   "execution_count": 10,
   "id": "41930420",
   "metadata": {},
   "outputs": [],
   "source": [
    "total_start_ts = time.time()"
   ]
  },
  {
   "cell_type": "code",
   "execution_count": 11,
   "id": "90d35113",
   "metadata": {},
   "outputs": [],
   "source": [
    "ctx_dim = 120\n",
    "\n",
    "\n",
    "policies = {\n",
    "#     'BCMABRP': BCMABRP(context_dimension=ctx_dim, red_dim=red_dim, reduct_matrix=reduct_matrix, nu=0.65, seed=seed),\n",
    "#     'CBRAP': CBRAP(context_dimension=ctx_dim, red_dim=red_dim, reduct_matrix=reduct_matrix, alpha=0.5),\n",
    "#     'EGreedy': EGreedy(epsilon=0.6),\n",
    "    'DLinTS': DLinTS(context_dimension=ctx_dim, time_horizon=times,  gamma=0.9999, a=0.2,  seed=seed),\n",
    "    'DLinTS def a': DLinTS(context_dimension=ctx_dim, time_horizon=times, gamma=0.2, a=None,  seed=seed),\n",
    "#     'LinearTS': LinearTS(context_dimension=ctx_dim, nu=0.2, seed=seed),\n",
    "#     'LinUCB': LinUCB(context_dimension=ctx_dim, alpha=0.5),\n",
    "    'Random': RandomPolicy(),\n",
    "}"
   ]
  },
  {
   "cell_type": "code",
   "execution_count": null,
   "id": "b638e78d",
   "metadata": {},
   "outputs": [],
   "source": []
  },
  {
   "cell_type": "markdown",
   "id": "63ef60fb",
   "metadata": {},
   "source": [
    "### Run evaluation"
   ]
  },
  {
   "cell_type": "code",
   "execution_count": null,
   "id": "4c2f004c",
   "metadata": {
    "scrolled": true
   },
   "outputs": [
    {
     "name": "stdout",
     "output_type": "stream",
     "text": [
      "Using evaluation dataset\n",
      "First user in exp from 2009-01-02 22:46:26\n",
      "Last user in exp from 2009-01-05 05:52:22\n",
      "0\n"
     ]
    }
   ],
   "source": [
    "results = {'reward': {}, 'ndcg': {}}\n",
    "for p_name, policy in policies.items():\n",
    "    start_ts = time.time()\n",
    "\n",
    "    reward, ndcg = evaluate_policy(policy, times, dataset)\n",
    "    results['reward'][p_name] = reward\n",
    "    results['ndcg'][p_name] = ndcg\n",
    "    print(f\"Total reward of {p_name} is {reward[-1][0]}\")\n",
    "    print(f\"Total time of {p_name} is {datetime.timedelta(seconds=time.time() - start_ts)}\")"
   ]
  },
  {
   "cell_type": "code",
   "execution_count": null,
   "id": "590bdc89",
   "metadata": {},
   "outputs": [],
   "source": []
  },
  {
   "cell_type": "markdown",
   "id": "d780347d",
   "metadata": {},
   "source": [
    "### Plot results"
   ]
  },
  {
   "cell_type": "code",
   "execution_count": null,
   "id": "4366b4de",
   "metadata": {},
   "outputs": [],
   "source": [
    "plot_ndcg(results['ndcg'])"
   ]
  },
  {
   "cell_type": "code",
   "execution_count": null,
   "id": "62b1f8bc",
   "metadata": {},
   "outputs": [],
   "source": [
    "plot_ctrs(results['reward'])"
   ]
  },
  {
   "cell_type": "code",
   "execution_count": null,
   "id": "e8ad73d7",
   "metadata": {},
   "outputs": [],
   "source": [
    "print(f\"Total time is {datetime.timedelta(seconds=time.time() - total_start_ts)}\")"
   ]
  },
  {
   "cell_type": "code",
   "execution_count": null,
   "id": "e496a615",
   "metadata": {},
   "outputs": [],
   "source": [
    "list(results['reward']['DLinTS'].flatten()[-20:])"
   ]
  },
  {
   "cell_type": "code",
   "execution_count": null,
   "id": "a769cd59",
   "metadata": {},
   "outputs": [],
   "source": []
  }
 ],
 "metadata": {
  "kernelspec": {
   "display_name": "Python 3 (ipykernel)",
   "language": "python",
   "name": "python3"
  },
  "language_info": {
   "codemirror_mode": {
    "name": "ipython",
    "version": 3
   },
   "file_extension": ".py",
   "mimetype": "text/x-python",
   "name": "python",
   "nbconvert_exporter": "python",
   "pygments_lexer": "ipython3",
   "version": "3.10.6"
  },
  "toc": {
   "base_numbering": 1,
   "nav_menu": {},
   "number_sections": true,
   "sideBar": true,
   "skip_h1_title": false,
   "title_cell": "Table of Contents",
   "title_sidebar": "Contents",
   "toc_cell": false,
   "toc_position": {},
   "toc_section_display": true,
   "toc_window_display": false
  }
 },
 "nbformat": 4,
 "nbformat_minor": 5
}
